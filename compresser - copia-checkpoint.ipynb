{
 "cells": [
  {
   "cell_type": "code",
   "execution_count": 1,
   "id": "61ed7718",
   "metadata": {},
   "outputs": [],
   "source": [
    "import os\n",
    "import zipfile\n",
    "import multiprocessing"
   ]
  },
  {
   "cell_type": "code",
   "execution_count": 2,
   "id": "1eba32b5",
   "metadata": {},
   "outputs": [],
   "source": [
    "main_directory = \"P:/Regulacion/49 Encargo MinHac 20-22/08 FSUE-DANA/03 Entregables/1. Informes VAD y VST - copia\""
   ]
  },
  {
   "cell_type": "code",
   "execution_count": null,
   "id": "9249489d",
   "metadata": {
    "scrolled": false
   },
   "outputs": [
    {
     "name": "stdout",
     "output_type": "stream",
     "text": [
      "A.P. Cartagena\n",
      "Aena\n",
      "Almoradí\n",
      "Ayuntamiento de Abanilla\n",
      "Ayuntamiento de Abarán\n",
      "Ayuntamiento de Agullent\n",
      "Ayuntamiento de Albaida\n",
      "Ayuntamiento de Albatera\n",
      "Ayuntamiento de Alcóntar\n",
      "Ayuntamiento de Algorfa\n",
      "Ayuntamiento de Alhaurín de la Torre\n",
      "Ayuntamiento de Almansa\n",
      "Ayuntamiento de Almería\n",
      "Ayuntamiento de Arboleas\n",
      "Ayuntamiento de Archena\n",
      "Ayuntamiento de Archidona\n",
      "Ayuntamiento de Baza\n",
      "Ayuntamiento de Beniel\n",
      "Ayuntamiento de Bigastro\n",
      "Ayuntamiento de Blanca\n",
      "Ayuntamiento de Chauchina\n",
      "Ayuntamiento de Cieza\n",
      "Ayuntamiento de Cocentaina\n",
      "Ayuntamiento de Coín\n",
      "Ayuntamiento de Crevillent\n",
      "Ayuntamiento de Denia\n",
      "Ayuntamiento de Fuente-Álamo\n",
      "Ayuntamiento de Granada\n",
      "Ayuntamiento de Jacarilla\n",
      "Ayuntamiento de L-Ollería\n",
      "Ayuntamiento de Las Torres de Cotillas\n",
      "Ayuntamiento de Loja\n",
      "Ayuntamiento de Lorquí\n",
      "Ayuntamiento de Los Alcázares\n",
      "Ayuntamiento de Los Gallardos\n",
      "Ayuntamiento de L’Alqueria D’Asnar\n",
      "Ayuntamiento de Molina de Segura\n",
      "Ayuntamiento de Nerpio\n",
      "Ayuntamiento de Novelda\n",
      "Ayuntamiento de Níjar\n",
      "Ayuntamiento de Ojós\n",
      "Ayuntamiento de Olula del Río\n",
      "Ayuntamiento de Ontinyent\n",
      "Ayuntamiento de Orihuela\n",
      "Ayuntamiento de Otos\n",
      "Ayuntamiento de Parcent\n",
      "Ayuntamiento de Pilar de la Horadada\n",
      "Ayuntamiento de Pinos Genil\n",
      "Ayuntamiento de Puebla de Don Fadrique\n",
      "Ayuntamiento de Puerto Lumbreras\n",
      "Ayuntamiento de Pulpí\n",
      "Ayuntamiento de Purchena\n",
      "Ayuntamiento de Rioja\n",
      "Ayuntamiento de San Fulgencio\n",
      "Ayuntamiento de San Javier\n",
      "Ayuntamiento de Santomera\n",
      "Ayuntamiento de Serón\n",
      "Ayuntamiento de Taberno\n",
      "Ayuntamiento de Totana\n",
      "Ayuntamiento de Ulea\n",
      "Ayuntamiento de Vallada\n",
      "Ayuntamiento de Viveros\n",
      "Ayuntamiento de Zurgena\n",
      "Campos del Río\n",
      "Castilla La Mancha\n",
      "Castril\n",
      "Conf. Hidro.Júcar\n",
      "Conf.Hidro.Segura\n",
      "Daya Nueva\n",
      "Diputación de Almería\n",
      "Diputación Provincial de Granada\n",
      "Diputación Provincial de Málaga\n",
      "Dirección General de Carreteras (MITMA)\n",
      "Generalitat Valenciana\n",
      "Huescar\n",
      "Junta de Andalucía\n"
     ]
    }
   ],
   "source": [
    "archivos = {}\n",
    "for item in os.listdir(main_directory):\n",
    "    print(item)\n",
    "    if item != \"zip\":\n",
    "        for archives in os.walk(os.path.join(main_directory,item), topdown=False):\n",
    "            #print(archives)\n",
    "            #print(\"-------------\")\n",
    "            created_zip = zipfile.ZipFile(os.path.join(main_directory,\"zip\",item)+\".zip\", 'w')\n",
    "            archivos.update({item:len(archives[2])})\n",
    "            for archive in archives[2]:\n",
    "                created_zip.write(os.path.join(main_directory,item,archive),archive,compress_type = zipfile.ZIP_DEFLATED)\n",
    "            created_zip.close()\n",
    "archivos            "
   ]
  },
  {
   "cell_type": "code",
   "execution_count": null,
   "id": "831bd4df",
   "metadata": {},
   "outputs": [],
   "source": []
  }
 ],
 "metadata": {
  "kernelspec": {
   "display_name": "Python 3",
   "language": "python",
   "name": "python3"
  },
  "language_info": {
   "codemirror_mode": {
    "name": "ipython",
    "version": 3
   },
   "file_extension": ".py",
   "mimetype": "text/x-python",
   "name": "python",
   "nbconvert_exporter": "python",
   "pygments_lexer": "ipython3",
   "version": "3.8.11"
  }
 },
 "nbformat": 4,
 "nbformat_minor": 5
}
