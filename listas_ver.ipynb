{
 "cells": [
  {
   "cell_type": "code",
   "execution_count": 1,
   "id": "ffce66a1",
   "metadata": {},
   "outputs": [],
   "source": [
    "import os\n",
    "import csv\n",
    "import pandas as pd\n",
    "import re\n",
    "import xml.etree.ElementTree as ET\n",
    "import numpy as np"
   ]
  },
  {
   "cell_type": "code",
   "execution_count": 2,
   "id": "e7fb2621",
   "metadata": {},
   "outputs": [],
   "source": [
    "file = \"C:/Users/bllanos/Desktop/project1/prueba1/Marzo_2022/DANA/LIstas_ComprVer_admin.csv\""
   ]
  },
  {
   "cell_type": "code",
   "execution_count": 3,
   "id": "78b75969",
   "metadata": {},
   "outputs": [],
   "source": [
    "root = ET.Element(\"operacionesListas\")"
   ]
  },
  {
   "cell_type": "code",
   "execution_count": 4,
   "id": "6b9733d5",
   "metadata": {},
   "outputs": [],
   "source": [
    "with open(file) as f:\n",
    "    csv_reader = csv.DictReader(f,delimiter=\";\")\n",
    "    for row in csv_reader:\n",
    "        transacion = ET.SubElement(root,\"operacionLista\")\n",
    "        for k,v in row.items():\n",
    "            if v == \"\":\n",
    "                pass\n",
    "            else:\n",
    "                elemento = ET.SubElement(transacion,f\"{k}\")\n",
    "                elemento.text= f\"{v}\"\n",
    "                \n",
    "tree = ET.ElementTree(root)\n",
    "tree.write(\"C:/Users/bllanos/Desktop/project1/prueba1/Marzo_2022/DANA/LIstas_ComprVer_admin.xml\", encoding = \"UTF-8\", xml_declaration=True,)"
   ]
  },
  {
   "cell_type": "code",
   "execution_count": null,
   "id": "42c449d3",
   "metadata": {},
   "outputs": [],
   "source": []
  }
 ],
 "metadata": {
  "kernelspec": {
   "display_name": "Python 3",
   "language": "python",
   "name": "python3"
  },
  "language_info": {
   "codemirror_mode": {
    "name": "ipython",
    "version": 3
   },
   "file_extension": ".py",
   "mimetype": "text/x-python",
   "name": "python",
   "nbconvert_exporter": "python",
   "pygments_lexer": "ipython3",
   "version": "3.8.11"
  }
 },
 "nbformat": 4,
 "nbformat_minor": 5
}
