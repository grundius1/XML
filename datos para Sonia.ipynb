{
 "cells": [
  {
   "cell_type": "code",
   "execution_count": 1,
   "id": "2da52289",
   "metadata": {},
   "outputs": [],
   "source": [
    "import os\n",
    "import pandas as pd"
   ]
  },
  {
   "cell_type": "code",
   "execution_count": 2,
   "id": "59b566f5",
   "metadata": {},
   "outputs": [],
   "source": [
    "pd.set_option('display.max_rows', None)"
   ]
  },
  {
   "cell_type": "code",
   "execution_count": 3,
   "id": "5704ef70",
   "metadata": {},
   "outputs": [],
   "source": [
    "ayuntamientos = {'ABANILLA': ['ES330024_1', 'GASTOS DANA AYUNTAMIENTO DE ABANILLA', 'ES330024'],\n",
    " 'ABARÁN': ['ES330031_1', 'GASTOS DANA AYUNTAMIENTO DE ABARÁN', 'ES330031'],\n",
    " 'AENA': ['ES117023_1', 'GASTOS DANA AENA (MITMA)', 'ES117023'],\n",
    " 'AGULLENT': ['ES303050_1','GASTOS DANA AYUNTAMIENTO DE AGULLENT','ES303050'],\n",
    " 'ALBAIDA': ['ES346012_1', 'GASTOS DANA AYUNTAMIENTO DE ALBAIDA', 'ES346012'],\n",
    " 'ALBATERA': ['ES303044_1','GASTOS DANA AYUNTAMIENTO DE ALBATERA','ES303044'],\n",
    " 'ALCAUCÍN-RENUNCIA': ['ES329032_1','GASTOS DANA AYUNTAMIENTO DE ALCAUCÍN','ES329032'],\n",
    " 'ALCÁZARES-MAC': ['ES330025_1','GASTOS DANA AYUNTAMIENTO DE ALCÁZARES, LOS','ES330025'],\n",
    " 'ALCÓNTAR-JRL': ['ES304029_1','GASTOS DANA AYUNTAMIENTO DE ALCÓNTAR', 'ES304029'],\n",
    " 'ALGORFA': ['ES303016_1', 'GASTOS DANA AYUNTAMIENTO DE ALGORFA', 'ES303016'],\n",
    " 'ALHAURÍN DE LA TORRE': ['ES329005_1','GASTOS DANA AYUNTAMIENTO DE ALHAURÍN DE LA TORRE','ES329005'],\n",
    " 'ALMANSA': ['ES302002_1', 'GASTOS DANA AYUNTAMIENTO DE ALMANSA', 'ES302002'],\n",
    " 'ALMERÍA': ['ES304004_1', 'GASTOS DANA AYUNTAMIENTO DE ALMERÍA', 'ES304004'],\n",
    " 'ALMORADÍ': ['ES303017_1','GASTOS DANA AYUNTAMIENTO DE ALMORADÍ','ES303017'],\n",
    " 'ALQUERIA DE AZNAR': ['ES303018_1', \"GASTOS DANA AYUNTAMIENTO DE ALQUERIA D'ASNAR, L'\", 'ES303018'],\n",
    " 'AP CARTAGENA': ['ES117025_1', 'GASTOS DANA AUTORIDAD PORTUARIA CARTAGENA (MITMA)', 'ES11702'],\n",
    " 'ARBOLEAS': ['ES304025_1','GASTOS DANA AYUNTAMIENTO DE ARBOLEAS','ES304025'],\n",
    " 'ARCHENA': ['ES330005_1', 'GASTOS DANA AYUNTAMIENTO DE ARCHENA', 'ES330005'],\n",
    " 'ARCHIDONA': ['ES329023_1','GASTOS DANA AYUNTAMIENTO DE ARCHIDONA','ES329023'],\n",
    " 'BAZA': ['ES318001_1', 'GASTOS DANA AYUNTAMIENTO DE BAZA', 'ES318001'],\n",
    " 'BENIEL': ['ES330013_1', 'GASTOS DANA AYUNTAMIENTO DE BENIEL', 'ES330013'],\n",
    " #'BIENSERVIDA-RENUNCIA': [],\n",
    " 'BIGASTRO': ['ES303051_1','GASTOS DANA AYUNTAMIENTO DE BIGASTRO', 'ES303051'],\n",
    " 'BLANCA': ['ES330015_1', 'GASTOS DANA AYUNTAMIENTO DE BLANCA', 'ES330015'],\n",
    " 'CAMPOS DEL RÍO': ['ES330030_1', 'GASTOS DANA AYUNTAMIENTO DE CAMPOS DEL RÍO', 'ES330030'],\n",
    " 'CARTAGENA': ['ES117025_1','GASTOS DANA AUTORIDAD PORTUARIA CARTAGENA (MITMA)', 'ES117025'],\n",
    " 'CASTILLA LA MANCHA': ['ES211001_1','GASTOS DANA COMUNIDAD AUTÓNOMA DE CASTILLA-LA MANCHA','ES211001'],\n",
    " 'CASTRIL-JRL': ['ES318054_1', 'GASTOS DANA AYUNTAMIENTO DE CASTRIL', 'ES318054'],\n",
    " 'CHAUCHINA': ['ES318053_1', 'GASTOS DANA AYUNTAMIENTO DE CHAUCHINA', 'ES318053'],\n",
    " 'CIEZA': ['ES330002_1', 'GASTOS DANA AYUNTAMIENTO DE CIEZA', 'ES330002'],\n",
    " 'COCENTAINA': ['ES303025_1', 'GASTOS DANA AYUNTAMIENTO DE COCENTAINA', 'ES303025'],\n",
    " 'CONF.HIDRO.JÚCAR-EBB': ['ES130001_1', 'GASTOS DANA  CONFEDERACION HIDROGRAFICA DEL JÚCAR, O.A. DEL MITECO', 'ES130001'],\n",
    " 'CONF.HIDRO.SEGURA-MAC': ['ES130006_1', 'GASTOS DANA CONFEDERACION HIDROGRAFICA DEL SEGURA, O.A. DEL MITECO', 'ES130006'],\n",
    " 'COX': ['ES303053_1', 'GASTOS DANA AYUNTAMIENTO DE COX', 'ES303053'],\n",
    " 'COÍN': ['ES329029_1', 'GASTOS DANA AYUNTAMIENTO DE COÍN', 'ES329029'],\n",
    " 'CREVILLENT': ['ES303047_1', 'GASTOS DANA AYUNTAMIENTO DE CREVILLENT', 'ES303047'],\n",
    " 'CUEVAS DEL CAMPO': ['ES318058_1', 'GASTOS DANA AYUNTAMIENTO DE CUEVAS DEL CAMPO', 'ES318058'],\n",
    " 'CULLAR': ['ES318056_1','GASTOS DANA AYUNTAMIENTO DE CÚLLAR','ES318056'],\n",
    " #'data_blp': [],\n",
    " 'DAYA NUEVA': ['ES303046_1', 'GASTOS DANA AYUNTAMIENTO DE DAYA NUEVA', 'ES303046'],\n",
    " 'DENIA': ['ES303026_1', 'GASTOS DANA AYUNTAMIENTO DE DÉNIA', 'ES303026'],\n",
    " 'DGCMTM y AU': ['ES117007_1', 'GASTOS DANA DG CARRETERASV (MITMA)', 'ES117007'],\n",
    " 'DP ALBACETE': ['ES302026_1', 'GASTOS DANA DIPUTACIÓN PROVINCIAL DE ALBACETE', 'ES302026'],\n",
    " 'DP ALMERÍA': ['ES304006_1', 'GASTOS DANA DIPUTACIÓN PROVINCIAL DE ALMERÍA', 'ES304006'],\n",
    " 'DP GRANADA': ['ES318007_1', 'GASTOS DANA DIPUTACIÓN PROVINCIAL DE GRANADA', 'ES318007'],\n",
    " 'DP MÁLAGA': ['ES329003_1', 'GASTOS DANA DIPUTACIÓN PROVINCIAL DE MÁLAGA', 'ES329003'],\n",
    " 'FUENTE-ÁLAMO': ['ES302052_1', 'GASTOS DANA AYUNTAMIENTO DE FUENTE-ÁLAMO', 'ES302052'],\n",
    " 'GALLARDOS': ['ES304026_1', 'GASTOS DANA AYUNTAMIENTO DE GALLARDOS, LOS', 'ES304026'],\n",
    " 'GENERALITAT VALENCIANA-EBB': ['ES209001_1', 'GASTOS DANA GENERALITAT VALENCIANA', 'ES209001'],\n",
    " 'GRANADA': ['ES318003_1', 'GASTOS DANA AYUNTAMIENTO DE GRANADA', 'ES318003'],\n",
    " 'HELLÍN': ['ES302051_1', 'GASTOS DANA AYUNTAMIENTO DE HELLÍN', 'ES302051'],\n",
    " 'HOYA GONZALO-JRL': ['ES302058_1', 'GASTOS DANA AYUNTAMIENTO DE HOYA-GONZALO', 'ES302058'],\n",
    " 'HUESCAR': ['ES318042_1', 'GASTOS DANA AYUNTAMIENTO DE HUÉSCAR', 'ES318042'],\n",
    " 'JACARILA': ['ES303052_1', 'GASTOS DANA AYUNTAMIENTO DE JACARILLA', 'ES303052'],\n",
    " 'JUNTA ANDALUCÍA-JOG': ['ES204001_1', 'GASTOS DANA JUNTA DE ANDALUCÍA', 'ES204001'],\n",
    " 'L-OLLERIA-JRL': ['ES130001_1', 'GASTOS DANA  CONFEDERACION HIDROGRAFICA DEL JÚCAR, O.A. DEL MITECO', 'ES130001'],\n",
    " 'LOJA': ['ES318055_1', 'GASTOS DANA AYUNTAMIENTO DE LOJA', 'ES318055'],\n",
    " 'LORCA': ['ES330028_1', 'GASTOS DANA AYUNTAMIENTO DE LORCA', 'ES330028'],\n",
    " 'LORCHA': ['ES303054_1', \"GASTOS DANA AYUNTAMIENTO DE LORCHA/ORXA, L'\", 'ES303054'],\n",
    " 'LORQUÍ': ['ES330017_1', 'GASTOS DANA AYUNTAMIENTO DE LORQUÍ', 'ES330017'],\n",
    " 'MINISTERIO DEFENSA-EBB': ['ES114007_1', 'GASTOS DANA MINISTERIO DE DEFENSA', 'ES114007'],\n",
    " 'MOLINA DEL SEGURA': ['ES330009_1', 'GASTOS DANA AYUNTAMIENTO DE MOLINA DE SEGURA', 'ES330009'],\n",
    " 'MOLINICOS': ['ES302018_1', 'GASTOS DANA AYUNTAMIENTO DE MOLINICOS', 'ES302018'],\n",
    " 'MONACHIL-JRL': ['ES318026_1', 'GASTOS DANA AYUNTAMIENTO DE MONACHIL', 'ES318026'],\n",
    " 'NERPIO': ['ES302023_1', 'GASTOS DANA AYUNTAMIENTO DE NERPIO', 'ES302023'],\n",
    " 'NIJAR-MAC': ['ES304007_1', 'GASTOS DANA AYUNTAMIENTO DE NÍJAR', 'ES304007'],\n",
    " 'NOVELDA-EBB': ['ES303045_1', 'GASTOS DANA AYUNTAMIENTO DE NOVELDA', 'ES303045'],\n",
    " 'OJÓS-JRL': ['ES330026_1', 'GASTOS DANA AYUNTAMIENTO DE OJÓS', 'ES330026'],\n",
    " 'OLULA DEL RÍO': ['ES304027_1', 'GASTOS DANA AYUNTAMIENTO DE OLULA DEL RÍO', 'ES304027'],\n",
    " 'ONTINYENT': ['ES346007_1', 'GASTOS DANA AYUNTAMIENTO DE ONTINYENT', 'ES346007'],\n",
    " 'ONTUR': ['ES302053_1', 'GASTOS DANA AYUNTAMIENTO DE ONTUR', 'ES302053'],\n",
    " 'ORIHUELA-MAC': ['ES303003_1', 'GASTOS DANA AYUNTAMIENTO DE ORIHUELA', 'ES303003'],\n",
    " 'OTOS': ['ES346081_1', 'GASTOS DANA AYUNTAMIENTO DE OTOS', 'ES346081'],\n",
    " 'PARCENT': ['ES303049_1', 'GASTOS DANA AYUNTAMIENTO DE PARCENT', 'ES303049'],\n",
    " 'PILAR DE LA HORADADA': ['ES303041_1', 'GASTOS DANA AYUNTAMIENTO DE PILAR DE LA HORADADA', 'ES303041'],\n",
    " 'PINOS GENIL-JRL': ['ES318057_1', 'GASTOS DANA AYUNTAMIENTO DE PINOS GENIL', 'ES318057'],\n",
    " 'PUEBLA DE DON FADRIQUE': ['ES318043_1', 'GASTOS DANA AYUNTAMIENTO DE PUEBLA DE DON FADRIQUE', 'ES318043'],\n",
    " 'PUERTO LUMBRERAS': ['ES330033_1', 'GASTOS DANA AYUNTAMIENTO DE PUERTO LUMBRERAS', 'ES330033'],\n",
    " 'PULPÍ': ['ES304016_1', 'GASTOS DANA AYUNTAMIENTO DE PULPÍ', 'ES304016'],\n",
    " 'PURCHENA': ['ES304019_1', 'GASTOS DANA AYUNTAMIENTO DE PURCHENA', 'ES304019'],\n",
    " 'REDOVÁN': ['ES303048_1', 'GASTOS DANA AYUNTAMIENTO DE REDOVÁN', 'ES303048'],\n",
    " 'REGIÓN DE MURCIA-DGM': ['ES208001_1', 'GASTOS DANA REGIÓN DE MURCIA', 'ES208001'],\n",
    " 'RENFE': ['ES117024_1', 'GASTOS DANA RENFE (MITMA)', 'ES117024'],\n",
    " 'RINCÓN DE LA VICTORIA': ['ES329011_1', 'GASTOS DANA AYUNTAMIENTO DE RINCÓN DE LA VICTORIA', 'ES329011'],\n",
    " 'RIOJA': ['ES304024_1', 'GASTOS DANA AYUNTAMIENTO DE RIOJA', 'ES304024'],\n",
    " 'SAN FULGENCIO': ['ES302057_1', 'GASTOS DANA AYUNTAMIENTO DE SAN FULGENCIO', 'ES302057'],\n",
    " 'SAN JAVIER': ['ES330001_1', 'GASTOS DANA AYUNTAMIENTO DE SAN JAVIER', 'ES330001'],\n",
    " 'SANTOMERA': ['ES330014_1', 'GASTOS DANA AYUNTAMIENTO DE SANTOMERA', 'ES330014'],\n",
    " 'SERÓN': ['ES304022_1', 'GASTOS DANA AYUNTAMIENTO DE SERÓN', 'ES304022'],\n",
    " 'TABERNO': ['ES304030_1', 'GASTOS DANA AYUNTAMIENTO DE TABERNO', 'ES304030'],\n",
    " 'TORRE PACHECO-DGM': ['ES330010_1', 'GASTOS DANA AYUNTAMIENTO DE TORRE-PACHECO', 'ES330010'],\n",
    " 'TORRES DE COTILLAS': ['ES330008_1', 'GASTOS DANA AYUNTAMIENTO DE TORRES DE COTILLAS, LAS', 'ES330008'],\n",
    " 'TOTANA-JRL': ['ES330032_1', 'GASTOS DANA AYUNTAMIENTO DE TOTANA', 'ES330032'],\n",
    " 'TÍJOLA': ['ES304028_1', 'GASTOS DANA AYUNTAMIENTO DE TÍJOLA', 'ES304028'],\n",
    " 'ULEA': ['ES330029_1', 'GASTOS DANA AYUNTAMIENTO DE ULEA', 'ES330029'],\n",
    " 'UNIÓN': ['ES330027_1', 'GASTOS DANA AYUNTAMIENTO DE UNIÓN, LA', 'ES330027'],\n",
    " 'URRACAL': ['ES304031_1', 'GASTOS DANA AYUNTAMIENTO DE URRÁCAL', 'ES304031'],\n",
    " 'VALLADA': ['ES312038_1', 'GASTOS DANA AYUNTAMIENTO DE VALLADA', 'ES312038'],\n",
    " 'VILLANUEVA DEL RIO SEGURA': ['ES330018_1', 'GASTOS DANA AYUNTAMIENTO DE VILLANUEVA DEL RÍO SEGURA', 'ES330018'],\n",
    " 'VIVEROS-JRL': ['ES302030_1', 'GASTOS DANA AYUNTAMIENTO DE VIVEROS', 'ES302030'],\n",
    " 'VÉLEZ': ['ES329014_1', 'GASTOS DANA AYUNTAMIENTO DE VÉLEZ-MÁLAGA', 'ES329014'],\n",
    " 'ZURGENA': ['ES304023_1', 'GASTOS DANA AYUNTAMIENTO DE ZURGENA', 'ES304023']}"
   ]
  },
  {
   "cell_type": "code",
   "execution_count": 4,
   "id": "dfbb0af4",
   "metadata": {},
   "outputs": [],
   "source": [
    "fichero_padre = \"C:/Users/bllanos/Desktop/Simulacion_dana\""
   ]
  },
  {
   "cell_type": "code",
   "execution_count": 5,
   "id": "03a395b4",
   "metadata": {},
   "outputs": [],
   "source": [
    "def ayuntamientos_con_el_fichero(aytsdic):\n",
    "    aytos_sin_fichero = {}\n",
    "    for k,v in aytsdic.items():\n",
    "        if \"Justificacion_FSUE-DANA.xlsx\" not in os.listdir(os.path.join(fichero_padre,k)):\n",
    "            aytos_sin_fichero.update({k: os.listdir(os.path.join(fichero_padre,k))[4:]})\n",
    "    return aytos_sin_fichero"
   ]
  },
  {
   "cell_type": "code",
   "execution_count": 6,
   "id": "e357a6e1",
   "metadata": {},
   "outputs": [],
   "source": [
    "sin_fichero = ayuntamientos_con_el_fichero(ayuntamientos)"
   ]
  },
  {
   "cell_type": "code",
   "execution_count": 7,
   "id": "24e8d0ae",
   "metadata": {},
   "outputs": [
    {
     "data": {
      "text/plain": [
       "({'ALCAUCÍN-RENUNCIA': [],\n",
       "  'COX': [],\n",
       "  'LOJA': ['Justificacion_FSUE-DANA.ods'],\n",
       "  'PINOS GENIL-JRL': ['DOC RECIBIDA', 'EXC-CTRL-DOC-OP-DANA-PINOS GENIL.xlsx'],\n",
       "  'RENFE': [],\n",
       "  'TABERNO': ['Justificacion_FSUE-DANA.ods'],\n",
       "  'VALLADA': [],\n",
       "  'VÉLEZ': []},\n",
       " 8)"
      ]
     },
     "execution_count": 7,
     "metadata": {},
     "output_type": "execute_result"
    }
   ],
   "source": [
    "sin_fichero, len(sin_fichero)"
   ]
  },
  {
   "cell_type": "code",
   "execution_count": 8,
   "id": "60601111",
   "metadata": {},
   "outputs": [],
   "source": [
    "def get_df_facturas(filepath):\n",
    "    df = pd.read_excel(filepath, sheet_name= \"2. DATOS BÁSICOS FACTURAS\")\n",
    "    df.dropna(thresh=6,inplace=True)\n",
    "    df.columns = df.iloc[0]\n",
    "    df.drop(df.index[0],inplace=True)\n",
    "    df.reset_index(inplace=True,drop=True)\n",
    "    return df"
   ]
  },
  {
   "cell_type": "code",
   "execution_count": 9,
   "id": "a6346208",
   "metadata": {
    "scrolled": false
   },
   "outputs": [
    {
     "name": "stdout",
     "output_type": "stream",
     "text": [
      "ABANILLA\n"
     ]
    },
    {
     "name": "stderr",
     "output_type": "stream",
     "text": [
      "C:\\Users\\bllanos\\Anaconda3\\lib\\site-packages\\openpyxl\\worksheet\\_reader.py:312: UserWarning: Data Validation extension is not supported and will be removed\n",
      "  warn(msg)\n"
     ]
    },
    {
     "name": "stdout",
     "output_type": "stream",
     "text": [
      "ABARÁN\n",
      "AENA\n",
      "AGULLENT\n",
      "ALBAIDA\n",
      "ALBATERA\n",
      "ALCÁZARES-MAC\n",
      "ALCÓNTAR-JRL\n",
      "ALGORFA\n",
      "ALHAURÍN DE LA TORRE\n",
      "ALMANSA\n",
      "ALMERÍA\n",
      "ALMORADÍ\n",
      "ALQUERIA DE AZNAR\n",
      "AP CARTAGENA\n",
      "ARBOLEAS\n",
      "ARCHENA\n",
      "ARCHIDONA\n",
      "BAZA\n",
      "BENIEL\n",
      "BIGASTRO\n",
      "BLANCA\n",
      "CAMPOS DEL RÍO\n",
      "CARTAGENA\n",
      "CASTILLA LA MANCHA\n",
      "CASTRIL-JRL\n",
      "CHAUCHINA\n",
      "CIEZA\n",
      "COCENTAINA\n",
      "CONF.HIDRO.JÚCAR-EBB\n",
      "CONF.HIDRO.SEGURA-MAC\n",
      "COÍN\n",
      "CREVILLENT\n",
      "CUEVAS DEL CAMPO\n",
      "CULLAR\n",
      "DAYA NUEVA\n",
      "DENIA\n",
      "DGCMTM y AU\n",
      "DP ALBACETE\n",
      "DP ALMERÍA\n",
      "DP GRANADA\n",
      "DP MÁLAGA\n",
      "FUENTE-ÁLAMO\n",
      "GALLARDOS\n",
      "GENERALITAT VALENCIANA-EBB\n",
      "GRANADA\n",
      "HELLÍN\n",
      "HOYA GONZALO-JRL\n",
      "HUESCAR\n",
      "JACARILA\n",
      "JUNTA ANDALUCÍA-JOG\n",
      "L-OLLERIA-JRL\n",
      "LORCA\n",
      "LORCHA\n",
      "LORQUÍ\n",
      "MINISTERIO DEFENSA-EBB\n",
      "MOLINA DEL SEGURA\n",
      "MOLINICOS\n",
      "MONACHIL-JRL\n",
      "NERPIO\n",
      "NIJAR-MAC\n",
      "NOVELDA-EBB\n",
      "OJÓS-JRL\n",
      "OLULA DEL RÍO\n",
      "ONTINYENT\n",
      "ONTUR\n",
      "ORIHUELA-MAC\n",
      "OTOS\n",
      "PARCENT\n",
      "PILAR DE LA HORADADA\n",
      "PUEBLA DE DON FADRIQUE\n",
      "PUERTO LUMBRERAS\n",
      "PULPÍ\n",
      "PURCHENA\n",
      "REDOVÁN\n",
      "REGIÓN DE MURCIA-DGM\n",
      "RINCÓN DE LA VICTORIA\n",
      "RIOJA\n",
      "SAN FULGENCIO\n",
      "SAN JAVIER\n",
      "SANTOMERA\n",
      "SERÓN\n",
      "TORRE PACHECO-DGM\n",
      "TORRES DE COTILLAS\n",
      "TOTANA-JRL\n",
      "TÍJOLA\n",
      "ULEA\n",
      "UNIÓN\n",
      "URRACAL\n",
      "VILLANUEVA DEL RIO SEGURA\n",
      "VIVEROS-JRL\n",
      "ZURGENA\n",
      "Wall time: 8.11 s\n"
     ]
    }
   ],
   "source": [
    "%%time\n",
    "facturas = {}\n",
    "organismos ={}\n",
    "error_null = {}\n",
    "aytos_factura = {}\n",
    "for k,v in ayuntamientos.items():\n",
    "    if k not in sin_fichero:\n",
    "        print(k)\n",
    "        df=get_df_facturas(os.path.join(fichero_padre,k,\"Justificacion_FSUE-DANA.xlsx\"))\n",
    "        #display(df)\n",
    "        #print(df[\"Importe total de factura (con IVA)\"].map(type))\n",
    "        #print(df[\"Importe total de factura (sin IVA)\"].map(type))\n",
    "        #print(df[\"Importe de la factura a imputar al Fondo de Solidaridad (con IVA)**\"].map(type))\n",
    "        #print(df[\"Importe de la factura a imputar al Fondo de Solidaridad (sin IVA)**\"].map(type))\n",
    "        facturas_iva= df[\"Importe total de factura (con IVA)\"].sum()\n",
    "        facturas_sin_iva = df[\"Importe total de factura (sin IVA)\"].sum()\n",
    "        feder_iva = df[\"Importe de la factura a imputar al Fondo de Solidaridad (con IVA)**\"].sum()\n",
    "        feder_sin_iva = df[\"Importe de la factura a imputar al Fondo de Solidaridad (sin IVA)**\"].sum()\n",
    "        #print(importe)\n",
    "        aytos_factura.update({k: [facturas_iva, facturas_sin_iva, feder_iva, feder_sin_iva]})\n",
    "        '''\n",
    "        df[\"NIF Proveedor\"] = df[\"NIF Proveedor\"].apply(lambda x : x.replace(\"-\", \"\").replace(\".\", \"\").replace(\"ES\",\"\").upper())\n",
    "        #print(df[[\"Proveedor\", \"NIF Proveedor\"]].shape)\n",
    "        facturas.update({k:df[[\"Proveedor\", \"NIF Proveedor\"]].shape[0]})\n",
    "        for i in df[[\"Proveedor\", \"NIF Proveedor\"]].index:\n",
    "            #print(df[\"NIF Proveedor\"][i])\n",
    "            if df[\"Proveedor\"][i] != \"NaN\" or df[\"Proveedor\"][i] != \"nan\":\n",
    "                try:\n",
    "                    organismos[df[\"NIF Proveedor\"][i]].append(df[\"Proveedor\"][i])\n",
    "                except KeyError:\n",
    "                    try:\n",
    "                        organismos.update({df[\"NIF Proveedor\"][i].strip():[df[\"Proveedor\"][i]]})\n",
    "                    except AttributeError:\n",
    "                        error_null.update({df[\"NIF Proveedor\"][i]:df[\"Proveedor\"][i]})\n",
    "               ''' \n",
    "for k, value in organismos.items():\n",
    "    organismos[k]= list(set(value)) \n"
   ]
  },
  {
   "cell_type": "code",
   "execution_count": null,
   "id": "68e11efa",
   "metadata": {
    "scrolled": true
   },
   "outputs": [],
   "source": [
    "facturas"
   ]
  },
  {
   "cell_type": "code",
   "execution_count": null,
   "id": "45d42ba1",
   "metadata": {
    "scrolled": false
   },
   "outputs": [],
   "source": [
    "aytos_factura"
   ]
  },
  {
   "cell_type": "code",
   "execution_count": null,
   "id": "8458d19a",
   "metadata": {},
   "outputs": [],
   "source": [
    "with open(\"C:/Users/bllanos/Desktop/Simulacion_dana/data_blp/Calculos_sonia.csv\", \"w\") as f:\n",
    "    for k,v in aytos_factura.items():\n",
    "        f.write(f\"{k};{str(v[0]).replace('.',',')};{str(v[1]).replace('.',',')};{str(v[2]).replace('.',',')};{str(v[3]).replace('.',',')}\\n\")"
   ]
  },
  {
   "cell_type": "code",
   "execution_count": null,
   "id": "c21e154f",
   "metadata": {},
   "outputs": [],
   "source": []
  }
 ],
 "metadata": {
  "kernelspec": {
   "display_name": "Python 3",
   "language": "python",
   "name": "python3"
  },
  "language_info": {
   "codemirror_mode": {
    "name": "ipython",
    "version": 3
   },
   "file_extension": ".py",
   "mimetype": "text/x-python",
   "name": "python",
   "nbconvert_exporter": "python",
   "pygments_lexer": "ipython3",
   "version": "3.8.11"
  }
 },
 "nbformat": 4,
 "nbformat_minor": 5
}
