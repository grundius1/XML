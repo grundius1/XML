{
 "cells": [
  {
   "cell_type": "code",
   "execution_count": 1,
   "metadata": {},
   "outputs": [],
   "source": [
    "import csv\n",
    "import xml.etree.ElementTree as ET"
   ]
  },
  {
   "cell_type": "code",
   "execution_count": 2,
   "metadata": {},
   "outputs": [],
   "source": [
    "file = \"C:/Users/bllanos/Desktop/project1/prueba1/Transacciones_positivas/Ceuta/Ceuta_TB1.csv\"\n",
    "\n",
    "print(file)"
   ]
  },
  {
   "cell_type": "code",
   "execution_count": 3,
   "metadata": {},
   "outputs": [],
   "source": [
    "root = ET.Element(\"transacciones\")"
   ]
  },
  {
   "cell_type": "code",
   "execution_count": 4,
   "metadata": {},
   "outputs": [],
   "source": [
    "with open(file) as f:\n",
    "    csv_reader = csv.DictReader(f,delimiter=\";\")\n",
    "    for row in csv_reader:\n",
    "        #print(row)\n",
    "        transacion = ET.SubElement(root,\"transaccion\")\n",
    "        transaccionescount = 0\n",
    "        for k,v in row.items():\n",
    "            if v == \"\":\n",
    "                pass\n",
    "            else:\n",
    "                k = k.split(\" \")[0]\n",
    "                if k == \"cod_contrato\" or k == \"version_cont\" or k==\"gasto_abonado\":\n",
    "                    if transaccionescount == 0:\n",
    "                        transacciones = ET.SubElement(transacion,\"transacciones_contratos\")\n",
    "                        transaccion2 = ET.SubElement(transacciones,\"transaccion_contratos\")\n",
    "                        transaccionescount = 1\n",
    "                    elemento = ET.SubElement(transaccion2,f\"{k}\")\n",
    "                    elemento.text= f\"{v.replace(',','.')}\"\n",
    "                else:\n",
    "                    elemento = ET.SubElement(transacion,f\"{k}\")\n",
    "                    elemento.text= f\"{v.replace(',','.')}\"\n",
    "    tree = ET.ElementTree(root)\n",
    "    tree.write(\"C:/Users/bllanos/Desktop/project1/prueba1/Transacciones_positivas/Ceuta/Ceuta_TB1.xml\", encoding = \"UTF-8\", xml_declaration=True,)\n",
    "        \n",
    "        "
   ]
  },
  {
   "cell_type": "code",
   "execution_count": null,
   "metadata": {},
   "outputs": [],
   "source": []
  },
  {
   "cell_type": "code",
   "execution_count": null,
   "metadata": {},
   "outputs": [],
   "source": []
  }
 ],
 "metadata": {
  "kernelspec": {
   "display_name": "Python 3",
   "language": "python",
   "name": "python3"
  },
  "language_info": {
   "codemirror_mode": {
    "name": "ipython",
    "version": 3
   },
   "file_extension": ".py",
   "mimetype": "text/x-python",
   "name": "python",
   "nbconvert_exporter": "python",
   "pygments_lexer": "ipython3",
   "version": "3.8.10"
  }
 },
 "nbformat": 4,
 "nbformat_minor": 4
}
