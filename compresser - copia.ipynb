{
 "cells": [
  {
   "cell_type": "code",
   "execution_count": null,
   "id": "61ed7718",
   "metadata": {},
   "outputs": [],
   "source": [
    "import os\n",
    "import zipfile\n",
    "import multiprocessing"
   ]
  },
  {
   "cell_type": "code",
   "execution_count": null,
   "id": "1eba32b5",
   "metadata": {},
   "outputs": [],
   "source": [
    "main_directory = \"P:/Regulacion/49 Encargo MinHac 20-22/08 FSUE-DANA/03 Entregables/1. Informes VAD y VST - copia\""
   ]
  },
  {
   "cell_type": "code",
   "execution_count": null,
   "id": "7e5faaf2",
   "metadata": {},
   "outputs": [],
   "source": [
    "aytos = os.listdir(main_directory).pop(os.listdir(main_directory).index(\"zip\"))\n",
    "files = os.listdir(main_directory)\n",
    "files.pop(files.index(\"zip\"))\n",
    "files"
   ]
  },
  {
   "cell_type": "code",
   "execution_count": null,
   "id": "f40af85f",
   "metadata": {},
   "outputs": [],
   "source": [
    "multiprocessing.cpu_count()"
   ]
  },
  {
   "cell_type": "code",
   "execution_count": null,
   "id": "64ef5081",
   "metadata": {},
   "outputs": [],
   "source": [
    "def compresser(path):\n",
    "    print(path)\n",
    "    created_zip = zipfile.ZipFile(path +\".zip\", 'w')\n",
    "    for archives in os.walk(path, topdown=False):\n",
    "        print(path)\n",
    "        for archive in archives[2]:\n",
    "                created_zip.write(os.path.join(main_directory,item,archive),archive,compress_type = zipfile.ZIP_DEFLATED)\n",
    "    return created_zip.close()\n",
    "        \n",
    "        \n",
    "        "
   ]
  },
  {
   "cell_type": "code",
   "execution_count": null,
   "id": "32008184",
   "metadata": {},
   "outputs": [],
   "source": [
    "def pool():\n",
    "    p = multiprocessing.Pool(multiprocessing.cpu_count())\n",
    "    #print(p.map)\n",
    "    p.map(compresser, files)"
   ]
  },
  {
   "cell_type": "code",
   "execution_count": null,
   "id": "9cfbee10",
   "metadata": {
    "scrolled": true
   },
   "outputs": [],
   "source": [
    "pool()"
   ]
  },
  {
   "cell_type": "markdown",
   "id": "ef3ac7f3",
   "metadata": {
    "scrolled": false
   },
   "source": [
    "archivos = {}\n",
    "for item in files:\n",
    "    print(item)\n",
    "    if item != \"zip\":\n",
    "        for archives in os.walk(os.path.join(main_directory,item), topdown=False):\n",
    "            #print(archives)\n",
    "            #print(\"-------------\")\n",
    "            created_zip = zipfile.ZipFile(os.path.join(main_directory,\"zip\",item)+\".zip\", 'w')\n",
    "            archivos.update({item:len(archives[2])})\n",
    "            for archive in archives[2]:\n",
    "                created_zip.write(os.path.join(main_directory,item,archive),archive,compress_type = zipfile.ZIP_DEFLATED)\n",
    "            created_zip.close()\n",
    "archivos            "
   ]
  },
  {
   "cell_type": "code",
   "execution_count": null,
   "id": "831bd4df",
   "metadata": {},
   "outputs": [],
   "source": []
  }
 ],
 "metadata": {
  "kernelspec": {
   "display_name": "Python 3",
   "language": "python",
   "name": "python3"
  },
  "language_info": {
   "codemirror_mode": {
    "name": "ipython",
    "version": 3
   },
   "file_extension": ".py",
   "mimetype": "text/x-python",
   "name": "python",
   "nbconvert_exporter": "python",
   "pygments_lexer": "ipython3",
   "version": "3.8.11"
  }
 },
 "nbformat": 4,
 "nbformat_minor": 5
}
