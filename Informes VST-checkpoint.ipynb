{
 "cells": [
  {
   "cell_type": "code",
   "execution_count": 1,
   "id": "d8e275d3",
   "metadata": {},
   "outputs": [],
   "source": [
    "from docx import Document\n",
    "import os\n",
    "import pandas as pd"
   ]
  },
  {
   "cell_type": "code",
   "execution_count": 2,
   "id": "f50e21af",
   "metadata": {},
   "outputs": [],
   "source": [
    "ayuntamientos = {'ABANILLA-JOG': ['ES330024_1', 'GASTOS DANA AYUNTAMIENTO DE ABANILLA', 'ES330024', \"30\"],\n",
    " 'ABARÁN-EBB': ['ES330031_1', 'GASTOS DANA AYUNTAMIENTO DE ABARÁN', 'ES330031', \"30\"],\n",
    " 'AENA-MAC-EBB': ['ES117023_1', 'GASTOS DANA AENA (MITMA)', 'ES117023', \"28\"],\n",
    " 'AGULLENT-JOG': ['ES303050_1','GASTOS DANA AYUNTAMIENTO DE AGULLENT','ES303050', \"46\"],\n",
    " 'ALBAIDA-MAC': ['ES346012_1', 'GASTOS DANA AYUNTAMIENTO DE ALBAIDA', 'ES346012', \"46\"],\n",
    " 'ALBATERA-JOG': ['ES303044_1','GASTOS DANA AYUNTAMIENTO DE ALBATERA','ES303044', \"03\"],\n",
    " 'ALCÁZARES-MAC': ['ES330025_1','GASTOS DANA AYUNTAMIENTO DE ALCÁZARES, LOS','ES330025', \"30\"],\n",
    " 'ALCÓNTAR-JOG': ['ES304029_1','GASTOS DANA AYUNTAMIENTO DE ALCÓNTAR', 'ES304029', \"04\"],\n",
    " 'ALGORFA-JOG': ['ES303016_1', 'GASTOS DANA AYUNTAMIENTO DE ALGORFA', 'ES303016', \"03\"],\n",
    " 'ALHAURÍN DE LA TORRE-MAC': ['ES329005_1','GASTOS DANA AYUNTAMIENTO DE ALHAURÍN DE LA TORRE','ES329005', \"29\"],\n",
    " 'ALMANSA-EBB': ['ES302002_1', 'GASTOS DANA AYUNTAMIENTO DE ALMANSA', 'ES302002', \"02\"],\n",
    " 'ALMERÍA-DGM': ['ES304004_1', 'GASTOS DANA AYUNTAMIENTO DE ALMERÍA', 'ES304004', \"04\"],\n",
    " 'ALMORADÍ-DGM': ['ES303017_1','GASTOS DANA AYUNTAMIENTO DE ALMORADÍ','ES303017', \"46\"],\n",
    " \"ALQUERIA DE AZNAR-EBB\": ['ES303018_1', \"GASTOS DANA AYUNTAMIENTO DE ALQUERIA D'ASNAR, L'\", 'ES303018', \"46\"],\n",
    " 'AP CARTAGENA-MAC': ['ES117025_1', 'GASTOS DANA AUTORIDAD PORTUARIA CARTAGENA (MITMA)', 'ES117025', \"30\"],\n",
    " 'ARBOLEAS-MAC': ['ES304025_1','GASTOS DANA AYUNTAMIENTO DE ARBOLEAS','ES304025', \"04\"],\n",
    " 'ARCHENA-MAC': ['ES330005_1', 'GASTOS DANA AYUNTAMIENTO DE ARCHENA', 'ES330005', \"30\"],\n",
    " 'ARCHIDONA-EBB': ['ES329023_1','GASTOS DANA AYUNTAMIENTO DE ARCHIDONA','ES329023', \"29\"],\n",
    " 'BAZA-MAC': ['ES318001_1', 'GASTOS DANA AYUNTAMIENTO DE BAZA', 'ES318001', \"18\"],\n",
    " 'BENIEL-JOG': ['ES330013_1', 'GASTOS DANA AYUNTAMIENTO DE BENIEL', 'ES330013', \"30\"],\n",
    " 'BIGASTRO-JOG': ['ES303051_1','GASTOS DANA AYUNTAMIENTO DE BIGASTRO', 'ES303051', \"46\"],\n",
    " 'BLANCA-JOG': ['ES330015_1', 'GASTOS DANA AYUNTAMIENTO DE BLANCA', 'ES330015', \"30\"],\n",
    " 'CAMPOS DEL RÍO - DGM': ['ES330030_1', 'GASTOS DANA AYUNTAMIENTO DE CAMPOS DEL RÍO', 'ES330030', \"30\"],\n",
    " 'CASTILLA LA MANCHA- DGM': ['ES211001_1','GASTOS DANA COMUNIDAD AUTÓNOMA DE CASTILLA LA MANCHA','ES211001', \"45\"],\n",
    " 'CASTRIL-DGM': ['ES318054_1', 'GASTOS DANA AYUNTAMIENTO DE CASTRIL', 'ES318054', \"18\"],\n",
    " 'CHAUCHINA-JOG': ['ES318053_1', 'GASTOS DANA AYUNTAMIENTO DE CHAUCHINA', 'ES318053', \"18\"],\n",
    " 'CIEZA-JOG': ['ES330002_1', 'GASTOS DANA AYUNTAMIENTO DE CIEZA', 'ES330002', \"30\"],\n",
    " 'COCENTAINA-EBB': ['ES303025_1', 'GASTOS DANA AYUNTAMIENTO DE COCENTAINA', 'ES303025', \"03\"],\n",
    " 'CONF.HIDRO.JÚCAR-EBB': ['ES130001_1', 'GASTOS DANA  CONFEDERACION HIDROGRAFICA DEL JÚCAR, O.A. DEL MITECO', 'ES130001', \"46\"],\n",
    " 'CONF.HIDRO.SEGURA-MAC': ['ES130006_1', 'GASTOS DANA CONFEDERACION HIDROGRAFICA DEL SEGURA, O.A. DEL MITECO', 'ES130006', \"30\"],\n",
    " 'COÍN-JOG': ['ES329029_1', 'GASTOS DANA AYUNTAMIENTO DE COÍN', 'ES329029', \"29\"],\n",
    " 'CREVILLENT-MAC': ['ES303047_1', 'GASTOS DANA AYUNTAMIENTO DE CREVILLENT', 'ES303047', \"03\"],\n",
    " 'DAYA NUEVA-DGM': ['ES303046_1', 'GASTOS DANA AYUNTAMIENTO DE DAYA NUEVA', 'ES303046', \"03\"],\n",
    " 'DENIA-MAC': ['ES303026_1', 'GASTOS DANA AYUNTAMIENTO DE DÉNIA', 'ES303026', \"03\"],\n",
    " 'DGCMTM y AU-JOG': ['ES117007_1', 'GASTOS DANA DG CARRETERAS (MITMA)', 'ES117007', \"30\"],\n",
    " 'DP ALMERÍA- DGM': ['ES304006_1', 'GASTOS DANA DIPUTACIÓN PROVINCIAL DE ALMERÍA', 'ES304006', \"04\"],\n",
    " 'DP GRANADA-JOG': ['ES318007_1', 'GASTOS DANA DIPUTACIÓN PROVINCIAL DE GRANADA', 'ES318007', \"18\"],\n",
    " 'DP MÁLAGA-JOG': ['ES329003_1', 'GASTOS DANA DIPUTACIÓN PROVINCIAL DE MÁLAGA', 'ES329003', \"29\"],\n",
    " 'FUENTE-ÁLAMO-JOG': ['ES302052_1', 'GASTOS DANA AYUNTAMIENTO DE FUENTE-ÁLAMO', 'ES302052', \"30\"],\n",
    " 'GALLARDOS-JOG': ['ES304026_1', 'GASTOS DANA AYUNTAMIENTO DE GALLARDOS, LOS', 'ES304026', \"04\"],\n",
    " 'GENERALITAT VALENCIANA-EBB': ['ES209001_1', 'GASTOS DANA GENERALITAT VALENCIANA', 'ES209001', \"46\"],\n",
    " 'GRANADA-JOG': ['ES318003_1', 'GASTOS DANA AYUNTAMIENTO DE GRANADA', 'ES318003', \"18\"],\n",
    " 'HUESCAR-DGM': ['ES318042_1', 'GASTOS DANA AYUNTAMIENTO DE HUÉSCAR', 'ES318042', \"18\"],\n",
    " 'JACARILA-JOG': ['ES303052_1', 'GASTOS DANA AYUNTAMIENTO DE JACARILLA', 'ES303052', \"03\"],\n",
    " 'JUNTA ANDALUCÍA-JOG': ['ES204001_1', 'GASTOS DANA JUNTA DE ANDALUCÍA', 'ES204001', \"41\"],\n",
    " 'L-OLLERIA-JOG': ['ES346056_1', \"GASTOS DANA AYUNTAMIENTO DE OLLERIA, L'\", 'ES346056', \"46\"],\n",
    " 'LOJA - JOG': ['ES318055_1', 'GASTOS DANA AYUNTAMIENTO DE LOJA', 'ES318055',\"18\"],\n",
    " 'LORCHA-DGM': ['ES303054_1', \"GASTOS DANA AYUNTAMIENTO DE LORCHA\", 'ES303054', \"03\"],\n",
    " 'LORQUÍ-JOG': ['ES330017_1', 'GASTOS DANA AYUNTAMIENTO DE LORQUÍ', 'ES330017', \"30\"],\n",
    " 'MINISTERIO DEFENSA-EBB': ['ES114007_1', 'GASTOS DANA MINISTERIO DE DEFENSA', 'ES114007', \"28\"],\n",
    " 'MOLINA DEL SEGURA-MAC': ['ES330009_1', 'GASTOS DANA AYUNTAMIENTO DE MOLINA DE SEGURA', 'ES330009', \"30\"],\n",
    " 'MOLINICOS-DGM': ['ES302018_1', 'GASTOS DANA AYUNTAMIENTO DE MOLINICOS', 'ES302018', \"02\"],\n",
    " 'MONACHIL- DGM': ['ES318026_1', 'GASTOS DANA AYUNTAMIENTO DE MONACHIL', 'ES318026', \"18\"],\n",
    " 'NERPIO-JOG': ['ES302023_1', 'GASTOS DANA AYUNTAMIENTO DE NERPIO', 'ES302023', \"02\"],\n",
    " 'NIJAR-MAC': ['ES304007_1', 'GASTOS DANA AYUNTAMIENTO DE NÍJAR', 'ES304007', \"04\"],\n",
    " 'NOVELDA-EBB': ['ES303045_1', 'GASTOS DANA AYUNTAMIENTO DE NOVELDA', 'ES303045', \"03\"],\n",
    " 'OJÓS-JOG': ['ES330026_1', 'GASTOS DANA AYUNTAMIENTO DE OJÓS', 'ES330026', \"30\"],\n",
    " 'OLULA DEL RÍO-JOG': ['ES304027_1', 'GASTOS DANA AYUNTAMIENTO DE OLULA DEL RÍO', 'ES304027', \"04\"],\n",
    " 'ONTINYENT-MAC': ['ES346007_1', 'GASTOS DANA AYUNTAMIENTO DE ONTINYENT', 'ES346007', \"46\"],\n",
    " 'ORIHUELA-MAC': ['ES303003_1', 'GASTOS DANA AYUNTAMIENTO DE ORIHUELA', 'ES303003', \"03\"],\n",
    " 'OTOS-JOG': ['ES346081_1', 'GASTOS DANA AYUNTAMIENTO DE OTOS', 'ES346081', \"46\"],\n",
    " 'PARCENT-EBB': ['ES303049_1', 'GASTOS DANA AYUNTAMIENTO DE PARCENT', 'ES303049', \"03\"],\n",
    " 'PILAR DE LA HORADADA EBB': ['ES303041_1', 'GASTOS DANA AYUNTAMIENTO DE PILAR DE LA HORADADA', 'ES303041', \"03\"],\n",
    " 'PINOS GENIL-MAC': ['ES318057_1', 'GASTOS DANA AYUNTAMIENTO DE PINOS GENIL', 'ES318057', \"18\"],\n",
    " 'PUEBLA DE DON FADRIQUE-EBB': ['ES318043_1', 'GASTOS DANA AYUNTAMIENTO DE PUEBLA DE DON FADRIQUE', 'ES318043', \"18\"],\n",
    " 'PUERTO LUMBRERAS-JOG': ['ES330033_1', 'GASTOS DANA AYUNTAMIENTO DE PUERTO LUMBRERAS', 'ES330033', \"30\"],\n",
    " 'PULPÍ-JOG': ['ES304016_1', 'GASTOS DANA AYUNTAMIENTO DE PULPÍ', 'ES304016', \"04\"],\n",
    " 'PURCHENA-JOG': ['ES304019_1', 'GASTOS DANA AYUNTAMIENTO DE PURCHENA', 'ES304019', \"04\"],\n",
    " 'REDOVÁN-DGM': ['ES303048_1', 'GASTOS DANA AYUNTAMIENTO DE REDOVÁN', 'ES303048', \"03\"],\n",
    " 'REGIÓN DE MURCIA-DGM': ['ES208001_1', 'GASTOS DANA REGIÓN DE MURCIA', 'ES208001', \"30\"],\n",
    " 'RENFE-MAC': ['ES117024_1', 'GASTOS DANA RENFE (MITMA)', 'ES117024', \"28\"],\n",
    " 'RINCÓN DE LA VICTORIA-DGM': ['ES329011_1', 'GASTOS DANA AYUNTAMIENTO DE RINCÓN DE LA VICTORIA', 'ES329011', \"29\"],\n",
    " 'RIOJA-JOG': ['ES304024_1', 'GASTOS DANA AYUNTAMIENTO DE RIOJA', 'ES304024',\"04\"],\n",
    " 'SAN FULGENCIO-MAC': ['ES302057_1', 'GASTOS DANA AYUNTAMIENTO DE SAN FULGENCIO', 'ES302057', \"03\"],\n",
    " 'SAN JAVIER-JOG': ['ES330001_1', 'GASTOS DANA AYUNTAMIENTO DE SAN JAVIER', 'ES330001', \"30\"],\n",
    " 'SANTOMERA-JOG': ['ES330014_1', 'GASTOS DANA AYUNTAMIENTO DE SANTOMERA', 'ES330014', \"30\"],\n",
    " 'SERÓN-JOG': ['ES304022_1', 'GASTOS DANA AYUNTAMIENTO DE SERÓN', 'ES304022', \"04\"],\n",
    " 'TABERNO - JOG': ['ES304030_1', 'GASTOS DANA AYUNTAMIENTO DE TABERNO', 'ES304030'],\n",
    " 'TÍJOLA-DGM' : ['ES304028_1', 'GASTOS DANA AYUNTAMIENTO DE TÍJOLA', 'ES304028', \"04\"],\n",
    " 'TORRE PACHECO-DGM': ['ES330010_1', 'GASTOS DANA AYUNTAMIENTO DE TORRE-PACHECO', 'ES330010', \"30\"],\n",
    " 'TORRES DE COTILLAS-MAC': ['ES330008_1', 'GASTOS DANA AYUNTAMIENTO DE TORRES DE COTILLAS, LAS', 'ES330008', \"30\"],\n",
    " 'TOTANA-JOG': ['ES330032_1', 'GASTOS DANA AYUNTAMIENTO DE TOTANA', 'ES330032', \"30\"],\n",
    " 'ULEA-JOG': ['ES330029_1', 'GASTOS DANA AYUNTAMIENTO DE ULEA', 'ES330029', \"30\"],\n",
    " 'UNIÓN-DGM': ['ES330027_1', 'GASTOS DANA AYUNTAMIENTO DE LA UNIÓN', 'ES330027', \"30\"],\n",
    " 'URRACAL-DGM': ['ES304031_1', 'GASTOS DANA AYUNTAMIENTO DE URRÁCAL', 'ES304031', \"04\"],\n",
    " 'VALLADA-JOG': ['ES312038_1', 'GASTOS DANA AYUNTAMIENTO DE VALLADA', 'ES312038', \"46\"],\n",
    " 'VIVEROS-JOG': ['ES302030_1', 'GASTOS DANA AYUNTAMIENTO DE VIVEROS', 'ES302030', \"02\"],\n",
    " 'VÉLEZ MÁLAGA-DGM': ['ES329014_1', 'GASTOS DANA AYUNTAMIENTO DE VÉLEZ-MÁLAGA', 'ES329014', \"29\"],\n",
    " 'ZURGENA-JOG': ['ES304023_1', 'GASTOS DANA AYUNTAMIENTO DE ZURGENA', 'ES304023', \"04\"],\n",
    "}"
   ]
  },
  {
   "cell_type": "code",
   "execution_count": 3,
   "id": "9f932e40",
   "metadata": {},
   "outputs": [
    {
     "data": {
      "text/plain": [
       "89"
      ]
     },
     "execution_count": 3,
     "metadata": {},
     "output_type": "execute_result"
    }
   ],
   "source": [
    "len(ayuntamientos)"
   ]
  },
  {
   "cell_type": "code",
   "execution_count": 4,
   "id": "8fee3905",
   "metadata": {},
   "outputs": [],
   "source": [
    "ayuntamientos = {'GENERALITAT VALENCIANA-EBB': ['ES209001_1', 'GASTOS DANA GENERALITAT VALENCIANA', 'ES209001', \"46\"],\n",
    "    'CONF.HIDRO.SEGURA-MAC': ['ES130006_1', 'GASTOS DANA CONFEDERACION HIDROGRAFICA DEL SEGURA, O.A. DEL MITECO', 'ES130006', \"30\"],\n",
    "    'JUNTA ANDALUCÍA-JOG': ['ES204001_1', 'GASTOS DANA JUNTA DE ANDALUCÍA', 'ES204001', \"41\"],\n",
    "    'CONF.HIDRO.JÚCAR-EBB': ['ES130001_1', 'GASTOS DANA  CONFEDERACION HIDROGRAFICA DEL JÚCAR, O.A. DEL MITECO', 'ES130001', \"46\"],\n",
    "    'DGCMTM y AU-JOG': ['ES117007_1', 'GASTOS DANA DG CARRETERAS (MITMA)', 'ES117007', \"30\"],\n",
    "    'MINISTERIO DEFENSA-EBB': ['ES114007_1', 'GASTOS DANA MINISTERIO DE DEFENSA', 'ES114007', \"28\"],\n",
    "    \n",
    "                }"
   ]
  },
  {
   "cell_type": "code",
   "execution_count": 5,
   "id": "6186ee6d",
   "metadata": {},
   "outputs": [],
   "source": [
    "main_file = \"P:/Regulacion/49 Encargo MinHac 20-22/08 FSUE-DANA/03 Entregables/XXXXX_1 Plantilla Informe VAD Nº1 FSUE_XXXXX vdefinitiva revisada.docx\"\n",
    "main_file_2 = \"P:/Regulacion/49 Encargo MinHac 20-22/08 FSUE-DANA/03 Entregables/XXXXX_1 Plantilla Informe VAD Nº1 FSUE_XXXXX vdefinitiva revisada_sincontratos.docx\""
   ]
  },
  {
   "cell_type": "code",
   "execution_count": 6,
   "id": "e6c4682b",
   "metadata": {},
   "outputs": [],
   "source": [
    "def ayuntamientos_con_el_fichero(aytsdic):\n",
    "    aytos_sin_fichero = {}\n",
    "    for k,v in aytsdic.items():\n",
    "        if \"Justificacion_FSUE-DANA.xlsx\" not in os.listdir(os.path.join(fichero_padre,k)):\n",
    "            aytos_sin_fichero.update({k: os.listdir(os.path.join(fichero_padre,k))[4:]})\n",
    "    return aytos_sin_fichero"
   ]
  },
  {
   "cell_type": "code",
   "execution_count": 7,
   "id": "5562767f",
   "metadata": {},
   "outputs": [],
   "source": [
    "fichero_padre = \"P:/Regulacion/49 Encargo MinHac 20-22/08 FSUE-DANA/02 Archivos de trabajo/BENEFICIARIOS FSUE DANA\""
   ]
  },
  {
   "cell_type": "code",
   "execution_count": 8,
   "id": "60c85bd1",
   "metadata": {},
   "outputs": [],
   "source": [
    "sin_fichero = ayuntamientos_con_el_fichero(ayuntamientos)"
   ]
  },
  {
   "cell_type": "code",
   "execution_count": 9,
   "id": "be7829e0",
   "metadata": {},
   "outputs": [
    {
     "data": {
      "text/plain": [
       "({}, 0)"
      ]
     },
     "execution_count": 9,
     "metadata": {},
     "output_type": "execute_result"
    }
   ],
   "source": [
    "sin_fichero, len(sin_fichero)"
   ]
  },
  {
   "cell_type": "code",
   "execution_count": 10,
   "id": "5b29dd2c",
   "metadata": {},
   "outputs": [],
   "source": [
    "def dateconverter(df):\n",
    "    for column in df.columns:\n",
    "        if isinstance(column, str):\n",
    "            if column.startswith(\"Fecha\"):\n",
    "                #print(df[f\"{column}\"])\n",
    "                df[f\"{column}\"] = pd.to_datetime(df[f\"{column}\"]).dt.strftime(\"%d/%m/%Y\")\n",
    "    return df"
   ]
  },
  {
   "cell_type": "code",
   "execution_count": 11,
   "id": "9a2b59b7",
   "metadata": {},
   "outputs": [],
   "source": [
    "def get_num_facturas(filepath):\n",
    "    df = pd.read_excel(filepath, sheet_name= \"2. DATOS BÁSICOS FACTURAS\")\n",
    "    df.dropna(thresh=6,inplace=True)\n",
    "    df.columns = df.iloc[0]\n",
    "    df.drop(df.index[0],inplace=True)\n",
    "    df = df[df.elegible != \"NO\"]\n",
    "    df = df[df.elegible != \"N\"]\n",
    "    df = df[df.elegible != \"n\"]\n",
    "    df = df[df.elegible != \"no\"]\n",
    "    df.reset_index(inplace=True,drop=True)\n",
    "    df = dateconverter(df)\n",
    "    return df.shape[0]"
   ]
  },
  {
   "cell_type": "code",
   "execution_count": 12,
   "id": "bb78e847",
   "metadata": {},
   "outputs": [],
   "source": [
    "def get_df_facturas(filepath):\n",
    "    df = pd.read_excel(filepath, sheet_name= \"2. DATOS BÁSICOS FACTURAS\")\n",
    "    df.dropna(thresh=6,inplace=True)\n",
    "    df.columns = df.iloc[0]\n",
    "    df.drop(df.index[0],inplace=True)\n",
    "    df = df[df.elegible != \"NO\"]\n",
    "    df = df[df.elegible != \"N\"]\n",
    "    df = df[df.elegible != \"n\"]\n",
    "    df = df[df.elegible != \"no\"]\n",
    "    df.reset_index(inplace=True,drop=True)\n",
    "    df = dateconverter(df)\n",
    "    df = df.drop('elegible', 1)\n",
    "    return df"
   ]
  },
  {
   "cell_type": "code",
   "execution_count": 13,
   "id": "f584f8e0",
   "metadata": {},
   "outputs": [],
   "source": [
    "def get_df_contratos(filepath):\n",
    "    df = pd.read_excel(filepath, sheet_name= \"1. DATOS BÁSICOS CONTRATACIÓN\")\n",
    "    df.dropna(thresh=5,inplace=True)\n",
    "    df.columns = df.iloc[0]\n",
    "    df.drop(df.index[0],inplace=True)\n",
    "    df.reset_index(inplace=True,drop=True)\n",
    "    #display(df)\n",
    "    #print(df.dtypes)\n",
    "    if df.shape[0] != 0:\n",
    "        df = df[df.elegible != \"NO\"]\n",
    "        df = df[df.elegible != \"N\"]\n",
    "        df = df[df.elegible != \"n\"]\n",
    "        df = df[df.elegible != \"n0\"]\n",
    "    #df.drop(\"NaN\", axis=1, inplace=True)\n",
    "    return df.shape[0]"
   ]
  },
  {
   "cell_type": "code",
   "execution_count": 14,
   "id": "a23a2b97",
   "metadata": {},
   "outputs": [],
   "source": [
    "def get_transacciones_text(numero):\n",
    "    if numero == 1:\n",
    "        return str(numero) + \" transacción dirigida\"\n",
    "    else:\n",
    "        return str(numero) + \" transacciones dirigidas\""
   ]
  },
  {
   "cell_type": "code",
   "execution_count": 15,
   "id": "b75ea688",
   "metadata": {},
   "outputs": [],
   "source": [
    "def get_sdr(ayto):\n",
    "    df = pd.read_excel(\"P:/Regulacion/49 Encargo MinHac 20-22/08 FSUE-DANA/FSUE-DANA2019 - Beneficiarios y renuncias a 202200411.xlsx\",\n",
    "                       sheet_name= \"Hoja1\")\n",
    "    df = df[df[\"Cod. F2020\"] == ayto]\n",
    "    if df.shape[0]!= 1:\n",
    "        raise ValueError(\"Pepe es un cabron\")\n",
    "    return df[\"SPB Nº\"].iloc[0], df[\"IMPORTE JUSTIFICADO\"].iloc[0],df[\"Cantidad Aceptada\"].iloc[0], df[\"IMPORTE CERTIFICADO\"].iloc[0]"
   ]
  },
  {
   "cell_type": "code",
   "execution_count": 16,
   "id": "a1766cf7",
   "metadata": {},
   "outputs": [],
   "source": [
    "def ayto_renamer(ayto):\n",
    "    result = []\n",
    "    for item in ayto.split():\n",
    "        if item == \"DE\":\n",
    "            result.append(item.lower())\n",
    "        else:\n",
    "            result.append(item.capitalize())\n",
    "    print(\" \".join(result))\n",
    "    return \" \".join(result)"
   ]
  },
  {
   "cell_type": "code",
   "execution_count": 17,
   "id": "7d3a2364",
   "metadata": {},
   "outputs": [],
   "source": [
    "def get_verificador(ayto):\n",
    "    ayto = ayto.split(\"-\")\n",
    "    for item in ayto:\n",
    "        if \"MAC\" in item:\n",
    "            return \"M. de Andrés\"\n",
    "        if \"JOG\" in item:\n",
    "            return \"J. Osa\"\n",
    "        if \"DGM\" in item:\n",
    "            return \"D. Gutierrez\"\n",
    "        else:\n",
    "            continue"
   ]
  },
  {
   "cell_type": "code",
   "execution_count": 18,
   "id": "7e460a44",
   "metadata": {},
   "outputs": [
    {
     "data": {
      "text/plain": [
       "'[importe certificado]'"
      ]
     },
     "execution_count": 18,
     "metadata": {},
     "output_type": "execute_result"
    }
   ],
   "source": [
    "'[cantidad aceptada]'\n",
    "'[SO-DANA2022SRXX]'\n",
    "'[Organismo beneficiario]'\n",
    "'[importe justificado]'\n",
    "'[#transacciones]'\n",
    "'[importe certificado]'"
   ]
  },
  {
   "cell_type": "code",
   "execution_count": 19,
   "id": "00c0d112",
   "metadata": {
    "scrolled": false
   },
   "outputs": [
    {
     "name": "stderr",
     "output_type": "stream",
     "text": [
      "C:\\Users\\bllanos\\Anaconda3\\lib\\site-packages\\openpyxl\\worksheet\\_reader.py:312: UserWarning: Data Validation extension is not supported and will be removed\n",
      "  warn(msg)\n"
     ]
    },
    {
     "name": "stdout",
     "output_type": "stream",
     "text": [
      "Confederacion Hidrografica Del Segura, O.a. Del Miteco\n",
      "CONF.HIDRO.SEGURA-MAC\n"
     ]
    },
    {
     "name": "stderr",
     "output_type": "stream",
     "text": [
      "<ipython-input-12-9a609bde63bb>:12: FutureWarning: In a future version of pandas all arguments of DataFrame.drop except for the argument 'labels' will be keyword-only\n",
      "  df = df.drop('elegible', 1)\n"
     ]
    },
    {
     "name": "stdout",
     "output_type": "stream",
     "text": [
      "Wall time: 3.5 s\n"
     ]
    }
   ],
   "source": [
    "%%time\n",
    "for k,v in ayuntamientos.items():\n",
    "    if k not in sin_fichero:\n",
    "        values = get_sdr(v[2])\n",
    "        if get_df_contratos(os.path.join(fichero_padre,k,\"Justificacion_FSUE-DANA.xlsx\")) == 0:\n",
    "            document = Document(main_file_2)\n",
    "            print(k, \"0 contratos\")\n",
    "        else:\n",
    "            document = Document(main_file)\n",
    "        elementos= {'[cantidad aceptada]':'{:,.2f}'.format(values[2]).replace(\",\", \"@\").replace(\".\", \",\").replace(\"@\", \".\"),\n",
    "            '[SO-DANA2022SRXX]':\"SO-DANA2022\" + values[0],\n",
    "            '[Organismo Beneficiario]': ayto_renamer(v[1].replace(\"GASTOS DANA \",\"\")),\n",
    "            '[importe justificado]':'{:,.2f}'.format(values[1]).replace(\",\", \"@\").replace(\".\", \",\").replace(\"@\", \".\"),\n",
    "            '[#transacciones]':get_transacciones_text(get_num_facturas(os.path.join(fichero_padre,k,\"Justificacion_FSUE-DANA.xlsx\"))),\n",
    "            '[#numtransacciones]': get_num_facturas(os.path.join(fichero_padre,k,\"Justificacion_FSUE-DANA.xlsx\")),\n",
    "            '[importe certificado]': '{:,.2f}'.format(values[3]).replace(\",\", \"@\").replace(\".\", \",\").replace(\"@\", \".\"),\n",
    "            '[Verificador]': get_verificador(k),\n",
    "            '[importe VST]':\n",
    "            '[num trans VST]':\n",
    "        }\n",
    "        print(k)\n",
    "        for paragraph in document.paragraphs:\n",
    "            for texto, reemplazo in elementos.items():\n",
    "                paragraph.text = paragraph.text.replace(texto, str(reemplazo))\n",
    "        for table in document.tables:\n",
    "            for row in table.rows:\n",
    "                for cell in row.cells:\n",
    "                    if cell.text == \"\":\n",
    "                        continue\n",
    "                    else:\n",
    "                        for paragraph in cell.paragraphs:\n",
    "                            for texto, reemplazo in elementos.items():\n",
    "                                if texto in paragraph.text:\n",
    "                                    estilo = paragraph.style\n",
    "                                    paragraph.text = paragraph.text.replace(texto,str(reemplazo))\n",
    "                                    #cell.text.style = estilo\n",
    "                                else:\n",
    "                                    continue\n",
    "        \n",
    "        #print(elementos[\"[Organismo Beneficiario]\"])\n",
    "        df = get_df_facturas(os.path.join(fichero_padre,k,\"Justificacion_FSUE-DANA.xlsx\"))\n",
    "        #display(df)\n",
    "        df.to_excel(os.path.join(fichero_padre,k,f\"transacciones_{elementos['[Organismo Beneficiario]']}.xlsx\"))\n",
    "        '''for table in document.tables:\n",
    "            if table.cell(0,0).text == \"Tabla a Modificar\":\n",
    "                estilo = table.style\n",
    "                df = get_df_facturas(os.path.join(fichero_padre,k,\"Justificacion_FSUE-DANA.xlsx\"))\n",
    "                print(table.cell(0,0).text)\n",
    "                print(\"aqui\")\n",
    "                for i in range(df.shape[1]):\n",
    "                    print(len(table.columns))\n",
    "                    table.cell(0,i).text = \"ASFGNTSH\"\n",
    "                    table.autofit\n",
    "                    table.add_column(1)\n",
    "                    table.autofit\n",
    "                table.style = estilo\n",
    "                table.autofit\n",
    "                display(df)'''\n",
    "            \n",
    "            \n",
    "            \n",
    "            \n",
    "            \n",
    "            \n",
    "            \n",
    "        #print(heading)\n",
    "            #table.styte = estilo\n",
    "            #print(paragraph.text)\n",
    "        document.save(os.path.join(fichero_padre,k,f\"XXXXX_1 Plantilla Informe VAD Nº1 FSUE_{elementos['[Organismo Beneficiario]']} vdefinitiva.docx\"))\n",
    "            \n",
    "        "
   ]
  },
  {
   "cell_type": "code",
   "execution_count": null,
   "id": "1b99897e",
   "metadata": {},
   "outputs": [],
   "source": []
  },
  {
   "cell_type": "code",
   "execution_count": null,
   "id": "ce716bb6",
   "metadata": {},
   "outputs": [],
   "source": []
  }
 ],
 "metadata": {
  "kernelspec": {
   "display_name": "Python 3",
   "language": "python",
   "name": "python3"
  },
  "language_info": {
   "codemirror_mode": {
    "name": "ipython",
    "version": 3
   },
   "file_extension": ".py",
   "mimetype": "text/x-python",
   "name": "python",
   "nbconvert_exporter": "python",
   "pygments_lexer": "ipython3",
   "version": "3.8.11"
  }
 },
 "nbformat": 4,
 "nbformat_minor": 5
}
