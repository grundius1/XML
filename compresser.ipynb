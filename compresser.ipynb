{
 "cells": [
  {
   "cell_type": "code",
   "execution_count": 1,
   "id": "9a7a99ce",
   "metadata": {},
   "outputs": [],
   "source": [
    "import os\n",
    "import zipfile"
   ]
  },
  {
   "cell_type": "code",
   "execution_count": 2,
   "id": "8501cac8",
   "metadata": {},
   "outputs": [],
   "source": [
    "main_directory = \"P:/Regulacion/49 Encargo MinHac 20-22/08 FSUE-DANA/03 Entregables/1. Informes VAD y VST - copia\""
   ]
  },
  {
   "cell_type": "code",
   "execution_count": 3,
   "id": "e9b92793",
   "metadata": {
    "scrolled": false
   },
   "outputs": [
    {
     "name": "stdout",
     "output_type": "stream",
     "text": [
      "A.P. Cartagena\n",
      "('P:/Regulacion/49 Encargo MinHac 20-22/08 FSUE-DANA/03 Entregables/1. Informes VAD y VST - copia\\\\A.P. Cartagena', [], ['221949_1 Informe VAD Nº1 FSUE_Autoridad Portuaria Cartagena (mitma) vdefinitiva.pdf', '221949_1_informe_vad_n_1_fsue_autoridad_portuaria_cartagena__mitma__vdefinitiva_signed.pdf', 'transacciones_Autoridad Portuaria Cartagena (mitma).xlsx'])\n",
      "Aena\n",
      "('P:/Regulacion/49 Encargo MinHac 20-22/08 FSUE-DANA/03 Entregables/1. Informes VAD y VST - copia\\\\Aena', [], ['221964_1 Informe VAD Nº1 FSUE_Aena (mitma) vdefinitiva.pdf', '221964_1_informe_vad_n_1_fsue_aena__mitma__vdefinitiva_signed.pdf', 'transacciones_Aena (mitma).xlsx'])\n",
      "Almoradí\n",
      "('P:/Regulacion/49 Encargo MinHac 20-22/08 FSUE-DANA/03 Entregables/1. Informes VAD y VST - copia\\\\Almoradí', [], ['18_221977_1_plantilla_informe_vad_n_1_fsue_ayuntamiento_de_almoradi_vdefinitiva.pdf', 'IMAGENES.7z', 'transacciones_Ayuntamiento de Almoradí.xlsx'])\n",
      "Ayuntamiento de Abanilla\n",
      "('P:/Regulacion/49 Encargo MinHac 20-22/08 FSUE-DANA/03 Entregables/1. Informes VAD y VST - copia\\\\Ayuntamiento de Abanilla', [], ['37_ishace-222028-1il_informe_vad_n_1_fsue_ayuntamiento_de_abanilla_vdefinitiva.pdf', 'ishace-222028-1il_informe_vad_n_1_fsue_ayuntamiento_de_abanilla_vdefinitiva_signed.pdf', 'Listas_contratos.XLSX', 'transacciones_Ayuntamiento de Abanilla.xlsx'])\n",
      "Ayuntamiento de Abarán\n",
      "('P:/Regulacion/49 Encargo MinHac 20-22/08 FSUE-DANA/03 Entregables/1. Informes VAD y VST - copia\\\\Ayuntamiento de Abarán', [], ['222010_1 Informe VAD Nº1 FSUE_Ayuntamiento de Abarán vdefinitiva.pdf', '222010_1_informe_vad_n_1_fsue_ayuntamiento_de_abaran_vdefinitiva_signed.pdf', 'transacciones_Ayuntamiento de Abarán.xlsx'])\n",
      "Ayuntamiento de Agullent\n",
      "('P:/Regulacion/49 Encargo MinHac 20-22/08 FSUE-DANA/03 Entregables/1. Informes VAD y VST - copia\\\\Ayuntamiento de Agullent', [], ['36_ishace-222027-1il_informe_vad_n_1_fsue_ayuntamiento_de_agullent_vdefinitiva.pdf', 'ishace-222027-1il_informe_vad_n_1_fsue_ayuntamiento_de_agullent_vdefinitiva_signed.pdf', 'transacciones_Ayuntamiento de Agullent.xlsx'])\n",
      "Ayuntamiento de Albaida\n",
      "('P:/Regulacion/49 Encargo MinHac 20-22/08 FSUE-DANA/03 Entregables/1. Informes VAD y VST - copia\\\\Ayuntamiento de Albaida', [], ['221957_1 Informe VAD Nº1 FSUE_Ayuntamiento de Albaida vdefinitiva.pdf', '221957_1_informe_vad_n_1_fsue_ayuntamiento_de_albaida_vdefinitiva_signed.pdf', 'transacciones_Ayuntamiento de Albaida.xlsx'])\n",
      "Ayuntamiento de Albatera\n",
      "('P:/Regulacion/49 Encargo MinHac 20-22/08 FSUE-DANA/03 Entregables/1. Informes VAD y VST - copia\\\\Ayuntamiento de Albatera', [], ['35_ishace-222026-1il_informe_vad_n_1_fsue_ayuntamiento_de_albatera_vdefinitiva.pdf', 'ishace-222026-1il_informe_vad_n_1_fsue_ayuntamiento_de_albatera_vdefinitiva_signed.pdf', 'transacciones_Ayuntamiento de Albatera.xlsx'])\n",
      "Ayuntamiento de Alcóntar\n",
      "('P:/Regulacion/49 Encargo MinHac 20-22/08 FSUE-DANA/03 Entregables/1. Informes VAD y VST - copia\\\\Ayuntamiento de Alcóntar', [], ['34_ishace-222025-1il_informe_vad_n_1_fsue_ayuntamiento_de_alcontar_vdefinitiva.pdf', 'ishace-222024-1il_informe_vad_n_1_fsue_ayuntamiento_de_algorfa_vdefinitiva_signed.pdf', 'transacciones_Ayuntamiento de Alcóntar.xlsx'])\n",
      "Ayuntamiento de Algorfa\n",
      "('P:/Regulacion/49 Encargo MinHac 20-22/08 FSUE-DANA/03 Entregables/1. Informes VAD y VST - copia\\\\Ayuntamiento de Algorfa', [], ['33_ishace-222024-1il_informe_vad_n_1_fsue_ayuntamiento_de_algorfa_vdefinitiva.pdf', 'ishace-222024-1il_informe_vad_n_1_fsue_ayuntamiento_de_algorfa_vdefinitiva_signed.pdf', 'Listas_contratos.XLSX', 'transacciones_Ayuntamiento de Algorfa.xlsx'])\n",
      "Ayuntamiento de Alhaurín de la Torre\n",
      "('P:/Regulacion/49 Encargo MinHac 20-22/08 FSUE-DANA/03 Entregables/1. Informes VAD y VST - copia\\\\Ayuntamiento de Alhaurín de la Torre', [], ['221950_1 Informe VAD Nº1 FSUE_Ayuntamiento de Alhaurín de La Torre vdefinitiva.pdf', '221950_1_informe_vad_n_1_fsue_ayuntamiento_de_alhaurin_de_la_torre_vdefinitiva_signed.pdf', 'transacciones_Ayuntamiento de Alhaurín de La Torre.xlsx'])\n",
      "Ayuntamiento de Almansa\n",
      "('P:/Regulacion/49 Encargo MinHac 20-22/08 FSUE-DANA/03 Entregables/1. Informes VAD y VST - copia\\\\Ayuntamiento de Almansa', [], ['222011_1 Informe VAD Nº1 FSUE_Ayuntamiento de Almansa vdefinitiva.pdf', '222011_1_informe_vad_n_1_fsue_ayuntamiento_de_almansa_vdefinitiva_signed.pdf', 'transacciones_Ayuntamiento de Almansa.xlsx'])\n",
      "Ayuntamiento de Almería\n",
      "('P:/Regulacion/49 Encargo MinHac 20-22/08 FSUE-DANA/03 Entregables/1. Informes VAD y VST - copia\\\\Ayuntamiento de Almería', [], ['19_221976_1_plantilla_informe_vad_n_1_fsue_ayuntamiento_de_almeria_vdefinitiva.pdf', 'IMAGENES.7z', 'transacciones_Ayuntamiento de Almería.xlsx'])\n",
      "Ayuntamiento de Arboleas\n",
      "('P:/Regulacion/49 Encargo MinHac 20-22/08 FSUE-DANA/03 Entregables/1. Informes VAD y VST - copia\\\\Ayuntamiento de Arboleas', [], ['221956_1 Informe VAD Nº1 FSUE_Ayuntamiento de Arboleas vdefinitiva.pdf', '221956_1_informe_vad_n_1_fsue_ayuntamiento_de_arboleas_vdefinitiva_signed.pdf', 'transacciones_Ayuntamiento de Arboleas.xlsx'])\n",
      "Ayuntamiento de Archena\n",
      "('P:/Regulacion/49 Encargo MinHac 20-22/08 FSUE-DANA/03 Entregables/1. Informes VAD y VST - copia\\\\Ayuntamiento de Archena', [], ['221951_1 Informe VAD Nº1 FSUE_Ayuntamiento de Archena vdefinitiva.pdf', '221951_1_informe_vad_n_1_fsue_ayuntamiento_de_archena_vdefinitiva_signed.pdf', 'transacciones_Ayuntamiento de Archena.xlsx'])\n",
      "Ayuntamiento de Puerto Lumbreras\n",
      "('P:/Regulacion/49 Encargo MinHac 20-22/08 FSUE-DANA/03 Entregables/1. Informes VAD y VST - copia\\\\Ayuntamiento de Puerto Lumbreras', [], ['11_ishace-222029-1il_informe_vad_n_1_fsue_ayuntamiento_de_puerto_lumbreras_vdefinitiva.pdf', 'imágenes.7z', 'ishace-222029-1il_informe_vad_n_1_fsue_ayuntamiento_de_puerto_lumbreras_vdefinitiva_signed.pdf', 'ISHACE-222065-1IL Informe definitivo VST Nº1 FSUE__Ayuntamiento de Puerto Lumbreras vdefinitiva.pdf', 'ishace-222065-1il_informe_definitivo_vst_n_1_fsue__ayuntamiento_de_puerto_lumbreras_vdefinitiva_signed.pdf', 'Listas_contratos.XLSX', 'SGDU-Informe-Conclusiones-VST-SR050-Ayuntamiento de Puerto Lumbreras.pdf.xsig.pdf', 'transacciones_Ayuntamiento de Puerto Lumbreras.xlsx'])\n",
      "zip\n"
     ]
    },
    {
     "data": {
      "text/plain": [
       "{'A.P. Cartagena': 3,\n",
       " 'Aena': 3,\n",
       " 'Almoradí': 3,\n",
       " 'Ayuntamiento de Abanilla': 4,\n",
       " 'Ayuntamiento de Abarán': 3,\n",
       " 'Ayuntamiento de Agullent': 3,\n",
       " 'Ayuntamiento de Albaida': 3,\n",
       " 'Ayuntamiento de Albatera': 3,\n",
       " 'Ayuntamiento de Alcóntar': 3,\n",
       " 'Ayuntamiento de Algorfa': 4,\n",
       " 'Ayuntamiento de Alhaurín de la Torre': 3,\n",
       " 'Ayuntamiento de Almansa': 3,\n",
       " 'Ayuntamiento de Almería': 3,\n",
       " 'Ayuntamiento de Arboleas': 3,\n",
       " 'Ayuntamiento de Archena': 3,\n",
       " 'Ayuntamiento de Puerto Lumbreras': 8}"
      ]
     },
     "execution_count": 3,
     "metadata": {},
     "output_type": "execute_result"
    }
   ],
   "source": [
    "archivos = {}\n",
    "for item in os.listdir(main_directory):\n",
    "    print(item)\n",
    "    if item != \"zip\":\n",
    "        for archives in os.walk(os.path.join(main_directory,item), topdown=False):\n",
    "            print(archives)\n",
    "            #print(\"-------------\")\n",
    "            created_zip = zipfile.ZipFile(os.path.join(main_directory,\"zip\",item)+\".zip\", 'w')\n",
    "            archivos.update({item:len(archives[2])})\n",
    "            for archive in archives[2]:\n",
    "                created_zip.write(os.path.join(main_directory,item,archive),archive,compress_type = zipfile.ZIP_DEFLATED)\n",
    "            created_zip.close()\n",
    "archivos            "
   ]
  },
  {
   "cell_type": "code",
   "execution_count": null,
   "id": "2261ffe4",
   "metadata": {},
   "outputs": [],
   "source": []
  }
 ],
 "metadata": {
  "kernelspec": {
   "display_name": "Python 3",
   "language": "python",
   "name": "python3"
  },
  "language_info": {
   "codemirror_mode": {
    "name": "ipython",
    "version": 3
   },
   "file_extension": ".py",
   "mimetype": "text/x-python",
   "name": "python",
   "nbconvert_exporter": "python",
   "pygments_lexer": "ipython3",
   "version": "3.8.11"
  }
 },
 "nbformat": 4,
 "nbformat_minor": 5
}
