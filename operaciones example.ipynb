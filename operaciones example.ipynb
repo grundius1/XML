{
 "cells": [
  {
   "cell_type": "code",
   "execution_count": 1,
   "id": "07f34f47",
   "metadata": {},
   "outputs": [],
   "source": [
    "import os\n",
    "import csv\n",
    "import re"
   ]
  },
  {
   "cell_type": "code",
   "execution_count": 2,
   "id": "82e1fe2b",
   "metadata": {},
   "outputs": [],
   "source": [
    "operaciones = \"C:/Users/bllanos/Desktop/Simulacion_dana/data_blp/\"\n",
    "mainfolder= \"C:/Users/bllanos/Desktop/Simulacion_dana\""
   ]
  },
  {
   "cell_type": "code",
   "execution_count": 3,
   "id": "e57a88f9",
   "metadata": {
    "scrolled": true
   },
   "outputs": [
    {
     "data": {
      "text/plain": [
       "['ABANILLA',\n",
       " 'ABARÁN',\n",
       " 'AENA',\n",
       " 'AGULLENT',\n",
       " 'ALBAIDA',\n",
       " 'ALBATERA',\n",
       " 'ALCAUCÍN-RENUNCIA',\n",
       " 'ALCÁZARES',\n",
       " 'ALCÓNTAR-JRL',\n",
       " 'ALGORFA',\n",
       " 'ALHAURÍN DE LA TORRE',\n",
       " 'ALMANSA',\n",
       " 'ALMERÍA',\n",
       " 'ALMORADÍ',\n",
       " 'ALQUERIA DE AZNAR',\n",
       " 'AP CARTAGENA',\n",
       " 'ARBOLEAS',\n",
       " 'ARCHENA',\n",
       " 'ARCHIDONA',\n",
       " 'BAZA',\n",
       " 'BENIEL',\n",
       " 'BIENSERVIDA-RENUNCIA',\n",
       " 'BIGASTRO',\n",
       " 'BLANCA',\n",
       " 'CAMPOS DEL RÍO',\n",
       " 'CARTAGENA',\n",
       " 'CASTILLA LA MANCHA',\n",
       " 'CASTTRIL-JRL',\n",
       " 'CHAUCHINA',\n",
       " 'CIEZA',\n",
       " 'COCENTAINA',\n",
       " 'CONF.HIDRO.JÚCAR-EBB',\n",
       " 'CONF.HIDRO.SEGURA-MAC',\n",
       " 'COX',\n",
       " 'COÍN',\n",
       " 'CREVILLENT',\n",
       " 'CUEVAS DEL CAMPO',\n",
       " 'CULLAR',\n",
       " 'data_blp',\n",
       " 'DAYA NUEVA',\n",
       " 'DENIA',\n",
       " 'DGCMTM y AU',\n",
       " 'DP ALBACETE',\n",
       " 'DP ALMERÍA',\n",
       " 'DP GRANADA',\n",
       " 'DP MÁLAGA',\n",
       " 'FUENTE-ÁLAMO',\n",
       " 'GALLARDOS',\n",
       " 'GENERALITAT VALENCIANA-EBB',\n",
       " 'GRANADA',\n",
       " 'HELLÍN',\n",
       " 'HOYA GONZALO-JRL',\n",
       " 'HUESCAR',\n",
       " 'JACARILA',\n",
       " 'JUNTA ANDALUCÍA-JOG',\n",
       " 'L-OLLERIA-JRL',\n",
       " 'LOJA',\n",
       " 'LORCA',\n",
       " 'LORCHA',\n",
       " 'LORQUÍ',\n",
       " 'MINISTERIO DEFENSA-EBB',\n",
       " 'MOLINA DEL SEGURA',\n",
       " 'MOLINICOS',\n",
       " 'MONACHIL-JRL',\n",
       " 'NERPIO',\n",
       " 'NIJAR-MAC',\n",
       " 'NOVELDA-EBB',\n",
       " 'OJÓS-JRL',\n",
       " 'OLULA DEL RÍO',\n",
       " 'ONTINYENT',\n",
       " 'ONTUR',\n",
       " 'ORIHUELA-MAC',\n",
       " 'OTOS',\n",
       " 'PARCENT',\n",
       " 'PILAR DE LA HORADADA',\n",
       " 'PINOS GENIL-JRL',\n",
       " 'PUEBLA DE DON FADRIQUE',\n",
       " 'PUERTO LUMBRERAS',\n",
       " 'PULPÍ',\n",
       " 'PURCHENA',\n",
       " 'REDOVÁN',\n",
       " 'REGIÓN DE MURCIA',\n",
       " 'RENFE',\n",
       " 'RINCÓN DE LA VICTORIA',\n",
       " 'RIOJA',\n",
       " 'SAN FULGENCIO',\n",
       " 'SAN JAVIER',\n",
       " 'SANTOMERA',\n",
       " 'SERÓN',\n",
       " 'TABERNO',\n",
       " 'TORRE PACHECO',\n",
       " 'TORRES DE COTILLAS',\n",
       " 'TOTANA-JRL',\n",
       " 'TÍJOLA',\n",
       " 'ULEA',\n",
       " 'UNIÓN',\n",
       " 'URRACAL',\n",
       " 'VALLADA',\n",
       " 'VILLANUEVA DEL RIO SEGURA',\n",
       " 'VIVEROS-JRL',\n",
       " 'VÉLEZ',\n",
       " 'ZURGENA']"
      ]
     },
     "execution_count": 3,
     "metadata": {},
     "output_type": "execute_result"
    }
   ],
   "source": [
    "beneficiarios = os.listdir(mainfolder)\n",
    "beneficiarios"
   ]
  },
  {
   "cell_type": "code",
   "execution_count": null,
   "id": "41f419d5",
   "metadata": {},
   "outputs": [],
   "source": []
  },
  {
   "cell_type": "code",
   "execution_count": 4,
   "id": "c72523ae",
   "metadata": {},
   "outputs": [
    {
     "data": {
      "text/plain": [
       "'C:/Users/bllanos/Desktop/Simulacion_dana/data_blp/Operaciones_PRE.csv'"
      ]
     },
     "execution_count": 4,
     "metadata": {},
     "output_type": "execute_result"
    }
   ],
   "source": [
    "file = os.path.join(operaciones,\"Operaciones_PRE.csv\")\n",
    "file"
   ]
  },
  {
   "cell_type": "code",
   "execution_count": 5,
   "id": "1e26e3d2",
   "metadata": {},
   "outputs": [],
   "source": [
    "def beneficiarios_cleaner(mainfolder):\n",
    "    beneficiarios = os.listdir(mainfolder)\n",
    "    new_benefs=[]\n",
    "    for name in beneficiarios:\n",
    "        if len(re.findall(r'OLLERIA', name)) != 0:\n",
    "            name = name.split(\"-\")[1]\n",
    "            new_benefs.append(name)\n",
    "        else:\n",
    "            name = name.split(\"-\")[0]\n",
    "            new_benefs.append(name)\n",
    "    return new_benefs"
   ]
  },
  {
   "cell_type": "code",
   "execution_count": 6,
   "id": "3eaa7521",
   "metadata": {
    "scrolled": false
   },
   "outputs": [],
   "source": [
    "beneficiarios2 = beneficiarios_cleaner(mainfolder)"
   ]
  },
  {
   "cell_type": "code",
   "execution_count": 7,
   "id": "5650e33c",
   "metadata": {},
   "outputs": [
    {
     "data": {
      "text/plain": [
       "['ABANILLA',\n",
       " 'ABARÁN',\n",
       " 'AENA',\n",
       " 'AGULLENT',\n",
       " 'ALBAIDA',\n",
       " 'ALBATERA',\n",
       " 'ALCAUCÍN',\n",
       " 'ALCÁZARES',\n",
       " 'ALCÓNTAR',\n",
       " 'ALGORFA',\n",
       " 'ALHAURÍN DE LA TORRE',\n",
       " 'ALMANSA',\n",
       " 'ALMERÍA',\n",
       " 'ALMORADÍ',\n",
       " 'ALQUERIA DE AZNAR',\n",
       " 'AP CARTAGENA',\n",
       " 'ARBOLEAS',\n",
       " 'ARCHENA',\n",
       " 'ARCHIDONA',\n",
       " 'BAZA',\n",
       " 'BENIEL',\n",
       " 'BIENSERVIDA',\n",
       " 'BIGASTRO',\n",
       " 'BLANCA',\n",
       " 'CAMPOS DEL RÍO',\n",
       " 'CARTAGENA',\n",
       " 'CASTILLA LA MANCHA',\n",
       " 'CASTTRIL',\n",
       " 'CHAUCHINA',\n",
       " 'CIEZA',\n",
       " 'COCENTAINA',\n",
       " 'CONF.HIDRO.JÚCAR',\n",
       " 'CONF.HIDRO.SEGURA',\n",
       " 'COX',\n",
       " 'COÍN',\n",
       " 'CREVILLENT',\n",
       " 'CUEVAS DEL CAMPO',\n",
       " 'CULLAR',\n",
       " 'data_blp',\n",
       " 'DAYA NUEVA',\n",
       " 'DENIA',\n",
       " 'DGCMTM y AU',\n",
       " 'DP ALBACETE',\n",
       " 'DP ALMERÍA',\n",
       " 'DP GRANADA',\n",
       " 'DP MÁLAGA',\n",
       " 'FUENTE',\n",
       " 'GALLARDOS',\n",
       " 'GENERALITAT VALENCIANA',\n",
       " 'GRANADA',\n",
       " 'HELLÍN',\n",
       " 'HOYA GONZALO',\n",
       " 'HUESCAR',\n",
       " 'JACARILA',\n",
       " 'JUNTA ANDALUCÍA',\n",
       " 'OLLERIA',\n",
       " 'LOJA',\n",
       " 'LORCA',\n",
       " 'LORCHA',\n",
       " 'LORQUÍ',\n",
       " 'MINISTERIO DEFENSA',\n",
       " 'MOLINA DEL SEGURA',\n",
       " 'MOLINICOS',\n",
       " 'MONACHIL',\n",
       " 'NERPIO',\n",
       " 'NIJAR',\n",
       " 'NOVELDA',\n",
       " 'OJÓS',\n",
       " 'OLULA DEL RÍO',\n",
       " 'ONTINYENT',\n",
       " 'ONTUR',\n",
       " 'ORIHUELA',\n",
       " 'OTOS',\n",
       " 'PARCENT',\n",
       " 'PILAR DE LA HORADADA',\n",
       " 'PINOS GENIL',\n",
       " 'PUEBLA DE DON FADRIQUE',\n",
       " 'PUERTO LUMBRERAS',\n",
       " 'PULPÍ',\n",
       " 'PURCHENA',\n",
       " 'REDOVÁN',\n",
       " 'REGIÓN DE MURCIA',\n",
       " 'RENFE',\n",
       " 'RINCÓN DE LA VICTORIA',\n",
       " 'RIOJA',\n",
       " 'SAN FULGENCIO',\n",
       " 'SAN JAVIER',\n",
       " 'SANTOMERA',\n",
       " 'SERÓN',\n",
       " 'TABERNO',\n",
       " 'TORRE PACHECO',\n",
       " 'TORRES DE COTILLAS',\n",
       " 'TOTANA',\n",
       " 'TÍJOLA',\n",
       " 'ULEA',\n",
       " 'UNIÓN',\n",
       " 'URRACAL',\n",
       " 'VALLADA',\n",
       " 'VILLANUEVA DEL RIO SEGURA',\n",
       " 'VIVEROS',\n",
       " 'VÉLEZ',\n",
       " 'ZURGENA']"
      ]
     },
     "execution_count": 7,
     "metadata": {},
     "output_type": "execute_result"
    }
   ],
   "source": [
    "beneficiarios2"
   ]
  },
  {
   "cell_type": "code",
   "execution_count": 16,
   "id": "b6886463",
   "metadata": {},
   "outputs": [],
   "source": [
    "def operations_info(file,searcher):\n",
    "    operationslist =[]\n",
    "    with open(file,encoding=\"utf-8\") as f:\n",
    "        f.readline()\n",
    "        for line in f.readlines():\n",
    "            dic={\"operacion\":\"\",\n",
    "                    \"benef\":\"\",\n",
    "                    \"nombre\":\"\"}\n",
    "            #print(line.split(\";\"))\n",
    "            dic[\"operacion\"] = line.split(\";\")[2].replace(\"=\\\"\",\"\").replace(\"\\\"\",\"\")\n",
    "            dic[\"benef\"] = line.split(\";\")[11].replace(\"\\\"\",\"\")\n",
    "            dic[\"nombre\"] = line.split(\";\")[3].replace(\"=\\\"\",\"\").replace(\"\\\"\",\"\")\n",
    "            operationslist.append(dic)\n",
    "    print(operationslist)"
   ]
  },
  {
   "cell_type": "code",
   "execution_count": 17,
   "id": "3d23c342",
   "metadata": {},
   "outputs": [
    {
     "name": "stdout",
     "output_type": "stream",
     "text": [
      "[{'operacion': 'ES114009_1', 'benef': 'ES114009', 'nombre': 'GASTOS DANA MINISTERIO DE DEFENSA (SUBDIRECTOR GENERAL DE GESTIÓN ECONÓMICA DE LA DIRECCIÓN GENERAL DE ASUNTOS ECONÓMICOS DEL MINISTERIO DE DEFENSA)'}, {'operacion': 'ES117002_1', 'benef': 'ES117002', 'nombre': 'GASTOS DANA ADIF (MITMA)'}, {'operacion': 'ES117007_1', 'benef': 'ES117007', 'nombre': 'GASTOS DANA DG CARRETERASV (MITMA)'}, {'operacion': 'ES117023_1', 'benef': 'ES117023', 'nombre': 'GASTOS DANA AENA (MITMA)'}, {'operacion': 'ES117024_1', 'benef': 'ES117024', 'nombre': 'GASTOS DANA RENFE (MITMA)'}, {'operacion': 'ES117025_1', 'benef': 'ES117025', 'nombre': 'GASTOS DANA AUTORIDAD PORTUARIA CARTAGENA (MITMA)'}, {'operacion': 'ES130001_1', 'benef': 'ES130001', 'nombre': 'GASTOS DANA  CONFEDERACION HIDROGRAFICA DEL JÚCAR, O.A. DEL MITECO'}, {'operacion': 'ES130006_1', 'benef': 'ES130006', 'nombre': 'GASTOS DANA CONFEDERACION HIDROGRAFICA DEL SEGURA, O.A. DEL MITECO'}, {'operacion': 'ES204001_1', 'benef': 'ES204001', 'nombre': 'GASTOS DANA JUNTA DE ANDALUCÍA'}, {'operacion': 'ES208001_1', 'benef': 'ES208001', 'nombre': 'GASTOS DANA REGIÓN DE MURCIA'}, {'operacion': 'ES209001_1', 'benef': 'ES209001', 'nombre': 'GASTOS DANA GENERALITAT VALENCIANA'}, {'operacion': 'ES211001_1', 'benef': 'ES211001', 'nombre': 'GASTOS DANA COMUNIDAD AUTÓNOMA DE CASTILLA-LA MANCHA'}, {'operacion': 'ES302002_1', 'benef': 'ES302002', 'nombre': 'GASTOS DANA AYUNTAMIENTO DE ALMANSA'}, {'operacion': 'ES302018_1', 'benef': 'ES302018', 'nombre': 'GASTOS DANA AYUNTAMIENTO DE MOLINICOS'}, {'operacion': 'ES302022_1', 'benef': 'ES302022', 'nombre': 'GASTOS DANA AYUNTAMIENTO DE BIENSERVIDA'}, {'operacion': 'ES302023_1', 'benef': 'ES302023', 'nombre': 'GASTOS DANA AYUNTAMIENTO DE NERPIO'}, {'operacion': 'ES302026_1', 'benef': 'ES302026', 'nombre': 'GASTOS DANA DIPUTACIÓN PROVINCIAL DE ALBACETE'}, {'operacion': 'ES302030_1', 'benef': 'ES302030', 'nombre': 'GASTOS DANA AYUNTAMIENTO DE VIVEROS'}, {'operacion': 'ES302051_1', 'benef': 'ES302051', 'nombre': 'GASTOS DANA AYUNTAMIENTO DE HELLÍN'}, {'operacion': 'ES302052_1', 'benef': 'ES302052', 'nombre': 'GASTOS DANA AYUNTAMIENTO DE FUENTE-ÁLAMO'}, {'operacion': 'ES302053_1', 'benef': 'ES302053', 'nombre': 'GASTOS DANA AYUNTAMIENTO DE ONTUR'}, {'operacion': 'ES302057_1', 'benef': 'ES302057', 'nombre': 'GASTOS DANA AYUNTAMIENTO DE SAN FULGENCIO'}, {'operacion': 'ES302058_1', 'benef': 'ES302058', 'nombre': 'GASTOS DANA AYUNTAMIENTO DE HOYA-GONZALO'}, {'operacion': 'ES303003_1', 'benef': 'ES303003', 'nombre': 'GASTOS DANA AYUNTAMIENTO DE ORIHUELA'}, {'operacion': 'ES303016_1', 'benef': 'ES303016', 'nombre': 'GASTOS DANA AYUNTAMIENTO DE ALGORFA'}, {'operacion': 'ES303017_1', 'benef': 'ES303017', 'nombre': 'GASTOS DANA AYUNTAMIENTO DE ALMORADÍ'}, {'operacion': 'ES303018_1', 'benef': 'ES303018', 'nombre': \"GASTOS DANA AYUNTAMIENTO DE ALQUERIA D'ASNAR, L'\"}, {'operacion': 'ES303023_1', 'benef': 'ES303023', 'nombre': 'GASTOS DANA AYUNTAMIENTO DE CALLOSA DE SEGURA'}, {'operacion': 'ES303025_1', 'benef': 'ES303025', 'nombre': 'GASTOS DANA AYUNTAMIENTO DE COCENTAINA'}, {'operacion': 'ES303026_1', 'benef': 'ES303026', 'nombre': 'GASTOS DANA AYUNTAMIENTO DE DÉNIA'}, {'operacion': 'ES303041_1', 'benef': 'ES303041', 'nombre': 'GASTOS DANA AYUNTAMIENTO DE PILAR DE LA HORADADA'}, {'operacion': 'ES303043_1', 'benef': 'ES303043', 'nombre': 'GASTOS DANA AYUNTAMIENTO DE BENIJÓFAR'}, {'operacion': 'ES303044_1', 'benef': 'ES303044', 'nombre': 'GASTOS DANA AYUNTAMIENTO DE ALBATERA'}, {'operacion': 'ES303045_1', 'benef': 'ES303045', 'nombre': 'GASTOS DANA AYUNTAMIENTO DE NOVELDA'}, {'operacion': 'ES303046_1', 'benef': 'ES303046', 'nombre': 'GASTOS DANA AYUNTAMIENTO DE DAYA NUEVA'}, {'operacion': 'ES303047_1', 'benef': 'ES303047', 'nombre': 'GASTOS DANA AYUNTAMIENTO DE CREVILLENT'}, {'operacion': 'ES303048_1', 'benef': 'ES303048', 'nombre': 'GASTOS DANA AYUNTAMIENTO DE REDOVÁN'}, {'operacion': 'ES303049_1', 'benef': 'ES303049', 'nombre': 'GASTOS DANA AYUNTAMIENTO DE PARCENT'}, {'operacion': 'ES303050_1', 'benef': 'ES303050', 'nombre': 'GASTOS DANA AYUNTAMIENTO DE AGULLENT'}, {'operacion': 'ES303051_1', 'benef': 'ES303051', 'nombre': 'GASTOS DANA AYUNTAMIENTO DE BIGASTRO'}, {'operacion': 'ES303052_1', 'benef': 'ES303052', 'nombre': 'GASTOS DANA AYUNTAMIENTO DE JACARILLA'}, {'operacion': 'ES303053_1', 'benef': 'ES303053', 'nombre': 'GASTOS DANA AYUNTAMIENTO DE COX'}, {'operacion': 'ES303054_1', 'benef': 'ES303054', 'nombre': \"GASTOS DANA AYUNTAMIENTO DE LORCHA/ORXA, L'\"}, {'operacion': 'ES304004_1', 'benef': 'ES304004', 'nombre': 'GASTOS DANA AYUNTAMIENTO DE ALMERÍA'}, {'operacion': 'ES304006_1', 'benef': 'ES304006', 'nombre': 'GASTOS DANA DIPUTACIÓN PROVINCIAL DE ALMERÍA'}, {'operacion': 'ES304007_1', 'benef': 'ES304007', 'nombre': 'GASTOS DANA AYUNTAMIENTO DE NÍJAR'}, {'operacion': 'ES304016_1', 'benef': 'ES304016', 'nombre': 'GASTOS DANA AYUNTAMIENTO DE PULPÍ'}, {'operacion': 'ES304019_1', 'benef': 'ES304019', 'nombre': 'GASTOS DANA AYUNTAMIENTO DE PURCHENA'}, {'operacion': 'ES304022_1', 'benef': 'ES304022', 'nombre': 'GASTOS DANA AYUNTAMIENTO DE SERÓN'}, {'operacion': 'ES304023_1', 'benef': 'ES304023', 'nombre': 'GASTOS DANA AYUNTAMIENTO DE ZURGENA'}, {'operacion': 'ES304024_1', 'benef': 'ES304024', 'nombre': 'GASTOS DANA AYUNTAMIENTO DE RIOJA'}, {'operacion': 'ES304025_1', 'benef': 'ES304025', 'nombre': 'GASTOS DANA AYUNTAMIENTO DE ARBOLEAS'}, {'operacion': 'ES304026_1', 'benef': 'ES304026', 'nombre': 'GASTOS DANA AYUNTAMIENTO DE GALLARDOS, LOS'}, {'operacion': 'ES304027_1', 'benef': 'ES304027', 'nombre': 'GASTOS DANA AYUNTAMIENTO DE OLULA DEL RÍO'}, {'operacion': 'ES304028_1', 'benef': 'ES304028', 'nombre': 'GASTOS DANA AYUNTAMIENTO DE TÍJOLA'}, {'operacion': 'ES304029_1', 'benef': 'ES304029', 'nombre': 'GASTOS DANA AYUNTAMIENTO DE ALCÓNTAR'}, {'operacion': 'ES304030_1', 'benef': 'ES304030', 'nombre': 'GASTOS DANA AYUNTAMIENTO DE TABERNO'}, {'operacion': 'ES304031_1', 'benef': 'ES304031', 'nombre': 'GASTOS DANA AYUNTAMIENTO DE URRÁCAL'}, {'operacion': 'ES312038_1', 'benef': 'ES312038', 'nombre': 'GASTOS DANA AYUNTAMIENTO DE VALLADA'}, {'operacion': 'ES318001_1', 'benef': 'ES318001', 'nombre': 'GASTOS DANA AYUNTAMIENTO DE BAZA'}, {'operacion': 'ES318003_1', 'benef': 'ES318003', 'nombre': 'GASTOS DANA AYUNTAMIENTO DE GRANADA'}, {'operacion': 'ES318007_1', 'benef': 'ES318007', 'nombre': 'GASTOS DANA DIPUTACIÓN PROVINCIAL DE GRANADA'}, {'operacion': 'ES318026_1', 'benef': 'ES318026', 'nombre': 'GASTOS DANA AYUNTAMIENTO DE MONACHIL'}, {'operacion': 'ES318042_1', 'benef': 'ES318042', 'nombre': 'GASTOS DANA AYUNTAMIENTO DE HUÉSCAR'}, {'operacion': 'ES318043_1', 'benef': 'ES318043', 'nombre': 'GASTOS DANA AYUNTAMIENTO DE PUEBLA DE DON FADRIQUE'}, {'operacion': 'ES318052_1', 'benef': 'ES318052', 'nombre': 'GASTOS DANA AYUNTAMIENTO DE BENAMAUREL'}, {'operacion': 'ES318053_1', 'benef': 'ES318053', 'nombre': 'GASTOS DANA AYUNTAMIENTO DE CHAUCHINA'}, {'operacion': 'ES318054_1', 'benef': 'ES318054', 'nombre': 'GASTOS DANA AYUNTAMIENTO DE CASTRIL'}, {'operacion': 'ES318055_1', 'benef': 'ES318055', 'nombre': 'GASTOS DANA AYUNTAMIENTO DE LOJA'}, {'operacion': 'ES318056_1', 'benef': 'ES318056', 'nombre': 'GASTOS DANA AYUNTAMIENTO DE CÚLLAR'}, {'operacion': 'ES318057_1', 'benef': 'ES318057', 'nombre': 'GASTOS DANA AYUNTAMIENTO DE PINOS GENIL'}, {'operacion': 'ES318058_1', 'benef': 'ES318058', 'nombre': 'GASTOS DANA AYUNTAMIENTO DE CUEVAS DEL CAMPO'}, {'operacion': 'ES329003_1', 'benef': 'ES329003', 'nombre': 'GASTOS DANA DIPUTACIÓN PROVINCIAL DE MÁLAGA'}, {'operacion': 'ES329005_1', 'benef': 'ES329005', 'nombre': 'GASTOS DANA AYUNTAMIENTO DE ALHAURÍN DE LA TORRE'}, {'operacion': 'ES329011_1', 'benef': 'ES329011', 'nombre': 'GASTOS DANA AYUNTAMIENTO DE RINCÓN DE LA VICTORIA'}, {'operacion': 'ES329023_1', 'benef': 'ES329023', 'nombre': 'GASTOS DANA AYUNTAMIENTO DE ARCHIDONA'}, {'operacion': 'ES329029_1', 'benef': 'ES329029', 'nombre': 'GASTOS DANA AYUNTAMIENTO DE COÍN'}, {'operacion': 'ES329032_1', 'benef': 'ES329032', 'nombre': 'GASTOS DANA AYUNTAMIENTO DE ALCAUCÍN'}, {'operacion': 'ES329033_1', 'benef': 'ES329033', 'nombre': 'GASTOS DANA AYUNTAMIENTO DE CANILLAS DE ACEITUNO'}, {'operacion': 'ES330001_1', 'benef': 'ES330001', 'nombre': 'GASTOS DANA AYUNTAMIENTO DE SAN JAVIER'}, {'operacion': 'ES330002_1', 'benef': 'ES330002', 'nombre': 'GASTOS DANA AYUNTAMIENTO DE CIEZA'}, {'operacion': 'ES330005_1', 'benef': 'ES330005', 'nombre': 'GASTOS DANA AYUNTAMIENTO DE ARCHENA'}, {'operacion': 'ES330006_1', 'benef': 'ES330006', 'nombre': 'GASTOS DANA AYUNTAMIENTO DE CARTAGENA'}, {'operacion': 'ES330008_1', 'benef': 'ES330008', 'nombre': 'GASTOS DANA AYUNTAMIENTO DE TORRES DE COTILLAS, LAS'}, {'operacion': 'ES330009_1', 'benef': 'ES330009', 'nombre': 'GASTOS DANA AYUNTAMIENTO DE MOLINA DE SEGURA'}, {'operacion': 'ES330010_1', 'benef': 'ES330010', 'nombre': 'GASTOS DANA AYUNTAMIENTO DE TORRE-PACHECO'}, {'operacion': 'ES330011_1', 'benef': 'ES330011', 'nombre': 'GASTOS DANA AYUNTAMIENTO DE PLIEGO'}, {'operacion': 'ES330013_1', 'benef': 'ES330013', 'nombre': 'GASTOS DANA AYUNTAMIENTO DE BENIEL'}, {'operacion': 'ES330014_1', 'benef': 'ES330014', 'nombre': 'GASTOS DANA AYUNTAMIENTO DE SANTOMERA'}, {'operacion': 'ES330015_1', 'benef': 'ES330015', 'nombre': 'GASTOS DANA AYUNTAMIENTO DE BLANCA'}, {'operacion': 'ES330017_1', 'benef': 'ES330017', 'nombre': 'GASTOS DANA AYUNTAMIENTO DE LORQUÍ'}, {'operacion': 'ES330018_1', 'benef': 'ES330018', 'nombre': 'GASTOS DANA AYUNTAMIENTO DE VILLANUEVA DEL RÍO SEGURA'}, {'operacion': 'ES330024_1', 'benef': 'ES330024', 'nombre': 'GASTOS DANA AYUNTAMIENTO DE ABANILLA'}, {'operacion': 'ES330025_1', 'benef': 'ES330025', 'nombre': 'GASTOS DANA AYUNTAMIENTO DE ALCÁZARES, LOS'}, {'operacion': 'ES330026_1', 'benef': 'ES330026', 'nombre': 'GASTOS DANA AYUNTAMIENTO DE OJÓS'}, {'operacion': 'ES330027_1', 'benef': 'ES330027', 'nombre': 'GASTOS DANA AYUNTAMIENTO DE UNIÓN, LA'}, {'operacion': 'ES330028_1', 'benef': 'ES330028', 'nombre': 'GASTOS DANA AYUNTAMIENTO DE LORCA'}, {'operacion': 'ES330029_1', 'benef': 'ES330029', 'nombre': 'GASTOS DANA AYUNTAMIENTO DE ULEA'}, {'operacion': 'ES330030_1', 'benef': 'ES330030', 'nombre': 'GASTOS DANA AYUNTAMIENTO DE CAMPOS DEL RÍO'}, {'operacion': 'ES330031_1', 'benef': 'ES330031', 'nombre': 'GASTOS DANA AYUNTAMIENTO DE ABARÁN'}, {'operacion': 'ES330032_1', 'benef': 'ES330032', 'nombre': 'GASTOS DANA AYUNTAMIENTO DE TOTANA'}, {'operacion': 'ES330033_1', 'benef': 'ES330033', 'nombre': 'GASTOS DANA AYUNTAMIENTO DE PUERTO LUMBRERAS'}, {'operacion': 'ES346007_1', 'benef': 'ES346007', 'nombre': 'GASTOS DANA AYUNTAMIENTO DE ONTINYENT'}, {'operacion': 'ES346012_1', 'benef': 'ES346012', 'nombre': 'GASTOS DANA AYUNTAMIENTO DE ALBAIDA'}, {'operacion': 'ES346056_1', 'benef': 'ES346056', 'nombre': \"GASTOS DANA AYUNTAMIENTO DE OLLERIA, L'\"}, {'operacion': 'ES346081_1', 'benef': 'ES346081', 'nombre': 'GASTOS DANA AYUNTAMIENTO DE OTOS'}, {'operacion': '', 'benef': '', 'nombre': ''}]\n"
     ]
    }
   ],
   "source": [
    "operations_info(os.path.join(operaciones,\"Operaciones_PRE.csv\"),beneficiarios2)"
   ]
  },
  {
   "cell_type": "code",
   "execution_count": null,
   "id": "f02bcc69",
   "metadata": {},
   "outputs": [],
   "source": []
  }
 ],
 "metadata": {
  "kernelspec": {
   "display_name": "Python 3",
   "language": "python",
   "name": "python3"
  },
  "language_info": {
   "codemirror_mode": {
    "name": "ipython",
    "version": 3
   },
   "file_extension": ".py",
   "mimetype": "text/x-python",
   "name": "python",
   "nbconvert_exporter": "python",
   "pygments_lexer": "ipython3",
   "version": "3.8.11"
  }
 },
 "nbformat": 4,
 "nbformat_minor": 5
}
