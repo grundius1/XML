{
 "cells": [
  {
   "cell_type": "code",
   "execution_count": 1,
   "id": "362286e5",
   "metadata": {},
   "outputs": [],
   "source": [
    "import os\n",
    "import csv\n",
    "import pandas as pd\n",
    "import re"
   ]
  },
  {
   "cell_type": "code",
   "execution_count": 2,
   "id": "fc8fd857",
   "metadata": {},
   "outputs": [],
   "source": [
    "mainfolder = \"P:/Regulacion/49 Encargo MinHac 20-22/08 FSUE-DANA/02 Archivos de trabajo/BENEFICIARIOS FSUE DANA\""
   ]
  },
  {
   "cell_type": "code",
   "execution_count": 3,
   "id": "3f3a0b06",
   "metadata": {},
   "outputs": [],
   "source": [
    "aytos = [\"\",\"CUEVAS DEL CAMPO\"]"
   ]
  },
  {
   "cell_type": "code",
   "execution_count": null,
   "id": "f2a509db",
   "metadata": {},
   "outputs": [],
   "source": [
    "def organismosdic(folder):\n",
    "        path = os.path.join(mainfolder,\"data_blp/ORGANISMOS.csv\")"
   ]
  },
  {
   "cell_type": "code",
   "execution_count": null,
   "id": "0953b43b",
   "metadata": {},
   "outputs": [],
   "source": [
    "org = organismosdic(mainfolder)"
   ]
  },
  {
   "cell_type": "code",
   "execution_count": 10,
   "id": "bd22b5e0",
   "metadata": {},
   "outputs": [],
   "source": [
    "def listaficheros(folder, aytos= \"All\"):\n",
    "    beneficiarios = os.listdir(folder)\n",
    "    lista = []\n",
    "    if aytos == \"All\" or aytos[0]== \"\":\n",
    "            for beneficiario in beneficiarios:\n",
    "                if \"Justificacion_FSUE-DANA.xlsx\" in os.listdir(os.path.join(mainfolder,beneficiario)):\n",
    "                    path = os.path.join(mainfolder,beneficiario,\"Justificacion_FSUE-DANA.xlsx\")\n",
    "                    lista.append((beneficiario,path))\n",
    "    else:\n",
    "        for ayto in aytos:\n",
    "            r = re.compile(f\"(?i){ayto}\")\n",
    "            lista += list(filter(r.findall, beneficiarios)) # Read Note below\n",
    "            #print(aytos)\n",
    "\n",
    "        for benef in enumerate(lista):\n",
    "            lista[benef[0]] = os.path.join(mainfolder,benef[1],\"Justificacion_FSUE-DANA.xlsx\")\n",
    "    return lista"
   ]
  },
  {
   "cell_type": "code",
   "execution_count": 11,
   "id": "b692ec4c",
   "metadata": {
    "scrolled": true
   },
   "outputs": [
    {
     "data": {
      "text/plain": [
       "[('ABANILLA',\n",
       "  'P:/Regulacion/49 Encargo MinHac 20-22/08 FSUE-DANA/02 Archivos de trabajo/BENEFICIARIOS FSUE DANA\\\\ABANILLA\\\\Justificacion_FSUE-DANA.xlsx'),\n",
       " ('ABARÁN',\n",
       "  'P:/Regulacion/49 Encargo MinHac 20-22/08 FSUE-DANA/02 Archivos de trabajo/BENEFICIARIOS FSUE DANA\\\\ABARÁN\\\\Justificacion_FSUE-DANA.xlsx'),\n",
       " ('AGULLENT',\n",
       "  'P:/Regulacion/49 Encargo MinHac 20-22/08 FSUE-DANA/02 Archivos de trabajo/BENEFICIARIOS FSUE DANA\\\\AGULLENT\\\\Justificacion_FSUE-DANA.xlsx'),\n",
       " ('ALBATERA',\n",
       "  'P:/Regulacion/49 Encargo MinHac 20-22/08 FSUE-DANA/02 Archivos de trabajo/BENEFICIARIOS FSUE DANA\\\\ALBATERA\\\\Justificacion_FSUE-DANA.xlsx'),\n",
       " ('ALCÁZARES',\n",
       "  'P:/Regulacion/49 Encargo MinHac 20-22/08 FSUE-DANA/02 Archivos de trabajo/BENEFICIARIOS FSUE DANA\\\\ALCÁZARES\\\\Justificacion_FSUE-DANA.xlsx'),\n",
       " ('ALCÓNTAR-JRL',\n",
       "  'P:/Regulacion/49 Encargo MinHac 20-22/08 FSUE-DANA/02 Archivos de trabajo/BENEFICIARIOS FSUE DANA\\\\ALCÓNTAR-JRL\\\\Justificacion_FSUE-DANA.xlsx'),\n",
       " ('ALGORFA',\n",
       "  'P:/Regulacion/49 Encargo MinHac 20-22/08 FSUE-DANA/02 Archivos de trabajo/BENEFICIARIOS FSUE DANA\\\\ALGORFA\\\\Justificacion_FSUE-DANA.xlsx'),\n",
       " ('ALHAURÍN DE LA TORRE',\n",
       "  'P:/Regulacion/49 Encargo MinHac 20-22/08 FSUE-DANA/02 Archivos de trabajo/BENEFICIARIOS FSUE DANA\\\\ALHAURÍN DE LA TORRE\\\\Justificacion_FSUE-DANA.xlsx'),\n",
       " ('ALMANSA',\n",
       "  'P:/Regulacion/49 Encargo MinHac 20-22/08 FSUE-DANA/02 Archivos de trabajo/BENEFICIARIOS FSUE DANA\\\\ALMANSA\\\\Justificacion_FSUE-DANA.xlsx'),\n",
       " ('ALMORADÍ',\n",
       "  'P:/Regulacion/49 Encargo MinHac 20-22/08 FSUE-DANA/02 Archivos de trabajo/BENEFICIARIOS FSUE DANA\\\\ALMORADÍ\\\\Justificacion_FSUE-DANA.xlsx'),\n",
       " ('ALQUERIA DE AZNAR',\n",
       "  'P:/Regulacion/49 Encargo MinHac 20-22/08 FSUE-DANA/02 Archivos de trabajo/BENEFICIARIOS FSUE DANA\\\\ALQUERIA DE AZNAR\\\\Justificacion_FSUE-DANA.xlsx'),\n",
       " ('AP CARTAGENA',\n",
       "  'P:/Regulacion/49 Encargo MinHac 20-22/08 FSUE-DANA/02 Archivos de trabajo/BENEFICIARIOS FSUE DANA\\\\AP CARTAGENA\\\\Justificacion_FSUE-DANA.xlsx'),\n",
       " ('ARBOLEAS',\n",
       "  'P:/Regulacion/49 Encargo MinHac 20-22/08 FSUE-DANA/02 Archivos de trabajo/BENEFICIARIOS FSUE DANA\\\\ARBOLEAS\\\\Justificacion_FSUE-DANA.xlsx'),\n",
       " ('ARCHENA',\n",
       "  'P:/Regulacion/49 Encargo MinHac 20-22/08 FSUE-DANA/02 Archivos de trabajo/BENEFICIARIOS FSUE DANA\\\\ARCHENA\\\\Justificacion_FSUE-DANA.xlsx'),\n",
       " ('BENIEL',\n",
       "  'P:/Regulacion/49 Encargo MinHac 20-22/08 FSUE-DANA/02 Archivos de trabajo/BENEFICIARIOS FSUE DANA\\\\BENIEL\\\\Justificacion_FSUE-DANA.xlsx'),\n",
       " ('BIGASTRO',\n",
       "  'P:/Regulacion/49 Encargo MinHac 20-22/08 FSUE-DANA/02 Archivos de trabajo/BENEFICIARIOS FSUE DANA\\\\BIGASTRO\\\\Justificacion_FSUE-DANA.xlsx'),\n",
       " ('BLANCA',\n",
       "  'P:/Regulacion/49 Encargo MinHac 20-22/08 FSUE-DANA/02 Archivos de trabajo/BENEFICIARIOS FSUE DANA\\\\BLANCA\\\\Justificacion_FSUE-DANA.xlsx'),\n",
       " ('CASTILLA LA MANCHA',\n",
       "  'P:/Regulacion/49 Encargo MinHac 20-22/08 FSUE-DANA/02 Archivos de trabajo/BENEFICIARIOS FSUE DANA\\\\CASTILLA LA MANCHA\\\\Justificacion_FSUE-DANA.xlsx'),\n",
       " ('CASTTRIL-JRL',\n",
       "  'P:/Regulacion/49 Encargo MinHac 20-22/08 FSUE-DANA/02 Archivos de trabajo/BENEFICIARIOS FSUE DANA\\\\CASTTRIL-JRL\\\\Justificacion_FSUE-DANA.xlsx'),\n",
       " ('CHAUCHINA',\n",
       "  'P:/Regulacion/49 Encargo MinHac 20-22/08 FSUE-DANA/02 Archivos de trabajo/BENEFICIARIOS FSUE DANA\\\\CHAUCHINA\\\\Justificacion_FSUE-DANA.xlsx'),\n",
       " ('COCENTAINA',\n",
       "  'P:/Regulacion/49 Encargo MinHac 20-22/08 FSUE-DANA/02 Archivos de trabajo/BENEFICIARIOS FSUE DANA\\\\COCENTAINA\\\\Justificacion_FSUE-DANA.xlsx'),\n",
       " ('CONF.HIDRO.SEGURA-MAC',\n",
       "  'P:/Regulacion/49 Encargo MinHac 20-22/08 FSUE-DANA/02 Archivos de trabajo/BENEFICIARIOS FSUE DANA\\\\CONF.HIDRO.SEGURA-MAC\\\\Justificacion_FSUE-DANA.xlsx'),\n",
       " ('COÍN',\n",
       "  'P:/Regulacion/49 Encargo MinHac 20-22/08 FSUE-DANA/02 Archivos de trabajo/BENEFICIARIOS FSUE DANA\\\\COÍN\\\\Justificacion_FSUE-DANA.xlsx'),\n",
       " ('CULLAR',\n",
       "  'P:/Regulacion/49 Encargo MinHac 20-22/08 FSUE-DANA/02 Archivos de trabajo/BENEFICIARIOS FSUE DANA\\\\CULLAR\\\\Justificacion_FSUE-DANA.xlsx'),\n",
       " ('DAYA NUEVA',\n",
       "  'P:/Regulacion/49 Encargo MinHac 20-22/08 FSUE-DANA/02 Archivos de trabajo/BENEFICIARIOS FSUE DANA\\\\DAYA NUEVA\\\\Justificacion_FSUE-DANA.xlsx'),\n",
       " ('DENIA',\n",
       "  'P:/Regulacion/49 Encargo MinHac 20-22/08 FSUE-DANA/02 Archivos de trabajo/BENEFICIARIOS FSUE DANA\\\\DENIA\\\\Justificacion_FSUE-DANA.xlsx'),\n",
       " ('DGCMTM y AU',\n",
       "  'P:/Regulacion/49 Encargo MinHac 20-22/08 FSUE-DANA/02 Archivos de trabajo/BENEFICIARIOS FSUE DANA\\\\DGCMTM y AU\\\\Justificacion_FSUE-DANA.xlsx'),\n",
       " ('DP ALBACETE',\n",
       "  'P:/Regulacion/49 Encargo MinHac 20-22/08 FSUE-DANA/02 Archivos de trabajo/BENEFICIARIOS FSUE DANA\\\\DP ALBACETE\\\\Justificacion_FSUE-DANA.xlsx'),\n",
       " ('DP GRANADA',\n",
       "  'P:/Regulacion/49 Encargo MinHac 20-22/08 FSUE-DANA/02 Archivos de trabajo/BENEFICIARIOS FSUE DANA\\\\DP GRANADA\\\\Justificacion_FSUE-DANA.xlsx'),\n",
       " ('DP MÁLAGA',\n",
       "  'P:/Regulacion/49 Encargo MinHac 20-22/08 FSUE-DANA/02 Archivos de trabajo/BENEFICIARIOS FSUE DANA\\\\DP MÁLAGA\\\\Justificacion_FSUE-DANA.xlsx'),\n",
       " ('FUENTE-ÁLAMO',\n",
       "  'P:/Regulacion/49 Encargo MinHac 20-22/08 FSUE-DANA/02 Archivos de trabajo/BENEFICIARIOS FSUE DANA\\\\FUENTE-ÁLAMO\\\\Justificacion_FSUE-DANA.xlsx'),\n",
       " ('GALLARDOS',\n",
       "  'P:/Regulacion/49 Encargo MinHac 20-22/08 FSUE-DANA/02 Archivos de trabajo/BENEFICIARIOS FSUE DANA\\\\GALLARDOS\\\\Justificacion_FSUE-DANA.xlsx'),\n",
       " ('GRANADA',\n",
       "  'P:/Regulacion/49 Encargo MinHac 20-22/08 FSUE-DANA/02 Archivos de trabajo/BENEFICIARIOS FSUE DANA\\\\GRANADA\\\\Justificacion_FSUE-DANA.xlsx'),\n",
       " ('HELLÍN',\n",
       "  'P:/Regulacion/49 Encargo MinHac 20-22/08 FSUE-DANA/02 Archivos de trabajo/BENEFICIARIOS FSUE DANA\\\\HELLÍN\\\\Justificacion_FSUE-DANA.xlsx'),\n",
       " ('HOYA GONZALO-JRL',\n",
       "  'P:/Regulacion/49 Encargo MinHac 20-22/08 FSUE-DANA/02 Archivos de trabajo/BENEFICIARIOS FSUE DANA\\\\HOYA GONZALO-JRL\\\\Justificacion_FSUE-DANA.xlsx'),\n",
       " ('JACARILA',\n",
       "  'P:/Regulacion/49 Encargo MinHac 20-22/08 FSUE-DANA/02 Archivos de trabajo/BENEFICIARIOS FSUE DANA\\\\JACARILA\\\\Justificacion_FSUE-DANA.xlsx'),\n",
       " ('JUNTA ANDALUCÍA-JOG',\n",
       "  'P:/Regulacion/49 Encargo MinHac 20-22/08 FSUE-DANA/02 Archivos de trabajo/BENEFICIARIOS FSUE DANA\\\\JUNTA ANDALUCÍA-JOG\\\\Justificacion_FSUE-DANA.xlsx'),\n",
       " ('L-OLLERIA-JRL',\n",
       "  'P:/Regulacion/49 Encargo MinHac 20-22/08 FSUE-DANA/02 Archivos de trabajo/BENEFICIARIOS FSUE DANA\\\\L-OLLERIA-JRL\\\\Justificacion_FSUE-DANA.xlsx'),\n",
       " ('LORCA',\n",
       "  'P:/Regulacion/49 Encargo MinHac 20-22/08 FSUE-DANA/02 Archivos de trabajo/BENEFICIARIOS FSUE DANA\\\\LORCA\\\\Justificacion_FSUE-DANA.xlsx'),\n",
       " ('LORCHA',\n",
       "  'P:/Regulacion/49 Encargo MinHac 20-22/08 FSUE-DANA/02 Archivos de trabajo/BENEFICIARIOS FSUE DANA\\\\LORCHA\\\\Justificacion_FSUE-DANA.xlsx'),\n",
       " ('LORQUÍ',\n",
       "  'P:/Regulacion/49 Encargo MinHac 20-22/08 FSUE-DANA/02 Archivos de trabajo/BENEFICIARIOS FSUE DANA\\\\LORQUÍ\\\\Justificacion_FSUE-DANA.xlsx'),\n",
       " ('MOLINA DEL SEGURA',\n",
       "  'P:/Regulacion/49 Encargo MinHac 20-22/08 FSUE-DANA/02 Archivos de trabajo/BENEFICIARIOS FSUE DANA\\\\MOLINA DEL SEGURA\\\\Justificacion_FSUE-DANA.xlsx'),\n",
       " ('MOLINICOS',\n",
       "  'P:/Regulacion/49 Encargo MinHac 20-22/08 FSUE-DANA/02 Archivos de trabajo/BENEFICIARIOS FSUE DANA\\\\MOLINICOS\\\\Justificacion_FSUE-DANA.xlsx'),\n",
       " ('MONACHIL-JRL',\n",
       "  'P:/Regulacion/49 Encargo MinHac 20-22/08 FSUE-DANA/02 Archivos de trabajo/BENEFICIARIOS FSUE DANA\\\\MONACHIL-JRL\\\\Justificacion_FSUE-DANA.xlsx'),\n",
       " ('NERPIO',\n",
       "  'P:/Regulacion/49 Encargo MinHac 20-22/08 FSUE-DANA/02 Archivos de trabajo/BENEFICIARIOS FSUE DANA\\\\NERPIO\\\\Justificacion_FSUE-DANA.xlsx'),\n",
       " ('OJÓS-JRL',\n",
       "  'P:/Regulacion/49 Encargo MinHac 20-22/08 FSUE-DANA/02 Archivos de trabajo/BENEFICIARIOS FSUE DANA\\\\OJÓS-JRL\\\\Justificacion_FSUE-DANA.xlsx'),\n",
       " ('OLULA DEL RÍO',\n",
       "  'P:/Regulacion/49 Encargo MinHac 20-22/08 FSUE-DANA/02 Archivos de trabajo/BENEFICIARIOS FSUE DANA\\\\OLULA DEL RÍO\\\\Justificacion_FSUE-DANA.xlsx'),\n",
       " ('ONTINYENT',\n",
       "  'P:/Regulacion/49 Encargo MinHac 20-22/08 FSUE-DANA/02 Archivos de trabajo/BENEFICIARIOS FSUE DANA\\\\ONTINYENT\\\\Justificacion_FSUE-DANA.xlsx'),\n",
       " ('ONTUR',\n",
       "  'P:/Regulacion/49 Encargo MinHac 20-22/08 FSUE-DANA/02 Archivos de trabajo/BENEFICIARIOS FSUE DANA\\\\ONTUR\\\\Justificacion_FSUE-DANA.xlsx'),\n",
       " ('ORIHUELA-MAC',\n",
       "  'P:/Regulacion/49 Encargo MinHac 20-22/08 FSUE-DANA/02 Archivos de trabajo/BENEFICIARIOS FSUE DANA\\\\ORIHUELA-MAC\\\\Justificacion_FSUE-DANA.xlsx'),\n",
       " ('OTOS',\n",
       "  'P:/Regulacion/49 Encargo MinHac 20-22/08 FSUE-DANA/02 Archivos de trabajo/BENEFICIARIOS FSUE DANA\\\\OTOS\\\\Justificacion_FSUE-DANA.xlsx'),\n",
       " ('PARCENT',\n",
       "  'P:/Regulacion/49 Encargo MinHac 20-22/08 FSUE-DANA/02 Archivos de trabajo/BENEFICIARIOS FSUE DANA\\\\PARCENT\\\\Justificacion_FSUE-DANA.xlsx'),\n",
       " ('PILAR DE LA HORADADA',\n",
       "  'P:/Regulacion/49 Encargo MinHac 20-22/08 FSUE-DANA/02 Archivos de trabajo/BENEFICIARIOS FSUE DANA\\\\PILAR DE LA HORADADA\\\\Justificacion_FSUE-DANA.xlsx'),\n",
       " ('PUEBLA DE DON FADRIQUE',\n",
       "  'P:/Regulacion/49 Encargo MinHac 20-22/08 FSUE-DANA/02 Archivos de trabajo/BENEFICIARIOS FSUE DANA\\\\PUEBLA DE DON FADRIQUE\\\\Justificacion_FSUE-DANA.xlsx'),\n",
       " ('PUERTO LUMBRERAS',\n",
       "  'P:/Regulacion/49 Encargo MinHac 20-22/08 FSUE-DANA/02 Archivos de trabajo/BENEFICIARIOS FSUE DANA\\\\PUERTO LUMBRERAS\\\\Justificacion_FSUE-DANA.xlsx'),\n",
       " ('PULPÍ',\n",
       "  'P:/Regulacion/49 Encargo MinHac 20-22/08 FSUE-DANA/02 Archivos de trabajo/BENEFICIARIOS FSUE DANA\\\\PULPÍ\\\\Justificacion_FSUE-DANA.xlsx'),\n",
       " ('PURCHENA',\n",
       "  'P:/Regulacion/49 Encargo MinHac 20-22/08 FSUE-DANA/02 Archivos de trabajo/BENEFICIARIOS FSUE DANA\\\\PURCHENA\\\\Justificacion_FSUE-DANA.xlsx'),\n",
       " ('REDOVÁN',\n",
       "  'P:/Regulacion/49 Encargo MinHac 20-22/08 FSUE-DANA/02 Archivos de trabajo/BENEFICIARIOS FSUE DANA\\\\REDOVÁN\\\\Justificacion_FSUE-DANA.xlsx'),\n",
       " ('REGIÓN DE MURCIA',\n",
       "  'P:/Regulacion/49 Encargo MinHac 20-22/08 FSUE-DANA/02 Archivos de trabajo/BENEFICIARIOS FSUE DANA\\\\REGIÓN DE MURCIA\\\\Justificacion_FSUE-DANA.xlsx'),\n",
       " ('RINCÓN DE LA VICTORIA',\n",
       "  'P:/Regulacion/49 Encargo MinHac 20-22/08 FSUE-DANA/02 Archivos de trabajo/BENEFICIARIOS FSUE DANA\\\\RINCÓN DE LA VICTORIA\\\\Justificacion_FSUE-DANA.xlsx'),\n",
       " ('RIOJA',\n",
       "  'P:/Regulacion/49 Encargo MinHac 20-22/08 FSUE-DANA/02 Archivos de trabajo/BENEFICIARIOS FSUE DANA\\\\RIOJA\\\\Justificacion_FSUE-DANA.xlsx'),\n",
       " ('SAN FULGENCIO',\n",
       "  'P:/Regulacion/49 Encargo MinHac 20-22/08 FSUE-DANA/02 Archivos de trabajo/BENEFICIARIOS FSUE DANA\\\\SAN FULGENCIO\\\\Justificacion_FSUE-DANA.xlsx'),\n",
       " ('SAN JAVIER',\n",
       "  'P:/Regulacion/49 Encargo MinHac 20-22/08 FSUE-DANA/02 Archivos de trabajo/BENEFICIARIOS FSUE DANA\\\\SAN JAVIER\\\\Justificacion_FSUE-DANA.xlsx'),\n",
       " ('SANTOMERA',\n",
       "  'P:/Regulacion/49 Encargo MinHac 20-22/08 FSUE-DANA/02 Archivos de trabajo/BENEFICIARIOS FSUE DANA\\\\SANTOMERA\\\\Justificacion_FSUE-DANA.xlsx'),\n",
       " ('SERÓN',\n",
       "  'P:/Regulacion/49 Encargo MinHac 20-22/08 FSUE-DANA/02 Archivos de trabajo/BENEFICIARIOS FSUE DANA\\\\SERÓN\\\\Justificacion_FSUE-DANA.xlsx'),\n",
       " ('TORRE PACHECO',\n",
       "  'P:/Regulacion/49 Encargo MinHac 20-22/08 FSUE-DANA/02 Archivos de trabajo/BENEFICIARIOS FSUE DANA\\\\TORRE PACHECO\\\\Justificacion_FSUE-DANA.xlsx'),\n",
       " ('TÍJOLA',\n",
       "  'P:/Regulacion/49 Encargo MinHac 20-22/08 FSUE-DANA/02 Archivos de trabajo/BENEFICIARIOS FSUE DANA\\\\TÍJOLA\\\\Justificacion_FSUE-DANA.xlsx'),\n",
       " ('ULEA',\n",
       "  'P:/Regulacion/49 Encargo MinHac 20-22/08 FSUE-DANA/02 Archivos de trabajo/BENEFICIARIOS FSUE DANA\\\\ULEA\\\\Justificacion_FSUE-DANA.xlsx'),\n",
       " ('UNIÓN',\n",
       "  'P:/Regulacion/49 Encargo MinHac 20-22/08 FSUE-DANA/02 Archivos de trabajo/BENEFICIARIOS FSUE DANA\\\\UNIÓN\\\\Justificacion_FSUE-DANA.xlsx'),\n",
       " ('URRACAL',\n",
       "  'P:/Regulacion/49 Encargo MinHac 20-22/08 FSUE-DANA/02 Archivos de trabajo/BENEFICIARIOS FSUE DANA\\\\URRACAL\\\\Justificacion_FSUE-DANA.xlsx'),\n",
       " ('VILLANUEVA DEL RIO SEGURA',\n",
       "  'P:/Regulacion/49 Encargo MinHac 20-22/08 FSUE-DANA/02 Archivos de trabajo/BENEFICIARIOS FSUE DANA\\\\VILLANUEVA DEL RIO SEGURA\\\\Justificacion_FSUE-DANA.xlsx'),\n",
       " ('VIVEROS-JRL',\n",
       "  'P:/Regulacion/49 Encargo MinHac 20-22/08 FSUE-DANA/02 Archivos de trabajo/BENEFICIARIOS FSUE DANA\\\\VIVEROS-JRL\\\\Justificacion_FSUE-DANA.xlsx')]"
      ]
     },
     "execution_count": 11,
     "metadata": {},
     "output_type": "execute_result"
    }
   ],
   "source": [
    "prueba = listaficheros(mainfolder)\n",
    "prueba"
   ]
  },
  {
   "cell_type": "code",
   "execution_count": 7,
   "id": "1c469a0e",
   "metadata": {},
   "outputs": [
    {
     "data": {
      "text/plain": [
       "53"
      ]
     },
     "execution_count": 7,
     "metadata": {},
     "output_type": "execute_result"
    }
   ],
   "source": [
    "len(prueba)"
   ]
  },
  {
   "cell_type": "code",
   "execution_count": null,
   "id": "40819ecf",
   "metadata": {},
   "outputs": [],
   "source": []
  }
 ],
 "metadata": {
  "kernelspec": {
   "display_name": "Python 3",
   "language": "python",
   "name": "python3"
  },
  "language_info": {
   "codemirror_mode": {
    "name": "ipython",
    "version": 3
   },
   "file_extension": ".py",
   "mimetype": "text/x-python",
   "name": "python",
   "nbconvert_exporter": "python",
   "pygments_lexer": "ipython3",
   "version": "3.8.11"
  }
 },
 "nbformat": 4,
 "nbformat_minor": 5
}
