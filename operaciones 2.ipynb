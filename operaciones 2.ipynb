{
 "cells": [
  {
   "cell_type": "code",
   "execution_count": 1,
   "id": "67cbc5fd",
   "metadata": {},
   "outputs": [],
   "source": [
    "import csv\n",
    "import xml.etree.ElementTree as ET"
   ]
  },
  {
   "cell_type": "code",
   "execution_count": 2,
   "id": "de2bc738",
   "metadata": {},
   "outputs": [
    {
     "name": "stdout",
     "output_type": "stream",
     "text": [
      "C:/Users/bllanos/Desktop/project1/prueba1/Abril_2022/Operaciones/Campañas de concienciación COVID/masivooperacionesSANIDAD_CAMPANAS_PUBLI.csv\n"
     ]
    }
   ],
   "source": [
    "file = \"C:/Users/bllanos/Desktop/project1/prueba1/Abril_2022/Operaciones/Campañas de concienciación COVID/masivooperacionesSANIDAD_CAMPANAS_PUBLI.csv\"\n",
    "\n",
    "print(file)"
   ]
  },
  {
   "cell_type": "code",
   "execution_count": 3,
   "id": "96f360fd",
   "metadata": {},
   "outputs": [],
   "source": [
    "def element_adder(nombre,valor,root):\n",
    "    if v == \"\":\n",
    "        pass\n",
    "    elif \"coste\" in k or \"ayuda\" in k:\n",
    "        elemento = ET.SubElement(root,f\"{nombre}\")\n",
    "        elemento.text = f\"{valor.replace(',','.')}\"\n",
    "    else:\n",
    "        elemento = ET.SubElement(root,f\"{nombre}\")\n",
    "        elemento.text = f\"{valor}\""
   ]
  },
  {
   "cell_type": "code",
   "execution_count": 4,
   "id": "3a53afa6",
   "metadata": {},
   "outputs": [],
   "source": [
    "with open(file) as f:\n",
    "    csv_reader = csv.DictReader(f,delimiter=\";\")\n",
    "    root = ET.Element(\"operaciones\")\n",
    "    for row in csv_reader:\n",
    "        operacion = ET.SubElement(root,\"operacion\")\n",
    "        for k,v in row.items():\n",
    "            element_adder(k,v,operacion)\n",
    "    \n",
    "    tree = ET.ElementTree(root)\n",
    "    tree.write(\"C:/Users/bllanos/Desktop/project1/prueba1/Abril_2022/Operaciones/Campañas de concienciación COVID/masivooperacionesSANIDAD_CAMPANAS_PUBLI.xml\", encoding = \"UTF-8\", xml_declaration=True,)"
   ]
  },
  {
   "cell_type": "code",
   "execution_count": null,
   "id": "04390514",
   "metadata": {},
   "outputs": [],
   "source": []
  }
 ],
 "metadata": {
  "kernelspec": {
   "display_name": "Python 3",
   "language": "python",
   "name": "python3"
  },
  "language_info": {
   "codemirror_mode": {
    "name": "ipython",
    "version": 3
   },
   "file_extension": ".py",
   "mimetype": "text/x-python",
   "name": "python",
   "nbconvert_exporter": "python",
   "pygments_lexer": "ipython3",
   "version": "3.8.11"
  }
 },
 "nbformat": 4,
 "nbformat_minor": 5
}
