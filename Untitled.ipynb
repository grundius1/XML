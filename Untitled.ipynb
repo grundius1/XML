{
 "cells": [
  {
   "cell_type": "code",
   "execution_count": 1,
   "metadata": {},
   "outputs": [],
   "source": [
    "from bs4 import BeautifulSoup\n",
    "import requests"
   ]
  },
  {
   "cell_type": "code",
   "execution_count": 2,
   "metadata": {},
   "outputs": [],
   "source": [
    "url = \"https://webpub2pre.igae.hacienda.gob.es/ords/Fondos2020/igaefondos.inicio\""
   ]
  },
  {
   "cell_type": "code",
   "execution_count": 16,
   "metadata": {},
   "outputs": [
    {
     "name": "stdout",
     "output_type": "stream",
     "text": [
      " El volumen de la unidad C es Windows\n",
      " El número de serie del volumen es: 2AA4-5A7A\n",
      "\n",
      " Directorio de C:\\Users\\bllanos\\Desktop\\project1\\Indice_Fondos\n",
      "\n",
      "\n",
      " Directorio de C:\\Users\\bllanos\\Desktop\\project1\\Indice_Fondos\n",
      "\n",
      "18/03/2021  09:47    <DIR>          .\n",
      "18/03/2021  09:47    <DIR>          ..\n",
      "18/03/2021  08:48    <DIR>          .ipynb_checkpoints\n",
      "18/03/2021  09:32           538.194 indice.html\n",
      "18/03/2021  09:21           538.194 indice.txt\n",
      "18/03/2021  09:47            11.996 Untitled.ipynb\n",
      "               3 archivos      1.088.384 bytes\n",
      "               3 dirs  167.032.623.104 bytes libres\n"
     ]
    }
   ],
   "source": [
    "!dir Get-Childitem C:"
   ]
  },
  {
   "cell_type": "code",
   "execution_count": 25,
   "metadata": {
    "scrolled": true
   },
   "outputs": [
    {
     "name": "stdout",
     "output_type": "stream",
     "text": [
      "[]\n"
     ]
    }
   ],
   "source": [
    "#response = requests.get(url, verify=True, cert='C:Users/bllanos/Downloads/1148F3AD746E06A0E0C0103A.pfx')\n",
    "with open(\"C:/Users/bllanos/Desktop/project1/Indice_Fondos/20210317_Indice_Canal_Informativo.txt\",\"r\") as f:\n",
    "    soup = BeautifulSoup(f , 'html.parser')\n",
    "    #print(soup.prettify())\n",
    "    print(soup.find_all('insDoc'))\n",
    "    "
   ]
  },
  {
   "cell_type": "code",
   "execution_count": null,
   "metadata": {},
   "outputs": [],
   "source": [
    "response.text"
   ]
  },
  {
   "cell_type": "code",
   "execution_count": null,
   "metadata": {},
   "outputs": [],
   "source": []
  }
 ],
 "metadata": {
  "kernelspec": {
   "display_name": "Python 3",
   "language": "python",
   "name": "python3"
  },
  "language_info": {
   "codemirror_mode": {
    "name": "ipython",
    "version": 3
   },
   "file_extension": ".py",
   "mimetype": "text/x-python",
   "name": "python",
   "nbconvert_exporter": "python",
   "pygments_lexer": "ipython3",
   "version": "3.8.5"
  }
 },
 "nbformat": 4,
 "nbformat_minor": 4
}
