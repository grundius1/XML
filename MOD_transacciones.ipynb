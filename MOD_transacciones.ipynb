{
 "cells": [
  {
   "cell_type": "code",
   "execution_count": 1,
   "metadata": {},
   "outputs": [],
   "source": [
    "import csv\n",
    "import xml.etree.ElementTree as ET"
   ]
  },
  {
   "cell_type": "code",
   "execution_count": 2,
   "metadata": {},
   "outputs": [
    {
     "name": "stdout",
     "output_type": "stream",
     "text": [
      "C:/Users/bllanos/Desktop/project1/prueba1/MOD_transacciones/AEI_MOD_transacciones.csv\n"
     ]
    }
   ],
   "source": [
    "file = \"C:/Users/bllanos/Desktop/project1/prueba1/MOD_transacciones/AEI_MOD_transacciones.csv\"\n",
    "\n",
    "print(file)"
   ]
  },
  {
   "cell_type": "code",
   "execution_count": 3,
   "metadata": {},
   "outputs": [],
   "source": [
    "root = ET.Element(\"transaccionesModif\")"
   ]
  },
  {
   "cell_type": "code",
   "execution_count": 4,
   "metadata": {},
   "outputs": [],
   "source": [
    "with open(file) as f:\n",
    "    csv_reader = csv.DictReader(f,delimiter=\";\")\n",
    "    for row in csv_reader:\n",
    "        #print(row)\n",
    "        transaccion = ET.SubElement(root,\"transaccionModif\")\n",
    "        transaccioncount = 0\n",
    "        for k,v in row.items():\n",
    "            if v == \"\":\n",
    "                pass\n",
    "            else:\n",
    "\n",
    "                k = k.split(\" \")[0]\n",
    "                if k == \"f_pago_benef\" or k == \"importe_pago_benef\" or k == \"num_ope_contable\" :\n",
    "                    if k == \"f_pago_benef\" and transaccioncount == 0:\n",
    "                        pagos = ET.SubElement(transaccion,\"transacciones_pagos\")\n",
    "                        pago = ET.SubElement(pagos,f\"transaccion_pagos\")\n",
    "                        transaccioncount = 1\n",
    "                    elif k == \"f_pago_benef\" and transaccioncount != 0:\n",
    "                        pago = ET.SubElement(pagos,f\"transaccion_pagos\")\n",
    "\n",
    "                    elemento = ET.SubElement(pago,f\"{k}\")\n",
    "                    elemento.text= f\"{v.replace(',','.')}\"\n",
    "                    \n",
    "                else:\n",
    "                    elemento = ET.SubElement(transaccion,f\"{k}\")\n",
    "                    elemento.text= f\"{v.replace(',','.')}\"\n",
    "    tree = ET.ElementTree(root)\n",
    "    tree.write(\"C:/Users/bllanos/Desktop/project1/prueba1/MOD_transacciones/AEI_MOD_transacciones.xml\", encoding = \"UTF-8\", xml_declaration=True,)\n",
    "        "
   ]
  },
  {
   "cell_type": "code",
   "execution_count": null,
   "metadata": {},
   "outputs": [],
   "source": []
  },
  {
   "cell_type": "code",
   "execution_count": null,
   "metadata": {},
   "outputs": [],
   "source": []
  },
  {
   "cell_type": "code",
   "execution_count": null,
   "metadata": {},
   "outputs": [],
   "source": []
  }
 ],
 "metadata": {
  "kernelspec": {
   "display_name": "Python 3",
   "language": "python",
   "name": "python3"
  },
  "language_info": {
   "codemirror_mode": {
    "name": "ipython",
    "version": 3
   },
   "file_extension": ".py",
   "mimetype": "text/x-python",
   "name": "python",
   "nbconvert_exporter": "python",
   "pygments_lexer": "ipython3",
   "version": "3.8.5"
  }
 },
 "nbformat": 4,
 "nbformat_minor": 4
}
