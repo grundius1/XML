{
 "cells": [
  {
   "cell_type": "code",
   "execution_count": 1,
   "metadata": {},
   "outputs": [],
   "source": [
    "import csv\n",
    "import xml.etree.ElementTree as ET"
   ]
  },
  {
   "cell_type": "code",
   "execution_count": 2,
   "metadata": {},
   "outputs": [
    {
     "name": "stdout",
     "output_type": "stream",
     "text": [
      "C:/Users/bllanos/Desktop/project1/prueba1/Transacciones_IP/CV6/CEU_CV6.csv\n"
     ]
    }
   ],
   "source": [
    "file = \"C:/Users/bllanos/Desktop/project1/prueba1/Transacciones_IP/CV6/CEU_CV6.csv\"\n",
    "\n",
    "print(file)"
   ]
  },
  {
   "cell_type": "code",
   "execution_count": 3,
   "metadata": {},
   "outputs": [],
   "source": [
    "root = ET.Element(\"transacciones_ips\")"
   ]
  },
  {
   "cell_type": "code",
   "execution_count": 4,
   "metadata": {},
   "outputs": [],
   "source": [
    "with open(file) as f:\n",
    "    csv_reader = csv.DictReader(f,delimiter=\";\")\n",
    "    for row in csv_reader:\n",
    "        #print(row)\n",
    "        transaccion = ET.SubElement(root,\"transaccion_ip\")\n",
    "        indicadorescount = 0\n",
    "        codigoscount = 0\n",
    "        #fechasformalizacion = 0\n",
    "        #subcontratistascount = 0 \n",
    "        #utescount = 0\n",
    "        for k,v in row.items():\n",
    "            #print(k,v)\n",
    "            if v == \"\":\n",
    "                pass\n",
    "            else:\n",
    "                #v = ajustanumeros(v)\n",
    "                k = k.split(\" \")[0]\n",
    "                if k == \"cod_ind_productividad\" or k == \"fecha\" or \"val\" in k or k == \"observaciones\":\n",
    "                    if k == \"cod_ind_productividad\":\n",
    "                        codigoscount += 1\n",
    "                        if indicadorescount == 0:\n",
    "                            indicadores = ET.SubElement(transaccion,\"indicadores_productividad\")\n",
    "                            indicador = ET.SubElement(indicadores,\"indicador_productividad\")\n",
    "                            indicadorescount = 1\n",
    "                        else:\n",
    "                            indicador = ET.SubElement(indicadores,\"indicador_productividad\")\n",
    "                    elemento = ET.SubElement(indicador,f\"{k}\")\n",
    "                    elemento.text= f\"{v.replace(',','.')}\"\n",
    "                    \n",
    "                else:\n",
    "                    elemento = ET.SubElement(transaccion,f\"{k}\")\n",
    "                    elemento.text= f\"{v.replace(',','.')}\"\n",
    "    tree = ET.ElementTree(root)\n",
    "    tree.write(\"C:/Users/bllanos/Desktop/project1/prueba1/Transacciones_IP/CV6/CEU_CV6.xml\", encoding = \"UTF-8\", xml_declaration=True,)\n",
    "        \n",
    "        \n",
    "        "
   ]
  },
  {
   "cell_type": "code",
   "execution_count": null,
   "metadata": {},
   "outputs": [],
   "source": []
  }
 ],
 "metadata": {
  "kernelspec": {
   "display_name": "Python 3",
   "language": "python",
   "name": "python3"
  },
  "language_info": {
   "codemirror_mode": {
    "name": "ipython",
    "version": 3
   },
   "file_extension": ".py",
   "mimetype": "text/x-python",
   "name": "python",
   "nbconvert_exporter": "python",
   "pygments_lexer": "ipython3",
   "version": "3.8.10"
  }
 },
 "nbformat": 4,
 "nbformat_minor": 4
}
