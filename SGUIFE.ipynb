{
 "cells": [
  {
   "cell_type": "code",
   "execution_count": 1,
   "metadata": {},
   "outputs": [],
   "source": [
    "import csv\n",
    "import xml.etree.ElementTree as ET\n",
    "import base64"
   ]
  },
  {
   "cell_type": "code",
   "execution_count": 2,
   "metadata": {},
   "outputs": [
    {
     "name": "stdout",
     "output_type": "stream",
     "text": [
      "C:/Users/bllanos/Desktop/project1/prueba1/Archivos_sgife/operaciones.csv\n"
     ]
    }
   ],
   "source": [
    "file = \"C:/Users/bllanos/Desktop/project1/prueba1/Archivos_sgife/operaciones.csv\"\n",
    "\n",
    "print(file)"
   ]
  },
  {
   "cell_type": "code",
   "execution_count": 3,
   "metadata": {},
   "outputs": [],
   "source": [
    "def codificacion(documento):\n",
    "    file = \"C:/Users/bllanos/Desktop/project1/prueba1/Archivos_sgife/\" + documento\n",
    "    fileopened = open(file,\"rb\")\n",
    "    filereaded = fileopened.read()\n",
    "    filecoded= base64.b64encode(filereaded)\n",
    "    #print(filecoded)\n",
    "    fileopened.close()\n",
    "    return str(filecoded).replace(\"b'\",\"\")[:-1]"
   ]
  },
  {
   "cell_type": "code",
   "execution_count": 4,
   "metadata": {},
   "outputs": [],
   "source": [
    "#codificacion(\"1_Solicitud_Suministro_Mascarillas_F1.pdf\")"
   ]
  },
  {
   "cell_type": "code",
   "execution_count": 5,
   "metadata": {},
   "outputs": [],
   "source": [
    "root = ET.Element(\"operacionesModif\")"
   ]
  },
  {
   "cell_type": "code",
   "execution_count": 6,
   "metadata": {
    "scrolled": false
   },
   "outputs": [],
   "source": [
    "with open(file) as f:\n",
    "    csv_reader = csv.DictReader(f,delimiter=\";\")\n",
    "    lines = 0\n",
    "    totalfiles = 1\n",
    "    for row in csv_reader:\n",
    "        operacion = ET.SubElement(root,\"operacion\")\n",
    "        codoperativo = ET.SubElement(operacion,\"cod_poperativo\")\n",
    "        codoperativo.text = row['cod_poperativo']\n",
    "        codoperacion = ET.SubElement(operacion,\"cod_operacion\")\n",
    "        codoperacion.text = row['cod_operacion']\n",
    "        documentos = ET.SubElement(operacion,\"documentos\")\n",
    "        documento = ET.SubElement(documentos,\"documento\")\n",
    "        nombredocumento = ET.SubElement(documento,\"nombre_documento\")\n",
    "        nombredocumento.text = row['nombredocumento']\n",
    "        descripcion = ET.SubElement(documento,\"descripcion\")\n",
    "        descripcion.text = row['descripciondocumento']\n",
    "        contenido = ET.SubElement(documento,\"contenido_documento\")\n",
    "        contenido.text = codificacion(row['pathdocumento'])\n",
    "        #print(codificacion(row['pathdocumento']))\n",
    "        lines+=1\n",
    "        if lines%11 == 0:\n",
    "            tree = ET.ElementTree(root)\n",
    "            \n",
    "            tree.write(f\"C:/Users/bllanos/Desktop/project1/prueba1/Archivos_sgife/operaciones_{totalfiles}.xml\", encoding = \"UTF-8\", xml_declaration=True,)\n",
    "            totalfiles +=1\n",
    "            root = ET.Element(\"operacionesModif\")\n",
    "    tree = ET.ElementTree(root)\n",
    "    tree.write(f\"C:/Users/bllanos/Desktop/project1/prueba1/Archivos_sgife/operaciones_{totalfiles}.xml\", encoding = \"UTF-8\", xml_declaration=True,)"
   ]
  },
  {
   "cell_type": "code",
   "execution_count": null,
   "metadata": {},
   "outputs": [],
   "source": []
  },
  {
   "cell_type": "code",
   "execution_count": null,
   "metadata": {},
   "outputs": [],
   "source": []
  },
  {
   "cell_type": "code",
   "execution_count": null,
   "metadata": {},
   "outputs": [],
   "source": []
  },
  {
   "cell_type": "code",
   "execution_count": null,
   "metadata": {},
   "outputs": [],
   "source": []
  },
  {
   "cell_type": "code",
   "execution_count": null,
   "metadata": {},
   "outputs": [],
   "source": []
  }
 ],
 "metadata": {
  "kernelspec": {
   "display_name": "Python 3",
   "language": "python",
   "name": "python3"
  },
  "language_info": {
   "codemirror_mode": {
    "name": "ipython",
    "version": 3
   },
   "file_extension": ".py",
   "mimetype": "text/x-python",
   "name": "python",
   "nbconvert_exporter": "python",
   "pygments_lexer": "ipython3",
   "version": "3.8.5"
  }
 },
 "nbformat": 4,
 "nbformat_minor": 4
}
