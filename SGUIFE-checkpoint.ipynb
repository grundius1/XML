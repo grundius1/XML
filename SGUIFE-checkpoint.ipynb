{
 "cells": [
  {
   "cell_type": "code",
   "execution_count": 1,
   "metadata": {},
   "outputs": [],
   "source": [
    "import csv\n",
    "import xml.etree.ElementTree as ET\n",
    "import base64"
   ]
  },
  {
   "cell_type": "code",
   "execution_count": null,
   "metadata": {},
   "outputs": [],
   "source": []
  },
  {
   "cell_type": "code",
   "execution_count": 2,
   "metadata": {},
   "outputs": [
    {
     "name": "stdout",
     "output_type": "stream",
     "text": [
      "C:/Users/bllanos/Desktop/project1/prueba1/Dec_2021/DANA/SGUIFE/csv_decas (1).csv\n"
     ]
    }
   ],
   "source": [
    "file = \"C:/Users/bllanos/Desktop/project1/prueba1/Dec_2021/DANA/SGUIFE/csv decas (1).csv\"\n",
    "\n",
    "print(file)"
   ]
  },
  {
   "cell_type": "code",
   "execution_count": 3,
   "metadata": {},
   "outputs": [],
   "source": [
    "def codificacion(documento):\n",
    "    file = \"C:/Users/bllanos/Desktop/project1/prueba1/Dec_2021/DANA/SGUIFE/\" + documento\n",
    "    faltantes = []\n",
    "    try:\n",
    "        fileopened = open(file,\"rb\")\n",
    "        filereaded = fileopened.read()\n",
    "        filecoded= base64.b64encode(filereaded)\n",
    "        #print(filecoded)\n",
    "        fileopened.close()\n",
    "        return str(filecoded).replace(\"b'\",\"\")[:-1]\n",
    "    except:\n",
    "        faltantes.append(file)\n",
    "        print(faltantes)"
   ]
  },
  {
   "cell_type": "code",
   "execution_count": 4,
   "metadata": {},
   "outputs": [],
   "source": [
    "#codificacion(\"1_Solicitud_Suministro_Mascarillas_F1.pdf\")"
   ]
  },
  {
   "cell_type": "code",
   "execution_count": 5,
   "metadata": {},
   "outputs": [],
   "source": [
    "root = ET.Element(\"operacionesModif\")"
   ]
  },
  {
   "cell_type": "code",
   "execution_count": 6,
   "metadata": {
    "scrolled": false
   },
   "outputs": [
    {
     "ename": "FileNotFoundError",
     "evalue": "[Errno 2] No such file or directory: 'C:/Users/bllanos/Desktop/project1/prueba1/Dec_2021/DANA/SGUIFE/csv_decas (1).csv'",
     "output_type": "error",
     "traceback": [
      "\u001b[1;31m---------------------------------------------------------------------------\u001b[0m",
      "\u001b[1;31mFileNotFoundError\u001b[0m                         Traceback (most recent call last)",
      "\u001b[1;32m<ipython-input-6-4fb86975fbec>\u001b[0m in \u001b[0;36m<module>\u001b[1;34m\u001b[0m\n\u001b[1;32m----> 1\u001b[1;33m \u001b[1;32mwith\u001b[0m \u001b[0mopen\u001b[0m\u001b[1;33m(\u001b[0m\u001b[0mfile\u001b[0m\u001b[1;33m)\u001b[0m \u001b[1;32mas\u001b[0m \u001b[0mf\u001b[0m\u001b[1;33m:\u001b[0m\u001b[1;33m\u001b[0m\u001b[1;33m\u001b[0m\u001b[0m\n\u001b[0m\u001b[0;32m      2\u001b[0m     \u001b[0mcsv_reader\u001b[0m \u001b[1;33m=\u001b[0m \u001b[0mcsv\u001b[0m\u001b[1;33m.\u001b[0m\u001b[0mDictReader\u001b[0m\u001b[1;33m(\u001b[0m\u001b[0mf\u001b[0m\u001b[1;33m,\u001b[0m\u001b[0mdelimiter\u001b[0m\u001b[1;33m=\u001b[0m\u001b[1;34m\";\"\u001b[0m\u001b[1;33m)\u001b[0m\u001b[1;33m\u001b[0m\u001b[1;33m\u001b[0m\u001b[0m\n\u001b[0;32m      3\u001b[0m     \u001b[0mlines\u001b[0m \u001b[1;33m=\u001b[0m \u001b[1;36m0\u001b[0m\u001b[1;33m\u001b[0m\u001b[1;33m\u001b[0m\u001b[0m\n\u001b[0;32m      4\u001b[0m     \u001b[0mtotalfiles\u001b[0m \u001b[1;33m=\u001b[0m \u001b[1;36m1\u001b[0m\u001b[1;33m\u001b[0m\u001b[1;33m\u001b[0m\u001b[0m\n\u001b[0;32m      5\u001b[0m     \u001b[1;32mfor\u001b[0m \u001b[0mrow\u001b[0m \u001b[1;32min\u001b[0m \u001b[0mcsv_reader\u001b[0m\u001b[1;33m:\u001b[0m\u001b[1;33m\u001b[0m\u001b[1;33m\u001b[0m\u001b[0m\n",
      "\u001b[1;31mFileNotFoundError\u001b[0m: [Errno 2] No such file or directory: 'C:/Users/bllanos/Desktop/project1/prueba1/Dec_2021/DANA/SGUIFE/csv_decas (1).csv'"
     ]
    }
   ],
   "source": [
    "with open(file) as f:\n",
    "    csv_reader = csv.DictReader(f,delimiter=\";\")\n",
    "    lines = 0\n",
    "    totalfiles = 1\n",
    "    for row in csv_reader:\n",
    "        operacion = ET.SubElement(root,\"operacion\")\n",
    "        codoperativo = ET.SubElement(operacion,\"cod_poperativo\")\n",
    "        codoperativo.text = row['cod_poperativo']\n",
    "        codoperacion = ET.SubElement(operacion,\"cod_operacion\")\n",
    "        codoperacion.text = row['cod_operacion']\n",
    "        documentos = ET.SubElement(operacion,\"documentos\")\n",
    "        documento = ET.SubElement(documentos,\"documento\")\n",
    "        nombredocumento = ET.SubElement(documento,\"nombre_documento\")\n",
    "        nombredocumento.text = row['nombredocumento']\n",
    "        descripcion = ET.SubElement(documento,\"descripcion\")\n",
    "        descripcion.text = row['descripciondocumento']\n",
    "        contenido = ET.SubElement(documento,\"contenido_documento\")\n",
    "        contenido.text = codificacion(row['pathdocumento'])\n",
    "        #print(codificacion(row['pathdocumento']))\n",
    "        lines+=1\n",
    "        if lines%11 == 0:\n",
    "            tree = ET.ElementTree(root)\n",
    "            \n",
    "            tree.write(f\"C:/Users/bllanos/Desktop/project1/prueba1/Dec_2021/DANA/SGUIFE/csv_decas_{totalfiles}.xml\", encoding = \"UTF-8\", xml_declaration=True,)\n",
    "            totalfiles +=1\n",
    "            root = ET.Element(\"operacionesModif\")\n",
    "    tree = ET.ElementTree(root)\n",
    "    tree.write(f\"C:/Users/bllanos/Desktop/project1/prueba1/Dec_2021/DANA/SGUIFE/csv_decas_{totalfiles}.xml\", encoding = \"UTF-8\", xml_declaration=True,)"
   ]
  },
  {
   "cell_type": "code",
   "execution_count": null,
   "metadata": {},
   "outputs": [],
   "source": []
  },
  {
   "cell_type": "code",
   "execution_count": null,
   "metadata": {},
   "outputs": [],
   "source": []
  },
  {
   "cell_type": "code",
   "execution_count": null,
   "metadata": {},
   "outputs": [],
   "source": []
  },
  {
   "cell_type": "code",
   "execution_count": null,
   "metadata": {},
   "outputs": [],
   "source": []
  },
  {
   "cell_type": "code",
   "execution_count": null,
   "metadata": {},
   "outputs": [],
   "source": []
  }
 ],
 "metadata": {
  "kernelspec": {
   "display_name": "Python 3",
   "language": "python",
   "name": "python3"
  },
  "language_info": {
   "codemirror_mode": {
    "name": "ipython",
    "version": 3
   },
   "file_extension": ".py",
   "mimetype": "text/x-python",
   "name": "python",
   "nbconvert_exporter": "python",
   "pygments_lexer": "ipython3",
   "version": "3.8.11"
  }
 },
 "nbformat": 4,
 "nbformat_minor": 4
}
