{
 "cells": [
  {
   "cell_type": "code",
   "execution_count": 1,
   "id": "b957fd96",
   "metadata": {},
   "outputs": [],
   "source": [
    "import os\n",
    "import csv\n",
    "import pandas as pd\n",
    "import re\n",
    "import xml.etree.ElementTree as ET\n",
    "import numpy as np"
   ]
  },
  {
   "cell_type": "code",
   "execution_count": 2,
   "id": "3022a43f",
   "metadata": {},
   "outputs": [],
   "source": [
    "pd.set_option('display.max_rows', None)\n",
    "pd.set_option('display.max_columns', None)"
   ]
  },
  {
   "cell_type": "code",
   "execution_count": 7,
   "id": "145f40fe",
   "metadata": {},
   "outputs": [],
   "source": [
    "ayuntamientos = {'ABANILLA-JOG': ['ES330024_1', 'GASTOS DANA AYUNTAMIENTO DE ABANILLA', 'ES330024', \"30\"],\n",
    " 'ABARÁN-EBB': ['ES330031_1', 'GASTOS DANA AYUNTAMIENTO DE ABARÁN', 'ES330031', \"30\"],\n",
    " 'AENA': ['ES117023_1', 'GASTOS DANA AENA (MITMA)', 'ES117023', \"28\"],\n",
    " 'AGULLENT-JOG': ['ES303050_1','GASTOS DANA AYUNTAMIENTO DE AGULLENT','ES303050', \"46\"],\n",
    " 'ALBAIDA-MAC': ['ES346012_1', 'GASTOS DANA AYUNTAMIENTO DE ALBAIDA', 'ES346012', \"46\"],\n",
    " 'ALBATERA-JOG': ['ES303044_1','GASTOS DANA AYUNTAMIENTO DE ALBATERA','ES303044', \"03\"],\n",
    " 'ALCAUCÍN-RENUNCIA': ['ES329032_1','GASTOS DANA AYUNTAMIENTO DE ALCAUCÍN','ES329032', \"29\"],\n",
    " 'ALCÁZARES-MAC': ['ES330025_1','GASTOS DANA AYUNTAMIENTO DE ALCÁZARES, LOS','ES330025', \"30\"],\n",
    " 'ALCÓNTAR-JOG': ['ES304029_1','GASTOS DANA AYUNTAMIENTO DE ALCÓNTAR', 'ES304029', \"04\"],\n",
    " 'ALGORFA-JOG': ['ES303016_1', 'GASTOS DANA AYUNTAMIENTO DE ALGORFA', 'ES303016', \"03\"],\n",
    " 'ALHAURÍN DE LA TORRE-MAC': ['ES329005_1','GASTOS DANA AYUNTAMIENTO DE ALHAURÍN DE LA TORRE','ES329005', \"29\"],\n",
    " 'ALMANSA-EBB': ['ES302002_1', 'GASTOS DANA AYUNTAMIENTO DE ALMANSA', 'ES302002', \"02\"],\n",
    " 'ALMERÍA-DGM': ['ES304004_1', 'GASTOS DANA AYUNTAMIENTO DE ALMERÍA', 'ES304004', \"04\"],\n",
    " 'ALMORADÍ-DGM': ['ES303017_1','GASTOS DANA AYUNTAMIENTO DE ALMORADÍ','ES303017', \"46\"],\n",
    " \"ALQUERIA DE AZNAR\": ['ES303018_1', \"GASTOS DANA AYUNTAMIENTO DE ALQUERIA D'ASNAR, L'\", 'ES303018', \"46\"],\n",
    " 'AP CARTAGENA-MAC': ['ES117025_1', 'GASTOS DANA AUTORIDAD PORTUARIA CARTAGENA (MITMA)', 'ES117025', \"30\"],\n",
    " 'ARBOLEAS-MAC': ['ES304025_1','GASTOS DANA AYUNTAMIENTO DE ARBOLEAS','ES304025', \"04\"],\n",
    " 'ARCHENA-MAC': ['ES330005_1', 'GASTOS DANA AYUNTAMIENTO DE ARCHENA', 'ES330005', \"30\"],\n",
    " 'ARCHIDONA-EBB': ['ES329023_1','GASTOS DANA AYUNTAMIENTO DE ARCHIDONA','ES329023', \"29\"],\n",
    " 'BAZA-MAC': ['ES318001_1', 'GASTOS DANA AYUNTAMIENTO DE BAZA', 'ES318001', \"18\"],\n",
    " 'BENIEL-JOG': ['ES330013_1', 'GASTOS DANA AYUNTAMIENTO DE BENIEL', 'ES330013', \"30\"],\n",
    " 'BIENSERVIDA-RENUNCIA': [],\n",
    " 'BIGASTRO-JOG': ['ES303051_1','GASTOS DANA AYUNTAMIENTO DE BIGASTRO', 'ES303051', \"46\"],\n",
    " 'BLANCA-JOG': ['ES330015_1', 'GASTOS DANA AYUNTAMIENTO DE BLANCA', 'ES330015', \"30\"],\n",
    " 'CAMPOS DEL RÍO': ['ES330030_1', 'GASTOS DANA AYUNTAMIENTO DE CAMPOS DEL RÍO', 'ES330030', \"30\"],\n",
    " 'CARTAGENA-JOG': ['ES3300065_1','GASTOS DANA AYUNTAMIENTO DE CARTAGENA', 'ES330006', \"30\"],\n",
    " 'CASTILLA LA MANCHA- DGM': ['ES211001_1','GASTOS DANA COMUNIDAD AUTÓNOMA DE CASTILLA-LA MANCHA','ES211001', \"45\"],\n",
    " 'CASTRIL': ['ES318054_1', 'GASTOS DANA AYUNTAMIENTO DE CASTRIL', 'ES318054', \"18\"],\n",
    " 'CHAUCHINA': ['ES318053_1', 'GASTOS DANA AYUNTAMIENTO DE CHAUCHINA', 'ES318053', \"18\"],\n",
    " 'CIEZA': ['ES330002_1', 'GASTOS DANA AYUNTAMIENTO DE CIEZA', 'ES330002', \"30\"],\n",
    " 'COCENTAINA': ['ES303025_1', 'GASTOS DANA AYUNTAMIENTO DE COCENTAINA', 'ES303025', \"03\"],\n",
    " 'CONF.HIDRO.JÚCAR-EBB': ['ES130001_1', 'GASTOS DANA  CONFEDERACION HIDROGRAFICA DEL JÚCAR, O.A. DEL MITECO', 'ES130001', \"46\"],\n",
    " 'CONF.HIDRO.SEGURA-MAC': ['ES130006_1', 'GASTOS DANA CONFEDERACION HIDROGRAFICA DEL SEGURA, O.A. DEL MITECO', 'ES130006', \"30\"],\n",
    " #'COX-RENUNCIA': ['ES303053_1', 'GASTOS DANA AYUNTAMIENTO DE COX', 'ES303053', \"03\"],\n",
    " 'COÍN-JOG': ['ES329029_1', 'GASTOS DANA AYUNTAMIENTO DE COÍN', 'ES329029', \"29\"],\n",
    " 'CREVILLENT': ['ES303047_1', 'GASTOS DANA AYUNTAMIENTO DE CREVILLENT', 'ES303047', \"03\"],\n",
    " 'CUEVAS DEL CAMPO': ['ES318058_1', 'GASTOS DANA AYUNTAMIENTO DE CUEVAS DEL CAMPO', 'ES318058', \"18\"],\n",
    " #'CULLAR-RENUNCIA-JOG': ['ES318056_1','GASTOS DANA AYUNTAMIENTO DE CÚLLAR','ES318056', \"18\"],\n",
    " #'data_blp': [],\n",
    " 'DAYA NUEVA-DGM': ['ES303046_1', 'GASTOS DANA AYUNTAMIENTO DE DAYA NUEVA', 'ES303046', \"03\"],\n",
    " 'DENIA': ['ES303026_1', 'GASTOS DANA AYUNTAMIENTO DE DÉNIA', 'ES303026', \"03\"],\n",
    " 'DGCMTM y AU-JOG': ['ES117007_1', 'GASTOS DANA DG CARRETERASV (MITMA)', 'ES117007', \"30\"],\n",
    " 'DP ALBACETE-DGM': ['ES302026_1', 'GASTOS DANA DIPUTACIÓN PROVINCIAL DE ALBACETE', 'ES302026', \"02\"],\n",
    " 'DP ALMERÍA- DGM': ['ES304006_1', 'GASTOS DANA DIPUTACIÓN PROVINCIAL DE ALMERÍA', 'ES304006', \"04\"],\n",
    " 'DP GRANADA-JOG': ['ES318007_1', 'GASTOS DANA DIPUTACIÓN PROVINCIAL DE GRANADA', 'ES318007', \"18\"],\n",
    " 'DP MÁLAGA-JOG': ['ES329003_1', 'GASTOS DANA DIPUTACIÓN PROVINCIAL DE MÁLAGA', 'ES329003', \"29\"],\n",
    " 'FUENTE-ÁLAMO-JOG': ['ES302052_1', 'GASTOS DANA AYUNTAMIENTO DE FUENTE-ÁLAMO', 'ES302052', \"30\"],\n",
    " 'GALLARDOS-JOG': ['ES304026_1', 'GASTOS DANA AYUNTAMIENTO DE GALLARDOS, LOS', 'ES304026', \"04\"],\n",
    " 'GENERALITAT VALENCIANA-EBB': ['ES209001_1', 'GASTOS DANA GENERALITAT VALENCIANA', 'ES209001', \"46\"],\n",
    " 'GRANADA-JOG': ['ES318003_1', 'GASTOS DANA AYUNTAMIENTO DE GRANADA', 'ES318003', \"18\"],\n",
    " 'HELLÍN-DGM': ['ES302051_1', 'GASTOS DANA AYUNTAMIENTO DE HELLÍN', 'ES302051', \"02\"],\n",
    " 'HOYA GONZALO': ['ES302058_1', 'GASTOS DANA AYUNTAMIENTO DE HOYA-GONZALO', 'ES302058', \"02\"],\n",
    " 'HUESCAR-DGM': ['ES318042_1', 'GASTOS DANA AYUNTAMIENTO DE HUÉSCAR', 'ES318042', \"18\"],\n",
    " 'JACARILA-JOG': ['ES303052_1', 'GASTOS DANA AYUNTAMIENTO DE JACARILLA', 'ES303052', \"03\"],\n",
    " 'JUNTA ANDALUCÍA-JOG': ['ES204001_1', 'GASTOS DANA JUNTA DE ANDALUCÍA', 'ES204001', \"41\"],\n",
    " 'L-OLLERIA': ['ES130001_1', 'GASTOS DANA  CONFEDERACION HIDROGRAFICA DEL JÚCAR, O.A. DEL MITECO', 'ES130001', \"46\"],\n",
    " #'LOJA': ['ES318055_1', 'GASTOS DANA AYUNTAMIENTO DE LOJA', 'ES318055'],\n",
    " 'LORCA-DGM': ['ES330028_1', 'GASTOS DANA AYUNTAMIENTO DE LORCA', 'ES330028', \"30\"],\n",
    " 'LORCHA-DGM': ['ES303054_1', \"GASTOS DANA AYUNTAMIENTO DE LORCHA/ORXA, L'\", 'ES303054', \"03\"],\n",
    " 'LORQUÍ-JOG': ['ES330017_1', 'GASTOS DANA AYUNTAMIENTO DE LORQUÍ', 'ES330017', \"30\"],\n",
    " 'MINISTERIO DEFENSA-EBB': ['ES114007_1', 'GASTOS DANA MINISTERIO DE DEFENSA', 'ES114007', \"28\"],\n",
    " 'MOLINA DEL SEGURA-MAC': ['ES330009_1', 'GASTOS DANA AYUNTAMIENTO DE MOLINA DE SEGURA', 'ES330009', \"30\"],\n",
    " 'MOLINICOS-DGM': ['ES302018_1', 'GASTOS DANA AYUNTAMIENTO DE MOLINICOS', 'ES302018', \"02\"],\n",
    " 'MONACHIL': ['ES318026_1', 'GASTOS DANA AYUNTAMIENTO DE MONACHIL', 'ES318026', \"18\"],\n",
    " 'NERPIO-JOG': ['ES302023_1', 'GASTOS DANA AYUNTAMIENTO DE NERPIO', 'ES302023', \"02\"],\n",
    " 'NIJAR-MAC': ['ES304007_1', 'GASTOS DANA AYUNTAMIENTO DE NÍJAR', 'ES304007', \"04\"],\n",
    " 'NOVELDA-EBB': ['ES303045_1', 'GASTOS DANA AYUNTAMIENTO DE NOVELDA', 'ES303045', \"03\"],\n",
    " 'OJÓS': ['ES330026_1', 'GASTOS DANA AYUNTAMIENTO DE OJÓS', 'ES330026', \"30\"],\n",
    " 'OLULA DEL RÍO-JOG': ['ES304027_1', 'GASTOS DANA AYUNTAMIENTO DE OLULA DEL RÍO', 'ES304027', \"04\"],\n",
    " 'ONTINYENT-MAC': ['ES346007_1', 'GASTOS DANA AYUNTAMIENTO DE ONTINYENT', 'ES346007', \"46\"],\n",
    " 'ONTUR-DGM': ['ES302053_1', 'GASTOS DANA AYUNTAMIENTO DE ONTUR', 'ES302053', \"02\"],\n",
    " 'ORIHUELA-MAC': ['ES303003_1', 'GASTOS DANA AYUNTAMIENTO DE ORIHUELA', 'ES303003', \"03\"],\n",
    " 'OTOS-JOG': ['ES346081_1', 'GASTOS DANA AYUNTAMIENTO DE OTOS', 'ES346081', \"46\"],\n",
    " 'PARCENT': ['ES303049_1', 'GASTOS DANA AYUNTAMIENTO DE PARCENT', 'ES303049', \"03\"],\n",
    " 'PILAR DE LA HORADADA': ['ES303041_1', 'GASTOS DANA AYUNTAMIENTO DE PILAR DE LA HORADADA', 'ES303041', \"03\"],\n",
    " 'PINOS GENIL': ['ES318057_1', 'GASTOS DANA AYUNTAMIENTO DE PINOS GENIL', 'ES318057', \"18\"],\n",
    " #'PUEBLA DE DON FADRIQUE-EBB': ['ES318043_1', 'GASTOS DANA AYUNTAMIENTO DE PUEBLA DE DON FADRIQUE', 'ES318043', \"18\"],\n",
    " 'PUERTO LUMBRERAS-JOG': ['ES330033_1', 'GASTOS DANA AYUNTAMIENTO DE PUERTO LUMBRERAS', 'ES330033', \"30\"],\n",
    " 'PULPÍ-JOG': ['ES304016_1', 'GASTOS DANA AYUNTAMIENTO DE PULPÍ', 'ES304016', \"04\"],\n",
    " 'PURCHENA': ['ES304019_1', 'GASTOS DANA AYUNTAMIENTO DE PURCHENA', 'ES304019', \"04\"],\n",
    " 'REDOVÁN-DGM': ['ES303048_1', 'GASTOS DANA AYUNTAMIENTO DE REDOVÁN', 'ES303048', \"03\"],\n",
    " 'REGIÓN DE MURCIA-DGM': ['ES208001_1', 'GASTOS DANA REGIÓN DE MURCIA', 'ES208001', \"30\"],\n",
    " 'RENFE-MAC': ['ES117024_1', 'GASTOS DANA RENFE (MITMA)', 'ES117024', \"28\"],\n",
    " 'RINCÓN DE LA VICTORIA-DGM': ['ES329011_1', 'GASTOS DANA AYUNTAMIENTO DE RINCÓN DE LA VICTORIA', 'ES329011', \"29\"],\n",
    " 'RIOJA-JOG': ['ES304024_1', 'GASTOS DANA AYUNTAMIENTO DE RIOJA', 'ES304024',\"04\"],\n",
    " 'SAN FULGENCIO': ['ES302057_1', 'GASTOS DANA AYUNTAMIENTO DE SAN FULGENCIO', 'ES302057', \"03\"],\n",
    " 'SAN JAVIER-JOG': ['ES330001_1', 'GASTOS DANA AYUNTAMIENTO DE SAN JAVIER', 'ES330001', \"30\"],\n",
    " 'SANTOMERA-JOG': ['ES330014_1', 'GASTOS DANA AYUNTAMIENTO DE SANTOMERA', 'ES330014', \"30\"],\n",
    " 'SERÓN-JOG': ['ES304022_1', 'GASTOS DANA AYUNTAMIENTO DE SERÓN', 'ES304022', \"04\"],\n",
    " 'TABERNO - JOG': ['ES304030_1', 'GASTOS DANA AYUNTAMIENTO DE TABERNO', 'ES304030'],\n",
    " 'TÍJOLA-DGM' : ['ES304028_1', 'GASTOS DANA AYUNTAMIENTO DE TÍJOLA', 'ES304028', \"04\"],\n",
    " 'TORRE PACHECO-DGM': ['ES330010_1', 'GASTOS DANA AYUNTAMIENTO DE TORRE-PACHECO', 'ES330010', \"30\"],\n",
    " 'TORRES DE COTILLAS-MAC': ['ES330008_1', 'GASTOS DANA AYUNTAMIENTO DE TORRES DE COTILLAS, LAS', 'ES330008', \"30\"],\n",
    " 'TOTANA-JOG': ['ES330032_1', 'GASTOS DANA AYUNTAMIENTO DE TOTANA', 'ES330032', \"30\"],\n",
    " \n",
    " 'ULEA-JOG': ['ES330029_1', 'GASTOS DANA AYUNTAMIENTO DE ULEA', 'ES330029', \"30\"],\n",
    " 'UNIÓN-DGM': ['ES330027_1', 'GASTOS DANA AYUNTAMIENTO DE UNIÓN, LA', 'ES330027', \"30\"],\n",
    " 'URRACAL-DGM': ['ES304031_1', 'GASTOS DANA AYUNTAMIENTO DE URRÁCAL', 'ES304031', \"04\"],\n",
    " 'VALLADA': ['ES312038_1', 'GASTOS DANA AYUNTAMIENTO DE VALLADA', 'ES312038'],\n",
    " 'VILLANUEVA DEL RIO SEGURA-DGM': ['ES330018_1', 'GASTOS DANA AYUNTAMIENTO DE VILLANUEVA DEL RÍO SEGURA', 'ES330018', \"30\"],\n",
    " 'VIVEROS': ['ES302030_1', 'GASTOS DANA AYUNTAMIENTO DE VIVEROS', 'ES302030', \"02\"],\n",
    " 'VÉLEZ MÁLAGA': ['ES329014_1', 'GASTOS DANA AYUNTAMIENTO DE VÉLEZ-MÁLAGA', 'ES329014', \"29\"],\n",
    " 'ZURGENA-JOG': ['ES304023_1', 'GASTOS DANA AYUNTAMIENTO DE ZURGENA', 'ES304023', \"04\"]}"
   ]
  },
  {
   "cell_type": "code",
   "execution_count": 8,
   "id": "9ddba4bd",
   "metadata": {},
   "outputs": [],
   "source": [
    "fichero_padre = \"P:/Regulacion/49 Encargo MinHac 20-22/08 FSUE-DANA/02 Archivos de trabajo/BENEFICIARIOS FSUE DANA\""
   ]
  },
  {
   "cell_type": "code",
   "execution_count": 9,
   "id": "2af4f987",
   "metadata": {},
   "outputs": [],
   "source": [
    "def ayuntamientos_con_el_fichero(aytsdic):\n",
    "    aytos_sin_fichero = {}\n",
    "    for k,v in aytsdic.items():\n",
    "        if \"Justificacion_FSUE-DANA.xlsx\" not in os.listdir(os.path.join(fichero_padre,k)):\n",
    "            aytos_sin_fichero.update({k: os.listdir(os.path.join(fichero_padre,k))[4:]})\n",
    "    return aytos_sin_fichero"
   ]
  },
  {
   "cell_type": "code",
   "execution_count": 10,
   "id": "39e03d2d",
   "metadata": {},
   "outputs": [
    {
     "ename": "FileNotFoundError",
     "evalue": "[WinError 3] El sistema no puede encontrar la ruta especificada: 'P:/Regulacion/49 Encargo MinHac 20-22/08 FSUE-DANA/02 Archivos de trabajo/BENEFICIARIOS FSUE DANA\\\\L-OLLERIA'",
     "output_type": "error",
     "traceback": [
      "\u001b[1;31m---------------------------------------------------------------------------\u001b[0m",
      "\u001b[1;31mFileNotFoundError\u001b[0m                         Traceback (most recent call last)",
      "\u001b[1;32m<ipython-input-10-06c94b363384>\u001b[0m in \u001b[0;36m<module>\u001b[1;34m\u001b[0m\n\u001b[1;32m----> 1\u001b[1;33m \u001b[0msin_fichero\u001b[0m \u001b[1;33m=\u001b[0m \u001b[0mayuntamientos_con_el_fichero\u001b[0m\u001b[1;33m(\u001b[0m\u001b[0mayuntamientos\u001b[0m\u001b[1;33m)\u001b[0m\u001b[1;33m\u001b[0m\u001b[1;33m\u001b[0m\u001b[0m\n\u001b[0m",
      "\u001b[1;32m<ipython-input-9-c4c5ed806577>\u001b[0m in \u001b[0;36mayuntamientos_con_el_fichero\u001b[1;34m(aytsdic)\u001b[0m\n\u001b[0;32m      2\u001b[0m     \u001b[0maytos_sin_fichero\u001b[0m \u001b[1;33m=\u001b[0m \u001b[1;33m{\u001b[0m\u001b[1;33m}\u001b[0m\u001b[1;33m\u001b[0m\u001b[1;33m\u001b[0m\u001b[0m\n\u001b[0;32m      3\u001b[0m     \u001b[1;32mfor\u001b[0m \u001b[0mk\u001b[0m\u001b[1;33m,\u001b[0m\u001b[0mv\u001b[0m \u001b[1;32min\u001b[0m \u001b[0maytsdic\u001b[0m\u001b[1;33m.\u001b[0m\u001b[0mitems\u001b[0m\u001b[1;33m(\u001b[0m\u001b[1;33m)\u001b[0m\u001b[1;33m:\u001b[0m\u001b[1;33m\u001b[0m\u001b[1;33m\u001b[0m\u001b[0m\n\u001b[1;32m----> 4\u001b[1;33m         \u001b[1;32mif\u001b[0m \u001b[1;34m\"Justificacion_FSUE-DANA.xlsx\"\u001b[0m \u001b[1;32mnot\u001b[0m \u001b[1;32min\u001b[0m \u001b[0mos\u001b[0m\u001b[1;33m.\u001b[0m\u001b[0mlistdir\u001b[0m\u001b[1;33m(\u001b[0m\u001b[0mos\u001b[0m\u001b[1;33m.\u001b[0m\u001b[0mpath\u001b[0m\u001b[1;33m.\u001b[0m\u001b[0mjoin\u001b[0m\u001b[1;33m(\u001b[0m\u001b[0mfichero_padre\u001b[0m\u001b[1;33m,\u001b[0m\u001b[0mk\u001b[0m\u001b[1;33m)\u001b[0m\u001b[1;33m)\u001b[0m\u001b[1;33m:\u001b[0m\u001b[1;33m\u001b[0m\u001b[1;33m\u001b[0m\u001b[0m\n\u001b[0m\u001b[0;32m      5\u001b[0m             \u001b[0maytos_sin_fichero\u001b[0m\u001b[1;33m.\u001b[0m\u001b[0mupdate\u001b[0m\u001b[1;33m(\u001b[0m\u001b[1;33m{\u001b[0m\u001b[0mk\u001b[0m\u001b[1;33m:\u001b[0m \u001b[0mos\u001b[0m\u001b[1;33m.\u001b[0m\u001b[0mlistdir\u001b[0m\u001b[1;33m(\u001b[0m\u001b[0mos\u001b[0m\u001b[1;33m.\u001b[0m\u001b[0mpath\u001b[0m\u001b[1;33m.\u001b[0m\u001b[0mjoin\u001b[0m\u001b[1;33m(\u001b[0m\u001b[0mfichero_padre\u001b[0m\u001b[1;33m,\u001b[0m\u001b[0mk\u001b[0m\u001b[1;33m)\u001b[0m\u001b[1;33m)\u001b[0m\u001b[1;33m[\u001b[0m\u001b[1;36m4\u001b[0m\u001b[1;33m:\u001b[0m\u001b[1;33m]\u001b[0m\u001b[1;33m}\u001b[0m\u001b[1;33m)\u001b[0m\u001b[1;33m\u001b[0m\u001b[1;33m\u001b[0m\u001b[0m\n\u001b[0;32m      6\u001b[0m     \u001b[1;32mreturn\u001b[0m \u001b[0maytos_sin_fichero\u001b[0m\u001b[1;33m\u001b[0m\u001b[1;33m\u001b[0m\u001b[0m\n",
      "\u001b[1;31mFileNotFoundError\u001b[0m: [WinError 3] El sistema no puede encontrar la ruta especificada: 'P:/Regulacion/49 Encargo MinHac 20-22/08 FSUE-DANA/02 Archivos de trabajo/BENEFICIARIOS FSUE DANA\\\\L-OLLERIA'"
     ]
    }
   ],
   "source": [
    "sin_fichero = ayuntamientos_con_el_fichero(ayuntamientos)"
   ]
  },
  {
   "cell_type": "code",
   "execution_count": null,
   "id": "8d4670e5",
   "metadata": {},
   "outputs": [],
   "source": [
    "sin_fichero, len(sin_fichero)"
   ]
  },
  {
   "cell_type": "code",
   "execution_count": null,
   "id": "bd16c903",
   "metadata": {},
   "outputs": [],
   "source": [
    "def get_df_contratos(filepath):\n",
    "    df = pd.read_excel(filepath, sheet_name= \"1. DATOS BÁSICOS CONTRATACIÓN\")\n",
    "    df.dropna(thresh=5,inplace=True)\n",
    "    df.columns = df.iloc[0]\n",
    "    df.drop(df.index[0],inplace=True)\n",
    "    df.reset_index(inplace=True,drop=True)\n",
    "    #display(df)\n",
    "    #print(df.dtypes)\n",
    "    df[\"Presupuesto de la Licitación (con IVA)\"] = pd.Series([round(val,2) for val in df[\"Presupuesto de la Licitación (con IVA)\"]])\n",
    "    df[\"Presupuesto de la Licitación (sin IVA)\"] = pd.Series([round(val,2) for val in df[\"Presupuesto de la Licitación (sin IVA)\"]])\n",
    "    df[\"Importe Adjudicado en la licitación (sin IVA)\"] = pd.Series([round(val,2) for val in df[\"Importe Adjudicado en la licitación (sin IVA)\"]])\n",
    "    df[\"Importe de ayuda del Fondo de Solidaridad que se solicita (con IVA)**\"] = pd.Series([round(val,2) for val in df[\"Importe de ayuda del Fondo de Solidaridad que se solicita (con IVA)**\"]])\n",
    "    df[\"Importe de ayuda del Fondo de Solidaridad que se solicita (sin IVA)**\"] = pd.Series([round(val,2) for val in df[\"Importe de ayuda del Fondo de Solidaridad que se solicita (sin IVA)**\"]])\n",
    "    if df.shape[0] != 0:\n",
    "        df = df[df.elegible != \"NO\"]\n",
    "        df = df[df.elegible != \"N\"]\n",
    "    #df.drop(\"NaN\", axis=1, inplace=True)\n",
    "    return df"
   ]
  },
  {
   "cell_type": "code",
   "execution_count": null,
   "id": "f2ca71e7",
   "metadata": {},
   "outputs": [],
   "source": [
    "contratos = {}\n",
    "if os.path.exists(os.path.join(fichero_padre,\"data_blp/contratosduplicados.csv\")) == True:\n",
    "    os.remove(os.path.join(fichero_padre,\"data_blp/contratosduplicados.csv\"))\n",
    "for k,v in ayuntamientos.items():\n",
    "    if k not in sin_fichero:\n",
    "        print(k)\n",
    "        df=get_df_contratos(os.path.join(fichero_padre,k,\"Justificacion_FSUE-DANA.xlsx\"))\n",
    "        contracts = df[\"Código Expte de Contratación/Encargo\"].tolist()\n",
    "        my_dict = {i:contracts.count(i) for i in contracts}\n",
    "        contratos.update({k:my_dict})\n",
    "        \n",
    "with open (os.path.join(fichero_padre,\"data_blp/contratosduplicados.csv\"), \"a\", encoding=\"utf-8\") as f: \n",
    "    f.write(\"Ayto; Expediente; Cantidad de apariciones\\n\")\n",
    "    for k,v in contratos.items():\n",
    "        for c,count in v.items():\n",
    "            f.write(k+\";\"+str(c).replace('\\n','')+\";\"+str(count)+\"\\n\")\n",
    "contratos"
   ]
  },
  {
   "cell_type": "code",
   "execution_count": null,
   "id": "90764685",
   "metadata": {},
   "outputs": [],
   "source": []
  },
  {
   "cell_type": "code",
   "execution_count": null,
   "id": "38a099f4",
   "metadata": {},
   "outputs": [],
   "source": []
  },
  {
   "cell_type": "code",
   "execution_count": null,
   "id": "5f029bde",
   "metadata": {},
   "outputs": [],
   "source": []
  },
  {
   "cell_type": "code",
   "execution_count": null,
   "id": "ade3a3c0",
   "metadata": {},
   "outputs": [],
   "source": []
  }
 ],
 "metadata": {
  "kernelspec": {
   "display_name": "Python 3",
   "language": "python",
   "name": "python3"
  },
  "language_info": {
   "codemirror_mode": {
    "name": "ipython",
    "version": 3
   },
   "file_extension": ".py",
   "mimetype": "text/x-python",
   "name": "python",
   "nbconvert_exporter": "python",
   "pygments_lexer": "ipython3",
   "version": "3.8.11"
  }
 },
 "nbformat": 4,
 "nbformat_minor": 5
}
