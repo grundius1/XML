{
 "cells": [
  {
   "cell_type": "code",
   "execution_count": 1,
   "id": "b6f417ba",
   "metadata": {},
   "outputs": [],
   "source": [
    "import os\n",
    "import csv\n",
    "import pandas as pd\n",
    "import re\n",
    "import xml.etree.ElementTree as ET"
   ]
  },
  {
   "cell_type": "code",
   "execution_count": 2,
   "id": "393312af",
   "metadata": {},
   "outputs": [],
   "source": [
    "ayuntamientos = {'ABANILLA': ['ES330024_1', 'GASTOS DANA AYUNTAMIENTO DE ABANILLA', 'ES330024'],\n",
    " 'ABARÁN': ['ES330031_1', 'GASTOS DANA AYUNTAMIENTO DE ABARÁN', 'ES330031'],\n",
    " 'AENA': ['ES117023_1', 'GASTOS DANA AENA (MITMA)', 'ES117023'],\n",
    " 'AGULLENT': ['ES303050_1','GASTOS DANA AYUNTAMIENTO DE AGULLENT','ES303050'],\n",
    " 'ALBAIDA': ['ES346012_1', 'GASTOS DANA AYUNTAMIENTO DE ALBAIDA', 'ES346012'],\n",
    " 'ALBATERA': ['ES303044_1','GASTOS DANA AYUNTAMIENTO DE ALBATERA','ES303044'],\n",
    " 'ALCAUCÍN-RENUNCIA': ['ES329032_1','GASTOS DANA AYUNTAMIENTO DE ALCAUCÍN','ES329032'],\n",
    " 'ALCÁZARES': ['ES330025_1','GASTOS DANA AYUNTAMIENTO DE ALCÁZARES, LOS','ES330025'],\n",
    " 'ALCÓNTAR-JRL': ['ES304029_1','GASTOS DANA AYUNTAMIENTO DE ALCÓNTAR', 'ES304029'],\n",
    " 'ALGORFA': ['ES303016_1', 'GASTOS DANA AYUNTAMIENTO DE ALGORFA', 'ES303016'],\n",
    " 'ALHAURÍN DE LA TORRE': ['ES329005_1','GASTOS DANA AYUNTAMIENTO DE ALHAURÍN DE LA TORRE','ES329005'],\n",
    " 'ALMANSA': ['ES302002_1', 'GASTOS DANA AYUNTAMIENTO DE ALMANSA', 'ES302002'],\n",
    " 'ALMERÍA': ['ES304004_1', 'GASTOS DANA AYUNTAMIENTO DE ALMERÍA', 'ES304004'],\n",
    " 'ALMORADÍ': ['ES303017_1','GASTOS DANA AYUNTAMIENTO DE ALMORADÍ','ES303017'],\n",
    " 'ALQUERIA DE AZNAR': ['ES303018_1', \"GASTOS DANA AYUNTAMIENTO DE ALQUERIA D'ASNAR, L'\", 'ES303018'],\n",
    " 'AP CARTAGENA': ['ES117025_1', 'GASTOS DANA AUTORIDAD PORTUARIA CARTAGENA (MITMA)', 'ES11702'],\n",
    " 'ARBOLEAS': ['ES304025_1','GASTOS DANA AYUNTAMIENTO DE ARBOLEAS','ES304025'],\n",
    " 'ARCHENA': ['ES330005_1', 'GASTOS DANA AYUNTAMIENTO DE ARCHENA', 'ES330005'],\n",
    " 'ARCHIDONA': ['ES329023_1','GASTOS DANA AYUNTAMIENTO DE ARCHIDONA','ES329023'],\n",
    " 'BAZA': ['ES318001_1', 'GASTOS DANA AYUNTAMIENTO DE BAZA', 'ES318001'],\n",
    " 'BENIEL': ['ES330013_1', 'GASTOS DANA AYUNTAMIENTO DE BENIEL', 'ES330013'],\n",
    " #'BIENSERVIDA-RENUNCIA': [],\n",
    " 'BIGASTRO': ['ES303051_1','GASTOS DANA AYUNTAMIENTO DE BIGASTRO', 'ES303051'],\n",
    " 'BLANCA': ['ES330015_1', 'GASTOS DANA AYUNTAMIENTO DE BLANCA', 'ES330015'],\n",
    " 'CAMPOS DEL RÍO': ['ES330030_1', 'GASTOS DANA AYUNTAMIENTO DE CAMPOS DEL RÍO', 'ES330030'],\n",
    " 'CARTAGENA': ['ES117025_1','GASTOS DANA AUTORIDAD PORTUARIA CARTAGENA (MITMA)', 'ES117025'],\n",
    " 'CASTILLA LA MANCHA': ['ES211001_1','GASTOS DANA COMUNIDAD AUTÓNOMA DE CASTILLA-LA MANCHA','ES211001'],\n",
    " 'CASTRIL-JRL': ['ES318054_1', 'GASTOS DANA AYUNTAMIENTO DE CASTRIL', 'ES318054'],\n",
    " 'CHAUCHINA': ['ES318053_1', 'GASTOS DANA AYUNTAMIENTO DE CHAUCHINA', 'ES318053'],\n",
    " 'CIEZA': ['ES330002_1', 'GASTOS DANA AYUNTAMIENTO DE CIEZA', 'ES330002'],\n",
    " 'COCENTAINA': ['ES303025_1', 'GASTOS DANA AYUNTAMIENTO DE COCENTAINA', 'ES303025'],\n",
    " 'CONF.HIDRO.JÚCAR-EBB': ['ES130001_1', 'GASTOS DANA  CONFEDERACION HIDROGRAFICA DEL JÚCAR, O.A. DEL MITECO', 'ES130001'],\n",
    " 'CONF.HIDRO.SEGURA-MAC': ['ES130006_1', 'GASTOS DANA CONFEDERACION HIDROGRAFICA DEL SEGURA, O.A. DEL MITECO', 'ES130006'],\n",
    " 'COX': ['ES303053_1', 'GASTOS DANA AYUNTAMIENTO DE COX', 'ES303053'],\n",
    " 'COÍN': ['ES329029_1', 'GASTOS DANA AYUNTAMIENTO DE COÍN', 'ES329029'],\n",
    " 'CREVILLENT': ['ES303047_1', 'GASTOS DANA AYUNTAMIENTO DE CREVILLENT', 'ES303047'],\n",
    " 'CUEVAS DEL CAMPO': ['ES318058_1', 'GASTOS DANA AYUNTAMIENTO DE CUEVAS DEL CAMPO', 'ES318058'],\n",
    " 'CULLAR': ['ES318056_1','GASTOS DANA AYUNTAMIENTO DE CÚLLAR','ES318056'],\n",
    " #'data_blp': [],\n",
    " 'DAYA NUEVA': ['ES303046_1', 'GASTOS DANA AYUNTAMIENTO DE DAYA NUEVA', 'ES303046'],\n",
    " 'DENIA': ['ES303026_1', 'GASTOS DANA AYUNTAMIENTO DE DÉNIA', 'ES303026'],\n",
    " 'DGCMTM y AU': ['ES117007_1', 'GASTOS DANA DG CARRETERASV (MITMA)', 'ES117007'],\n",
    " 'DP ALBACETE': ['ES302026_1', 'GASTOS DANA DIPUTACIÓN PROVINCIAL DE ALBACETE', 'ES302026'],\n",
    " 'DP ALMERÍA': ['ES304006_1', 'GASTOS DANA DIPUTACIÓN PROVINCIAL DE ALMERÍA', 'ES304006'],\n",
    " 'DP GRANADA': ['ES318007_1', 'GASTOS DANA DIPUTACIÓN PROVINCIAL DE GRANADA', 'ES318007'],\n",
    " 'DP MÁLAGA': ['ES329003_1', 'GASTOS DANA DIPUTACIÓN PROVINCIAL DE MÁLAGA', 'ES329003'],\n",
    " 'FUENTE-ÁLAMO': ['ES302052_1', 'GASTOS DANA AYUNTAMIENTO DE FUENTE-ÁLAMO', 'ES302052'],\n",
    " 'GALLARDOS': ['ES304026_1', 'GASTOS DANA AYUNTAMIENTO DE GALLARDOS, LOS', 'ES304026'],\n",
    " 'GENERALITAT VALENCIANA-EBB': ['ES209001_1', 'GASTOS DANA GENERALITAT VALENCIANA', 'ES209001'],\n",
    " 'GRANADA': ['ES318003_1', 'GASTOS DANA AYUNTAMIENTO DE GRANADA', 'ES318003'],\n",
    " 'HELLÍN': ['ES302051_1', 'GASTOS DANA AYUNTAMIENTO DE HELLÍN', 'ES302051'],\n",
    " 'HOYA GONZALO-JRL': ['ES302058_1', 'GASTOS DANA AYUNTAMIENTO DE HOYA-GONZALO', 'ES302058'],\n",
    " 'HUESCAR': ['ES318042_1', 'GASTOS DANA AYUNTAMIENTO DE HUÉSCAR', 'ES318042'],\n",
    " 'JACARILA': ['ES303052_1', 'GASTOS DANA AYUNTAMIENTO DE JACARILLA', 'ES303052'],\n",
    " 'JUNTA ANDALUCÍA-JOG': ['ES204001_1', 'GASTOS DANA JUNTA DE ANDALUCÍA', 'ES204001'],\n",
    " 'L-OLLERIA-JRL': ['ES130001_1', 'GASTOS DANA  CONFEDERACION HIDROGRAFICA DEL JÚCAR, O.A. DEL MITECO', 'ES130001'],\n",
    " 'LOJA': ['ES318055_1', 'GASTOS DANA AYUNTAMIENTO DE LOJA', 'ES318055'],\n",
    " 'LORCA': ['ES330028_1', 'GASTOS DANA AYUNTAMIENTO DE LORCA', 'ES330028'],\n",
    " 'LORCHA': ['ES303054_1', \"GASTOS DANA AYUNTAMIENTO DE LORCHA/ORXA, L'\", 'ES303054'],\n",
    " 'LORQUÍ': ['ES330017_1', 'GASTOS DANA AYUNTAMIENTO DE LORQUÍ', 'ES330017'],\n",
    " 'MINISTERIO DEFENSA-EBB': ['ES114007_1', 'GASTOS DANA MINISTERIO DE DEFENSA', 'ES114007'],\n",
    " 'MOLINA DEL SEGURA': ['ES330009_1', 'GASTOS DANA AYUNTAMIENTO DE MOLINA DE SEGURA', 'ES330009'],\n",
    " 'MOLINICOS': ['ES302018_1', 'GASTOS DANA AYUNTAMIENTO DE MOLINICOS', 'ES302018'],\n",
    " 'MONACHIL-JRL': ['ES318026_1', 'GASTOS DANA AYUNTAMIENTO DE MONACHIL', 'ES318026'],\n",
    " 'NERPIO': ['ES302023_1', 'GASTOS DANA AYUNTAMIENTO DE NERPIO', 'ES302023'],\n",
    " 'NIJAR-MAC': ['ES304007_1', 'GASTOS DANA AYUNTAMIENTO DE NÍJAR', 'ES304007'],\n",
    " 'NOVELDA-EBB': ['ES303045_1', 'GASTOS DANA AYUNTAMIENTO DE NOVELDA', 'ES303045'],\n",
    " 'OJÓS-JRL': ['ES330026_1', 'GASTOS DANA AYUNTAMIENTO DE OJÓS', 'ES330026'],\n",
    " 'OLULA DEL RÍO': ['ES304027_1', 'GASTOS DANA AYUNTAMIENTO DE OLULA DEL RÍO', 'ES304027'],\n",
    " 'ONTINYENT': ['ES346007_1', 'GASTOS DANA AYUNTAMIENTO DE ONTINYENT', 'ES346007'],\n",
    " 'ONTUR': ['ES302053_1', 'GASTOS DANA AYUNTAMIENTO DE ONTUR', 'ES302053'],\n",
    " 'ORIHUELA-MAC': ['ES303003_1', 'GASTOS DANA AYUNTAMIENTO DE ORIHUELA', 'ES303003'],\n",
    " 'OTOS': ['ES346081_1', 'GASTOS DANA AYUNTAMIENTO DE OTOS', 'ES346081'],\n",
    " 'PARCENT': ['ES303049_1', 'GASTOS DANA AYUNTAMIENTO DE PARCENT', 'ES303049'],\n",
    " 'PILAR DE LA HORADADA': ['ES303041_1', 'GASTOS DANA AYUNTAMIENTO DE PILAR DE LA HORADADA', 'ES303041'],\n",
    " 'PINOS GENIL-JRL': ['ES318057_1', 'GASTOS DANA AYUNTAMIENTO DE PINOS GENIL', 'ES318057'],\n",
    " 'PUEBLA DE DON FADRIQUE': ['ES318043_1', 'GASTOS DANA AYUNTAMIENTO DE PUEBLA DE DON FADRIQUE', 'ES318043'],\n",
    " 'PUERTO LUMBRERAS': ['ES330033_1', 'GASTOS DANA AYUNTAMIENTO DE PUERTO LUMBRERAS', 'ES330033'],\n",
    " 'PULPÍ': ['ES304016_1', 'GASTOS DANA AYUNTAMIENTO DE PULPÍ', 'ES304016'],\n",
    " 'PURCHENA': ['ES304019_1', 'GASTOS DANA AYUNTAMIENTO DE PURCHENA', 'ES304019'],\n",
    " 'REDOVÁN': ['ES303048_1', 'GASTOS DANA AYUNTAMIENTO DE REDOVÁN', 'ES303048'],\n",
    " 'REGIÓN DE MURCIA': ['ES208001_1', 'GASTOS DANA REGIÓN DE MURCIA', 'ES208001'],\n",
    " 'RENFE': ['ES117024_1', 'GASTOS DANA RENFE (MITMA)', 'ES117024'],\n",
    " 'RINCÓN DE LA VICTORIA': ['ES329011_1', 'GASTOS DANA AYUNTAMIENTO DE RINCÓN DE LA VICTORIA', 'ES329011'],\n",
    " 'RIOJA': ['ES304024_1', 'GASTOS DANA AYUNTAMIENTO DE RIOJA', 'ES304024'],\n",
    " 'SAN FULGENCIO': ['ES302057_1', 'GASTOS DANA AYUNTAMIENTO DE SAN FULGENCIO', 'ES302057'],\n",
    " 'SAN JAVIER': ['ES330001_1', 'GASTOS DANA AYUNTAMIENTO DE SAN JAVIER', 'ES330001'],\n",
    " 'SANTOMERA': ['ES330014_1', 'GASTOS DANA AYUNTAMIENTO DE SANTOMERA', 'ES330014'],\n",
    " 'SERÓN': ['ES304022_1', 'GASTOS DANA AYUNTAMIENTO DE SERÓN', 'ES304022'],\n",
    " 'TABERNO': ['ES304030_1', 'GASTOS DANA AYUNTAMIENTO DE TABERNO', 'ES304030'],\n",
    " 'TORRE PACHECO': ['ES330010_1', 'GASTOS DANA AYUNTAMIENTO DE TORRE-PACHECO', 'ES330010'],\n",
    " 'TORRES DE COTILLAS': ['ES330008_1', 'GASTOS DANA AYUNTAMIENTO DE TORRES DE COTILLAS, LAS', 'ES330008'],\n",
    " 'TOTANA-JRL': ['ES330032_1', 'GASTOS DANA AYUNTAMIENTO DE TOTANA', 'ES330032'],\n",
    " 'TÍJOLA': ['ES304028_1', 'GASTOS DANA AYUNTAMIENTO DE TÍJOLA', 'ES304028'],\n",
    " 'ULEA': ['ES330029_1', 'GASTOS DANA AYUNTAMIENTO DE ULEA', 'ES330029'],\n",
    " 'UNIÓN': ['ES330027_1', 'GASTOS DANA AYUNTAMIENTO DE UNIÓN, LA', 'ES330027'],\n",
    " 'URRACAL': ['ES304031_1', 'GASTOS DANA AYUNTAMIENTO DE URRÁCAL', 'ES304031'],\n",
    " 'VALLADA': ['ES312038_1', 'GASTOS DANA AYUNTAMIENTO DE VALLADA', 'ES312038'],\n",
    " 'VILLANUEVA DEL RIO SEGURA': ['ES330018_1', 'GASTOS DANA AYUNTAMIENTO DE VILLANUEVA DEL RÍO SEGURA', 'ES330018'],\n",
    " 'VIVEROS-JRL': ['ES302030_1', 'GASTOS DANA AYUNTAMIENTO DE VIVEROS', 'ES302030'],\n",
    " 'VÉLEZ': ['ES329014_1', 'GASTOS DANA AYUNTAMIENTO DE VÉLEZ-MÁLAGA', 'ES329014'],\n",
    " 'ZURGENA': ['ES304023_1', 'GASTOS DANA AYUNTAMIENTO DE ZURGENA', 'ES304023']}"
   ]
  },
  {
   "cell_type": "code",
   "execution_count": null,
   "id": "6365dee4",
   "metadata": {},
   "outputs": [],
   "source": [
    "ayuntamientos= {#'GENERALITAT VALENCIANA-EBB': ['ES209001_1', 'GASTOS DANA GENERALITAT VALENCIANA', 'ES209001', \"46\"],\n",
    "                #'JUNTA ANDALUCÍA-JOG': ['ES204001_1', 'GASTOS DANA JUNTA DE ANDALUCÍA', 'ES204001', \"41\"],\n",
    "                'CONF.HIDRO.SEGURA-MAC': ['ES130006_1', 'GASTOS DANA CONFEDERACION HIDROGRAFICA DEL SEGURA, O.A. DEL MITECO', 'ES130006', \"30\"],\n",
    "                'MINISTERIO DEFENSA-EBB': ['ES114007_1', 'GASTOS DANA MINISTERIO DE DEFENSA', 'ES114007', \"28\"],\n",
    "                #'ORIHUELA-MAC': ['ES303003_1', 'GASTOS DANA AYUNTAMIENTO DE ORIHUELA', 'ES303003', \"03\"],\n",
    "                'CONF.HIDRO.JÚCAR-EBB': ['ES130001_1', 'GASTOS DANA  CONFEDERACION HIDROGRAFICA DEL JÚCAR, O.A. DEL MITECO', 'ES130001', \"46\"],\n",
    "                'NIJAR-MAC': ['ES304007_1', 'GASTOS DANA AYUNTAMIENTO DE NÍJAR', 'ES304007', \"04\"],\n",
    "                #'REGIÓN DE MURCIA-DGM': ['ES208001_1', 'GASTOS DANA REGIÓN DE MURCIA', 'ES208001', \"30\"],\n",
    "                #'ALCÁZARES-MAC': ['ES330025_1','GASTOS DANA AYUNTAMIENTO DE ALCÁZARES, LOS','ES330025', \"30\"],\n",
    "                #'TORRE PACHECO-DGM': ['ES330010_1', 'GASTOS DANA AYUNTAMIENTO DE TORRE-PACHECO', 'ES330010', \"30\"],\n",
    "                'ALMORADÍ-DGM': ['ES303017_1','GASTOS DANA AYUNTAMIENTO DE ALMORADÍ','ES303017', \"46\"],\n",
    "                #'ONTINYENT-MAC': ['ES346007_1', 'GASTOS DANA AYUNTAMIENTO DE ONTINYENT', 'ES346007', \"46\"],\n",
    "                'BIGASTRO-JOG': ['ES303051_1','GASTOS DANA AYUNTAMIENTO DE BIGASTRO', 'ES303051', \"46\"],\n",
    "                #'CARTAGENA-JOG': ['ES330006_1','GASTOS DANA AYUNTAMIENTO DE CARTAGENA', 'ES330006', \"30\"],\n",
    "                #'NOVELDA-EBB': ['ES303045_1', 'GASTOS DANA AYUNTAMIENTO DE NOVELDA', 'ES303045', \"03\"],\n",
    "                #'LORCA-DGM': ['ES330028_1', 'GASTOS DANA AYUNTAMIENTO DE LORCA', 'ES330028', \"30\"],\n",
    "                #'DP ALBACETE': ['ES302026_1', 'GASTOS DANA DIPUTACIÓN PROVINCIAL DE ALBACETE', 'ES302026', \"02\"],\n",
    "                'LORQUÍ-JOG': ['ES330017_1', 'GASTOS DANA AYUNTAMIENTO DE LORQUÍ', 'ES330017', \"30\"],\n",
    "                #'REDOVÁN': ['ES303048_1', 'GASTOS DANA AYUNTAMIENTO DE REDOVÁN', 'ES303048', \"03\"],\n",
    "                'ALGORFA-JOG': ['ES303016_1', 'GASTOS DANA AYUNTAMIENTO DE ALGORFA', 'ES303016', \"03\"],\n",
    "                'TÍJOLA-DGM' : ['ES304028_1', 'GASTOS DANA AYUNTAMIENTO DE TÍJOLA', 'ES304028', \"04\"],\n",
    "                #'OLULA DEL RÍO': ['ES304027_1', 'GASTOS DANA AYUNTAMIENTO DE OLULA DEL RÍO', 'ES304027', \"04\"],\n",
    "                'PULPÍ-JOG': ['ES304016_1', 'GASTOS DANA AYUNTAMIENTO DE PULPÍ', 'ES304016', \"04\"],\n",
    "                #'COÍN-JOG': ['ES329029_1', 'GASTOS DANA AYUNTAMIENTO DE COÍN', 'ES329029', \"29\"],\n",
    "                'MOLINICOS': ['ES302018_1', 'GASTOS DANA AYUNTAMIENTO DE MOLINICOS', 'ES302018', \"02\"],\n",
    "                'FUENTE-ÁLAMO-JOG': ['ES302052_1', 'GASTOS DANA AYUNTAMIENTO DE FUENTE-ÁLAMO', 'ES302052', \"30\"],\n",
    "                'CULLAR-JOG': ['ES318056_1','GASTOS DANA AYUNTAMIENTO DE CÚLLAR','ES318056', \"18\"],\n",
    "                'VILLANUEVA DEL RIO SEGURA dgm': ['ES330018_1', 'GASTOS DANA AYUNTAMIENTO DE VILLANUEVA DEL RÍO SEGURA', 'ES330018', \"30\"],\n",
    "                'ZURGENA-JOG': ['ES304023_1', 'GASTOS DANA AYUNTAMIENTO DE ZURGENA', 'ES304023', \"04\"],\n",
    "                'ALBATERA-JOG': ['ES303044_1','GASTOS DANA AYUNTAMIENTO DE ALBATERA','ES303044', \"03\"],\n",
    "                'HUESCAR DGM': ['ES318042_1', 'GASTOS DANA AYUNTAMIENTO DE HUÉSCAR', 'ES318042', \"18\"],\n",
    "                'BLANCA-JOG': ['ES330015_1', 'GASTOS DANA AYUNTAMIENTO DE BLANCA', 'ES330015', \"30\"],\n",
    "                'ONTUR-DGM': ['ES302053_1', 'GASTOS DANA AYUNTAMIENTO DE ONTUR', 'ES302053', \"02\"],\n",
    "                'LORCHA-DGM': ['ES303054_1', \"GASTOS DANA AYUNTAMIENTO DE LORCHA/ORXA, L'\", 'ES303054', \"03\"],\n",
    "}"
   ]
  },
  {
   "cell_type": "code",
   "execution_count": 3,
   "id": "0bc9e3b9",
   "metadata": {},
   "outputs": [],
   "source": [
    "fichero_padre = \"C:/Users/bllanos/Desktop/Simulacion_dana\""
   ]
  },
  {
   "cell_type": "code",
   "execution_count": 4,
   "id": "dc97edab",
   "metadata": {},
   "outputs": [
    {
     "name": "stdout",
     "output_type": "stream",
     "text": [
      "100\n"
     ]
    }
   ],
   "source": [
    "aytos = 0\n",
    "for k,v in ayuntamientos.items():\n",
    "    carpetas={}\n",
    "    correcto={}\n",
    "    if k not in os.listdir(fichero_padre):\n",
    "        carpetas.update({k: 'not'})\n",
    "    with open(os.path.join(fichero_padre,\"data_blp\",\"Operaciones_PRO.csv\")) as f:\n",
    "        f.readline()\n",
    "        for line in f.readlines():\n",
    "            #print(line.split(\";\")[2])\n",
    "            if line.split(\";\")[2] != ayuntamientos[k][0]:\n",
    "                correcto.update({k: 'fallo operacion'})\n",
    "    aytos+=1\n",
    "print(aytos)"
   ]
  },
  {
   "cell_type": "code",
   "execution_count": 5,
   "id": "1b2fdcd0",
   "metadata": {},
   "outputs": [
    {
     "data": {
      "text/plain": [
       "{}"
      ]
     },
     "execution_count": 5,
     "metadata": {},
     "output_type": "execute_result"
    }
   ],
   "source": [
    "carpetas"
   ]
  },
  {
   "cell_type": "code",
   "execution_count": 6,
   "id": "c5c25a6a",
   "metadata": {},
   "outputs": [
    {
     "data": {
      "text/plain": [
       "{'ZURGENA': 'fallo operacion'}"
      ]
     },
     "execution_count": 6,
     "metadata": {},
     "output_type": "execute_result"
    }
   ],
   "source": [
    "correcto"
   ]
  },
  {
   "cell_type": "code",
   "execution_count": null,
   "id": "9b6c4143",
   "metadata": {},
   "outputs": [],
   "source": [
    "def lista_ficheros_operaciones(fichero, aytos=\"ALL\"):\n",
    "    '''\n",
    "    Funcion para obtener la lista de ficheros que tienen el archivo Justificacion_FSUE-DANA.xlsx\n",
    "    entre todos los ayuntamientos\n",
    "    \n",
    "    Falta implementar correctamente cuando quieres alguno en concreto o una lista pequeña de ellos\n",
    "    \n",
    "    args: el fichero dond eestan todas las carpetas donde quieres buscar\n",
    "        *la lista de ayuntamientos a bucar\n",
    "        \n",
    "    return: una lista de tuplas con el ayuntamiento y su path'''\n",
    "    beneficiarios = os.listdir(fichero)\n",
    "    diccionario = {}\n",
    "    for beneficiario in beneficiarios:\n",
    "        ayuntamiento = beneficiario.split(\"-\")[0]\n",
    "        r = re.compile(f\"(?i){ayuntamiento}\")\n",
    "        match = []\n",
    "        #print(ayuntamiento)\n",
    "        with open(os.path.join(fichero,\"data_blp\",\"Operaciones_PRO.csv\")) as f:\n",
    "            for line in f.readlines():\n",
    "                #print(line.split(\";\"))\n",
    "                if line.split(\";\")[3].find(ayuntamiento) != -1:\n",
    "                    match = [line.split(\";\")[2],line.split(\";\")[3], line.split(\";\")[11]]\n",
    "                    f.close()\n",
    "                    break\n",
    "        diccionario.update({beneficiario : match})\n",
    "            \n",
    "    return diccionario"
   ]
  }
 ],
 "metadata": {
  "kernelspec": {
   "display_name": "Python 3",
   "language": "python",
   "name": "python3"
  },
  "language_info": {
   "codemirror_mode": {
    "name": "ipython",
    "version": 3
   },
   "file_extension": ".py",
   "mimetype": "text/x-python",
   "name": "python",
   "nbconvert_exporter": "python",
   "pygments_lexer": "ipython3",
   "version": "3.8.11"
  }
 },
 "nbformat": 4,
 "nbformat_minor": 5
}
