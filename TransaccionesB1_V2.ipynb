{
 "cells": [
  {
   "cell_type": "code",
   "execution_count": 1,
   "metadata": {},
   "outputs": [],
   "source": [
    "import csv\n",
    "import xml.etree.ElementTree as ET"
   ]
  },
  {
   "cell_type": "code",
   "execution_count": 2,
   "metadata": {},
   "outputs": [
    {
     "name": "stdout",
     "output_type": "stream",
     "text": [
      "C:/Users/bllanos/Desktop/project1/prueba1/Junio_2022/Melilla/B1/Mel_TB1.csv\n"
     ]
    }
   ],
   "source": [
    "file = \"C:/Users/bllanos/Desktop/project1/prueba1/Junio_2022/Melilla/B1/Mel_TB1.csv\"\n",
    "\n",
    "print(file)"
   ]
  },
  {
   "cell_type": "code",
   "execution_count": 3,
   "metadata": {},
   "outputs": [],
   "source": [
    "root = ET.Element(\"transacciones\")"
   ]
  },
  {
   "cell_type": "code",
   "execution_count": 4,
   "metadata": {},
   "outputs": [],
   "source": [
    "with open(file) as f:\n",
    "    csv_reader = csv.DictReader(f,delimiter=\";\")\n",
    "    for row in csv_reader:\n",
    "        #print(row)\n",
    "        transacion = ET.SubElement(root,\"transaccion\")\n",
    "        transaccionescount = 0\n",
    "        for k,v in row.items():\n",
    "            if v == \"\":\n",
    "                pass\n",
    "            else:\n",
    "                k = k.split(\" \")[0]\n",
    "                if k == \"cod_contrato\" or k == \"version_cont\" or k==\"gasto_abonado\":\n",
    "                    if transaccionescount == 0:\n",
    "                        transacciones = ET.SubElement(transacion,\"transacciones_contratos\")\n",
    "                        transaccion2 = ET.SubElement(transacciones,\"transaccion_contratos\")\n",
    "                        transaccionescount = 1\n",
    "                    elemento = ET.SubElement(transaccion2,f\"{k}\")\n",
    "                    elemento.text= f\"{v.replace(',','.')}\"\n",
    "                else:\n",
    "                    elemento = ET.SubElement(transacion,f\"{k}\")\n",
    "                    elemento.text= f\"{v.replace(',','.')}\"\n",
    "    tree = ET.ElementTree(root)\n",
    "    tree.write(\"C:/Users/bllanos/Desktop/project1/prueba1/Junio_2022/Melilla/B1/Mel_TB1.xml\", encoding = \"UTF-8\", xml_declaration=True,)\n",
    "        \n",
    "        "
   ]
  },
  {
   "cell_type": "code",
   "execution_count": 5,
   "metadata": {},
   "outputs": [],
   "source": [
    "root = ET.Element(\"transaccionesListas\")\n",
    "with open(file) as f:\n",
    "    csv_reader = csv.DictReader(f,delimiter=\";\")\n",
    "    registros = 0\n",
    "    ficheros = 1\n",
    "    for row in csv_reader:\n",
    "        #print(row)\n",
    "        #cod_poperativo = row[\"cod_poperativo\"]\n",
    "        #operacion = row[\"cod_operacion\"]\n",
    "        #transaccion = row[\"cod_transaccion\"]\n",
    "        #preguntas = 1\n",
    "        with open(\"C:/Users/bllanos/Desktop/project1/prueba1/Julio_2021/Listas_ver/Transacciones/tabla_respuestas/respuestas.csv\") as r:\n",
    "            respuestasreader = csv.DictReader(r,delimiter=\";\")\n",
    "            for line in respuestasreader:\n",
    "                transaccion = ET.SubElement(root,\"transaccionLista\")\n",
    "                poperativo = ET.SubElement(transaccion,\"cod_poperativo\")\n",
    "                poperativo.text = row[\"cod_poperativo\"]\n",
    "                operacion = ET.SubElement(transaccion,\"cod_operacion\")\n",
    "                operacion.text = row[\"cod_operacion\"].replace('\\n','')\n",
    "                codtransaccion = ET.SubElement(transaccion,\"cod_transaccion\")\n",
    "                codtransaccion.text = row[\"cod_transaccion\"]\n",
    "                tipolista = ET.SubElement(transaccion,\"cod_tipo_lista\")\n",
    "                tipolista.text = \"Va-Tr\"\n",
    "                lista = ET.SubElement(transaccion,\"cod_lista\")\n",
    "                lista.text = \"VaTr0\"\n",
    "                pregunta = ET.SubElement(transaccion,\"cod_pregunta\")\n",
    "                pregunta.text = line[\"pregunta\"]\n",
    "                respuesta = ET.SubElement(transaccion,\"respuesta\")\n",
    "                respuesta.text = line[\"respuesta\"]\n",
    "                registros +=1\n",
    "        if registros > 1500:\n",
    "            tree = ET.ElementTree(root)\n",
    "            archivo = f\"C:/Users/bllanos/Desktop/project1/prueba1/Junio_2022/Melilla/B1/Mel_TB1_LV_{ficheros}.xml\"\n",
    "            tree.write(archivo, encoding = \"UTF-8\", xml_declaration=True,)\n",
    "            ficheros +=1\n",
    "            registros = 0  \n",
    "            root = ET.Element(\"transaccionesListas\")\n",
    "    tree = ET.ElementTree(root)\n",
    "    tree.write(f\"C:/Users/bllanos/Desktop/project1/prueba1/Junio_2022/Melilla/B1/Mel_TB1_LV_{ficheros}.xml\", encoding = \"UTF-8\", xml_declaration=True,)\n",
    "        \n",
    "    "
   ]
  },
  {
   "cell_type": "code",
   "execution_count": null,
   "metadata": {},
   "outputs": [],
   "source": []
  },
  {
   "cell_type": "code",
   "execution_count": null,
   "metadata": {},
   "outputs": [],
   "source": []
  },
  {
   "cell_type": "code",
   "execution_count": null,
   "metadata": {},
   "outputs": [],
   "source": []
  }
 ],
 "metadata": {
  "kernelspec": {
   "display_name": "Python 3",
   "language": "python",
   "name": "python3"
  },
  "language_info": {
   "codemirror_mode": {
    "name": "ipython",
    "version": 3
   },
   "file_extension": ".py",
   "mimetype": "text/x-python",
   "name": "python",
   "nbconvert_exporter": "python",
   "pygments_lexer": "ipython3",
   "version": "3.8.11"
  }
 },
 "nbformat": 4,
 "nbformat_minor": 4
}
